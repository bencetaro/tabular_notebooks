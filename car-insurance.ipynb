{
 "cells": [
  {
   "cell_type": "code",
   "execution_count": 1,
   "id": "7f2e79ea",
   "metadata": {
    "execution": {
     "iopub.execute_input": "2025-03-03T11:52:30.808699Z",
     "iopub.status.busy": "2025-03-03T11:52:30.808374Z",
     "iopub.status.idle": "2025-03-03T11:52:48.718170Z",
     "shell.execute_reply": "2025-03-03T11:52:48.717498Z"
    },
    "id": "3RU3AcOkHxDD",
    "papermill": {
     "duration": 17.920877,
     "end_time": "2025-03-03T11:52:48.719870",
     "exception": false,
     "start_time": "2025-03-03T11:52:30.798993",
     "status": "completed"
    },
    "tags": []
   },
   "outputs": [],
   "source": [
    "import pandas as pd\n",
    "import numpy as np\n",
    "import matplotlib.pyplot as plt\n",
    "import seaborn as sns\n",
    "import tensorflow as tf\n",
    "import tensorflow.keras.mixed_precision as mp\n",
    "from datetime import datetime\n",
    "\n",
    "from imblearn.over_sampling import SMOTE, SVMSMOTE, RandomOverSampler\n",
    "from imblearn.under_sampling import RandomUnderSampler\n",
    "from sklearn.metrics import balanced_accuracy_score, accuracy_score, confusion_matrix, classification_report, roc_auc_score\n",
    "from sklearn.model_selection import RandomizedSearchCV, StratifiedKFold\n",
    "from sklearn.tree import DecisionTreeClassifier\n",
    "from sklearn.ensemble import RandomForestClassifier\n",
    "from sklearn.linear_model import LogisticRegression\n",
    "from xgboost import XGBClassifier\n",
    "from lightgbm import LGBMClassifier\n",
    "\n",
    "import warnings\n",
    "warnings.filterwarnings('ignore')\n",
    "\n",
    "seed = 42\n",
    "np.random.seed(seed)\n",
    "tf.random.set_seed(seed)"
   ]
  },
  {
   "cell_type": "markdown",
   "id": "9826c5fa",
   "metadata": {
    "id": "-0Qqptf4JgCV",
    "papermill": {
     "duration": 0.007113,
     "end_time": "2025-03-03T11:52:48.735169",
     "exception": false,
     "start_time": "2025-03-03T11:52:48.728056",
     "status": "completed"
    },
    "tags": []
   },
   "source": [
    "## Data inspection\n",
    "\n",
    "About the data we know:\n",
    "\n",
    "\"In the train and test data, features that belong to similar groupings are tagged as such in the feature names (e.g., ind, reg, car, calc). In addition, feature names include the postfix bin to indicate binary features and cat to indicate categorical features. Features without these designations are either continuous or ordinal. Values of -1 indicate that the feature was missing from the observation. The target columns signifies whether or not a claim was filed for that policy holder.\"\n",
    "\n",
    "- We need to handle the NAN values that are filled with -1.\n",
    "- Submissions are evaluated using the Normalized Gini Coefficient.\n",
    "- Column name meanings:\n",
    "-     - tags: ind, reg, car, calc -> same feature groups\n",
    "      - bin: binary\n",
    "      - cat: multicategory features"
   ]
  },
  {
   "cell_type": "code",
   "execution_count": 2,
   "id": "986f9e29",
   "metadata": {
    "execution": {
     "iopub.execute_input": "2025-03-03T11:52:48.751283Z",
     "iopub.status.busy": "2025-03-03T11:52:48.750575Z",
     "iopub.status.idle": "2025-03-03T11:52:58.870029Z",
     "shell.execute_reply": "2025-03-03T11:52:58.869193Z"
    },
    "id": "TQSnFtCMH4NZ",
    "outputId": "11291847-7859-4752-a5cf-dbc987239b0b",
    "papermill": {
     "duration": 10.129048,
     "end_time": "2025-03-03T11:52:58.871604",
     "exception": false,
     "start_time": "2025-03-03T11:52:48.742556",
     "status": "completed"
    },
    "tags": []
   },
   "outputs": [
    {
     "data": {
      "text/html": [
       "<div>\n",
       "<style scoped>\n",
       "    .dataframe tbody tr th:only-of-type {\n",
       "        vertical-align: middle;\n",
       "    }\n",
       "\n",
       "    .dataframe tbody tr th {\n",
       "        vertical-align: top;\n",
       "    }\n",
       "\n",
       "    .dataframe thead th {\n",
       "        text-align: right;\n",
       "    }\n",
       "</style>\n",
       "<table border=\"1\" class=\"dataframe\">\n",
       "  <thead>\n",
       "    <tr style=\"text-align: right;\">\n",
       "      <th></th>\n",
       "      <th>target</th>\n",
       "      <th>ps_ind_01</th>\n",
       "      <th>ps_ind_02_cat</th>\n",
       "      <th>ps_ind_03</th>\n",
       "      <th>ps_ind_04_cat</th>\n",
       "      <th>ps_ind_05_cat</th>\n",
       "      <th>ps_ind_06_bin</th>\n",
       "      <th>ps_ind_07_bin</th>\n",
       "      <th>ps_ind_08_bin</th>\n",
       "      <th>ps_ind_09_bin</th>\n",
       "      <th>...</th>\n",
       "      <th>ps_calc_11</th>\n",
       "      <th>ps_calc_12</th>\n",
       "      <th>ps_calc_13</th>\n",
       "      <th>ps_calc_14</th>\n",
       "      <th>ps_calc_15_bin</th>\n",
       "      <th>ps_calc_16_bin</th>\n",
       "      <th>ps_calc_17_bin</th>\n",
       "      <th>ps_calc_18_bin</th>\n",
       "      <th>ps_calc_19_bin</th>\n",
       "      <th>ps_calc_20_bin</th>\n",
       "    </tr>\n",
       "  </thead>\n",
       "  <tbody>\n",
       "    <tr>\n",
       "      <th>0</th>\n",
       "      <td>0</td>\n",
       "      <td>2</td>\n",
       "      <td>2</td>\n",
       "      <td>5</td>\n",
       "      <td>1</td>\n",
       "      <td>0</td>\n",
       "      <td>0</td>\n",
       "      <td>1</td>\n",
       "      <td>0</td>\n",
       "      <td>0</td>\n",
       "      <td>...</td>\n",
       "      <td>9</td>\n",
       "      <td>1</td>\n",
       "      <td>5</td>\n",
       "      <td>8</td>\n",
       "      <td>0</td>\n",
       "      <td>1</td>\n",
       "      <td>1</td>\n",
       "      <td>0</td>\n",
       "      <td>0</td>\n",
       "      <td>1</td>\n",
       "    </tr>\n",
       "    <tr>\n",
       "      <th>1</th>\n",
       "      <td>0</td>\n",
       "      <td>1</td>\n",
       "      <td>1</td>\n",
       "      <td>7</td>\n",
       "      <td>0</td>\n",
       "      <td>0</td>\n",
       "      <td>0</td>\n",
       "      <td>0</td>\n",
       "      <td>1</td>\n",
       "      <td>0</td>\n",
       "      <td>...</td>\n",
       "      <td>3</td>\n",
       "      <td>1</td>\n",
       "      <td>1</td>\n",
       "      <td>9</td>\n",
       "      <td>0</td>\n",
       "      <td>1</td>\n",
       "      <td>1</td>\n",
       "      <td>0</td>\n",
       "      <td>1</td>\n",
       "      <td>0</td>\n",
       "    </tr>\n",
       "    <tr>\n",
       "      <th>2</th>\n",
       "      <td>0</td>\n",
       "      <td>5</td>\n",
       "      <td>4</td>\n",
       "      <td>9</td>\n",
       "      <td>1</td>\n",
       "      <td>0</td>\n",
       "      <td>0</td>\n",
       "      <td>0</td>\n",
       "      <td>1</td>\n",
       "      <td>0</td>\n",
       "      <td>...</td>\n",
       "      <td>4</td>\n",
       "      <td>2</td>\n",
       "      <td>7</td>\n",
       "      <td>7</td>\n",
       "      <td>0</td>\n",
       "      <td>1</td>\n",
       "      <td>1</td>\n",
       "      <td>0</td>\n",
       "      <td>1</td>\n",
       "      <td>0</td>\n",
       "    </tr>\n",
       "    <tr>\n",
       "      <th>3</th>\n",
       "      <td>0</td>\n",
       "      <td>0</td>\n",
       "      <td>1</td>\n",
       "      <td>2</td>\n",
       "      <td>0</td>\n",
       "      <td>0</td>\n",
       "      <td>1</td>\n",
       "      <td>0</td>\n",
       "      <td>0</td>\n",
       "      <td>0</td>\n",
       "      <td>...</td>\n",
       "      <td>2</td>\n",
       "      <td>2</td>\n",
       "      <td>4</td>\n",
       "      <td>9</td>\n",
       "      <td>0</td>\n",
       "      <td>0</td>\n",
       "      <td>0</td>\n",
       "      <td>0</td>\n",
       "      <td>0</td>\n",
       "      <td>0</td>\n",
       "    </tr>\n",
       "    <tr>\n",
       "      <th>4</th>\n",
       "      <td>0</td>\n",
       "      <td>0</td>\n",
       "      <td>2</td>\n",
       "      <td>0</td>\n",
       "      <td>1</td>\n",
       "      <td>0</td>\n",
       "      <td>1</td>\n",
       "      <td>0</td>\n",
       "      <td>0</td>\n",
       "      <td>0</td>\n",
       "      <td>...</td>\n",
       "      <td>3</td>\n",
       "      <td>1</td>\n",
       "      <td>1</td>\n",
       "      <td>3</td>\n",
       "      <td>0</td>\n",
       "      <td>0</td>\n",
       "      <td>0</td>\n",
       "      <td>1</td>\n",
       "      <td>1</td>\n",
       "      <td>0</td>\n",
       "    </tr>\n",
       "  </tbody>\n",
       "</table>\n",
       "<p>5 rows × 58 columns</p>\n",
       "</div>"
      ],
      "text/plain": [
       "   target  ps_ind_01  ps_ind_02_cat  ps_ind_03  ps_ind_04_cat  ps_ind_05_cat  \\\n",
       "0       0          2              2          5              1              0   \n",
       "1       0          1              1          7              0              0   \n",
       "2       0          5              4          9              1              0   \n",
       "3       0          0              1          2              0              0   \n",
       "4       0          0              2          0              1              0   \n",
       "\n",
       "   ps_ind_06_bin  ps_ind_07_bin  ps_ind_08_bin  ps_ind_09_bin  ...  \\\n",
       "0              0              1              0              0  ...   \n",
       "1              0              0              1              0  ...   \n",
       "2              0              0              1              0  ...   \n",
       "3              1              0              0              0  ...   \n",
       "4              1              0              0              0  ...   \n",
       "\n",
       "   ps_calc_11  ps_calc_12  ps_calc_13  ps_calc_14  ps_calc_15_bin  \\\n",
       "0           9           1           5           8               0   \n",
       "1           3           1           1           9               0   \n",
       "2           4           2           7           7               0   \n",
       "3           2           2           4           9               0   \n",
       "4           3           1           1           3               0   \n",
       "\n",
       "   ps_calc_16_bin  ps_calc_17_bin  ps_calc_18_bin  ps_calc_19_bin  \\\n",
       "0               1               1               0               0   \n",
       "1               1               1               0               1   \n",
       "2               1               1               0               1   \n",
       "3               0               0               0               0   \n",
       "4               0               0               1               1   \n",
       "\n",
       "   ps_calc_20_bin  \n",
       "0               1  \n",
       "1               0  \n",
       "2               0  \n",
       "3               0  \n",
       "4               0  \n",
       "\n",
       "[5 rows x 58 columns]"
      ]
     },
     "execution_count": 2,
     "metadata": {},
     "output_type": "execute_result"
    }
   ],
   "source": [
    "train_data = pd.read_csv(\"/kaggle/input/porto-seguro-safe-driver-prediction/train.csv\")\n",
    "test_data = pd.read_csv(\"/kaggle/input/porto-seguro-safe-driver-prediction/test.csv\")\n",
    "\n",
    "test_data_id = test_data['id'] # Keep id separately for submission\n",
    "train_data.drop(['id'],axis=1,inplace=True)\n",
    "test_data.drop(['id'],axis=1,inplace=True)\n",
    "train_data.head()"
   ]
  },
  {
   "cell_type": "code",
   "execution_count": 3,
   "id": "6d10a4a7",
   "metadata": {
    "execution": {
     "iopub.execute_input": "2025-03-03T11:52:58.888259Z",
     "iopub.status.busy": "2025-03-03T11:52:58.888004Z",
     "iopub.status.idle": "2025-03-03T11:52:58.892448Z",
     "shell.execute_reply": "2025-03-03T11:52:58.891820Z"
    },
    "papermill": {
     "duration": 0.014091,
     "end_time": "2025-03-03T11:52:58.893747",
     "exception": false,
     "start_time": "2025-03-03T11:52:58.879656",
     "status": "completed"
    },
    "tags": []
   },
   "outputs": [],
   "source": [
    "# Rename numerical cols by adding \"_num\"\n",
    "num_cols = [col for col in train_data.columns if not (col.endswith('cat') | col.endswith('bin') | col.endswith('target'))]\n",
    "train_data.rename(columns={col: col + \"_num\" for col in num_cols}, inplace=True)\n",
    "test_data.rename(columns={col: col + \"_num\" for col in num_cols}, inplace=True)"
   ]
  },
  {
   "cell_type": "code",
   "execution_count": 4,
   "id": "e7d3c15b",
   "metadata": {
    "execution": {
     "iopub.execute_input": "2025-03-03T11:52:58.909275Z",
     "iopub.status.busy": "2025-03-03T11:52:58.909036Z",
     "iopub.status.idle": "2025-03-03T11:52:58.991508Z",
     "shell.execute_reply": "2025-03-03T11:52:58.990459Z"
    },
    "id": "hr9gEWeTH4LU",
    "outputId": "4480dde1-7bd4-402b-ad4f-c3184cf62037",
    "papermill": {
     "duration": 0.092507,
     "end_time": "2025-03-03T11:52:58.993664",
     "exception": false,
     "start_time": "2025-03-03T11:52:58.901157",
     "status": "completed"
    },
    "tags": []
   },
   "outputs": [
    {
     "name": "stdout",
     "output_type": "stream",
     "text": [
      "<class 'pandas.core.frame.DataFrame'>\n",
      "RangeIndex: 595212 entries, 0 to 595211\n",
      "Data columns (total 58 columns):\n",
      " #   Column          Non-Null Count   Dtype  \n",
      "---  ------          --------------   -----  \n",
      " 0   target          595212 non-null  int64  \n",
      " 1   ps_ind_01_num   595212 non-null  int64  \n",
      " 2   ps_ind_02_cat   595212 non-null  int64  \n",
      " 3   ps_ind_03_num   595212 non-null  int64  \n",
      " 4   ps_ind_04_cat   595212 non-null  int64  \n",
      " 5   ps_ind_05_cat   595212 non-null  int64  \n",
      " 6   ps_ind_06_bin   595212 non-null  int64  \n",
      " 7   ps_ind_07_bin   595212 non-null  int64  \n",
      " 8   ps_ind_08_bin   595212 non-null  int64  \n",
      " 9   ps_ind_09_bin   595212 non-null  int64  \n",
      " 10  ps_ind_10_bin   595212 non-null  int64  \n",
      " 11  ps_ind_11_bin   595212 non-null  int64  \n",
      " 12  ps_ind_12_bin   595212 non-null  int64  \n",
      " 13  ps_ind_13_bin   595212 non-null  int64  \n",
      " 14  ps_ind_14_num   595212 non-null  int64  \n",
      " 15  ps_ind_15_num   595212 non-null  int64  \n",
      " 16  ps_ind_16_bin   595212 non-null  int64  \n",
      " 17  ps_ind_17_bin   595212 non-null  int64  \n",
      " 18  ps_ind_18_bin   595212 non-null  int64  \n",
      " 19  ps_reg_01_num   595212 non-null  float64\n",
      " 20  ps_reg_02_num   595212 non-null  float64\n",
      " 21  ps_reg_03_num   595212 non-null  float64\n",
      " 22  ps_car_01_cat   595212 non-null  int64  \n",
      " 23  ps_car_02_cat   595212 non-null  int64  \n",
      " 24  ps_car_03_cat   595212 non-null  int64  \n",
      " 25  ps_car_04_cat   595212 non-null  int64  \n",
      " 26  ps_car_05_cat   595212 non-null  int64  \n",
      " 27  ps_car_06_cat   595212 non-null  int64  \n",
      " 28  ps_car_07_cat   595212 non-null  int64  \n",
      " 29  ps_car_08_cat   595212 non-null  int64  \n",
      " 30  ps_car_09_cat   595212 non-null  int64  \n",
      " 31  ps_car_10_cat   595212 non-null  int64  \n",
      " 32  ps_car_11_cat   595212 non-null  int64  \n",
      " 33  ps_car_11_num   595212 non-null  int64  \n",
      " 34  ps_car_12_num   595212 non-null  float64\n",
      " 35  ps_car_13_num   595212 non-null  float64\n",
      " 36  ps_car_14_num   595212 non-null  float64\n",
      " 37  ps_car_15_num   595212 non-null  float64\n",
      " 38  ps_calc_01_num  595212 non-null  float64\n",
      " 39  ps_calc_02_num  595212 non-null  float64\n",
      " 40  ps_calc_03_num  595212 non-null  float64\n",
      " 41  ps_calc_04_num  595212 non-null  int64  \n",
      " 42  ps_calc_05_num  595212 non-null  int64  \n",
      " 43  ps_calc_06_num  595212 non-null  int64  \n",
      " 44  ps_calc_07_num  595212 non-null  int64  \n",
      " 45  ps_calc_08_num  595212 non-null  int64  \n",
      " 46  ps_calc_09_num  595212 non-null  int64  \n",
      " 47  ps_calc_10_num  595212 non-null  int64  \n",
      " 48  ps_calc_11_num  595212 non-null  int64  \n",
      " 49  ps_calc_12_num  595212 non-null  int64  \n",
      " 50  ps_calc_13_num  595212 non-null  int64  \n",
      " 51  ps_calc_14_num  595212 non-null  int64  \n",
      " 52  ps_calc_15_bin  595212 non-null  int64  \n",
      " 53  ps_calc_16_bin  595212 non-null  int64  \n",
      " 54  ps_calc_17_bin  595212 non-null  int64  \n",
      " 55  ps_calc_18_bin  595212 non-null  int64  \n",
      " 56  ps_calc_19_bin  595212 non-null  int64  \n",
      " 57  ps_calc_20_bin  595212 non-null  int64  \n",
      "dtypes: float64(10), int64(48)\n",
      "memory usage: 263.4 MB\n"
     ]
    }
   ],
   "source": [
    "train_data.info()"
   ]
  },
  {
   "cell_type": "code",
   "execution_count": 5,
   "id": "7491fa7c",
   "metadata": {
    "execution": {
     "iopub.execute_input": "2025-03-03T11:52:59.010006Z",
     "iopub.status.busy": "2025-03-03T11:52:59.009773Z",
     "iopub.status.idle": "2025-03-03T11:52:59.926617Z",
     "shell.execute_reply": "2025-03-03T11:52:59.925811Z"
    },
    "id": "WaL2OZ2piCnO",
    "outputId": "78864278-72fe-4968-ea08-c141a9d704a6",
    "papermill": {
     "duration": 0.926355,
     "end_time": "2025-03-03T11:52:59.928070",
     "exception": false,
     "start_time": "2025-03-03T11:52:59.001715",
     "status": "completed"
    },
    "tags": []
   },
   "outputs": [
    {
     "data": {
      "text/html": [
       "<div>\n",
       "<style scoped>\n",
       "    .dataframe tbody tr th:only-of-type {\n",
       "        vertical-align: middle;\n",
       "    }\n",
       "\n",
       "    .dataframe tbody tr th {\n",
       "        vertical-align: top;\n",
       "    }\n",
       "\n",
       "    .dataframe thead th {\n",
       "        text-align: right;\n",
       "    }\n",
       "</style>\n",
       "<table border=\"1\" class=\"dataframe\">\n",
       "  <thead>\n",
       "    <tr style=\"text-align: right;\">\n",
       "      <th></th>\n",
       "      <th>target</th>\n",
       "      <th>ps_ind_01_num</th>\n",
       "      <th>ps_ind_02_cat</th>\n",
       "      <th>ps_ind_03_num</th>\n",
       "      <th>ps_ind_04_cat</th>\n",
       "      <th>ps_ind_05_cat</th>\n",
       "      <th>ps_ind_06_bin</th>\n",
       "      <th>ps_ind_07_bin</th>\n",
       "      <th>ps_ind_08_bin</th>\n",
       "      <th>ps_ind_09_bin</th>\n",
       "      <th>...</th>\n",
       "      <th>ps_calc_11_num</th>\n",
       "      <th>ps_calc_12_num</th>\n",
       "      <th>ps_calc_13_num</th>\n",
       "      <th>ps_calc_14_num</th>\n",
       "      <th>ps_calc_15_bin</th>\n",
       "      <th>ps_calc_16_bin</th>\n",
       "      <th>ps_calc_17_bin</th>\n",
       "      <th>ps_calc_18_bin</th>\n",
       "      <th>ps_calc_19_bin</th>\n",
       "      <th>ps_calc_20_bin</th>\n",
       "    </tr>\n",
       "  </thead>\n",
       "  <tbody>\n",
       "    <tr>\n",
       "      <th>count</th>\n",
       "      <td>595212.000000</td>\n",
       "      <td>595212.000000</td>\n",
       "      <td>595212.000000</td>\n",
       "      <td>595212.000000</td>\n",
       "      <td>595212.000000</td>\n",
       "      <td>595212.000000</td>\n",
       "      <td>595212.000000</td>\n",
       "      <td>595212.000000</td>\n",
       "      <td>595212.000000</td>\n",
       "      <td>595212.000000</td>\n",
       "      <td>...</td>\n",
       "      <td>595212.000000</td>\n",
       "      <td>595212.000000</td>\n",
       "      <td>595212.000000</td>\n",
       "      <td>595212.000000</td>\n",
       "      <td>595212.000000</td>\n",
       "      <td>595212.000000</td>\n",
       "      <td>595212.000000</td>\n",
       "      <td>595212.000000</td>\n",
       "      <td>595212.000000</td>\n",
       "      <td>595212.000000</td>\n",
       "    </tr>\n",
       "    <tr>\n",
       "      <th>mean</th>\n",
       "      <td>0.036448</td>\n",
       "      <td>1.900378</td>\n",
       "      <td>1.358943</td>\n",
       "      <td>4.423318</td>\n",
       "      <td>0.416794</td>\n",
       "      <td>0.405188</td>\n",
       "      <td>0.393742</td>\n",
       "      <td>0.257033</td>\n",
       "      <td>0.163921</td>\n",
       "      <td>0.185304</td>\n",
       "      <td>...</td>\n",
       "      <td>5.441382</td>\n",
       "      <td>1.441918</td>\n",
       "      <td>2.872288</td>\n",
       "      <td>7.539026</td>\n",
       "      <td>0.122427</td>\n",
       "      <td>0.627840</td>\n",
       "      <td>0.554182</td>\n",
       "      <td>0.287182</td>\n",
       "      <td>0.349024</td>\n",
       "      <td>0.153318</td>\n",
       "    </tr>\n",
       "    <tr>\n",
       "      <th>std</th>\n",
       "      <td>0.187401</td>\n",
       "      <td>1.983789</td>\n",
       "      <td>0.664594</td>\n",
       "      <td>2.699902</td>\n",
       "      <td>0.493311</td>\n",
       "      <td>1.350642</td>\n",
       "      <td>0.488579</td>\n",
       "      <td>0.436998</td>\n",
       "      <td>0.370205</td>\n",
       "      <td>0.388544</td>\n",
       "      <td>...</td>\n",
       "      <td>2.332871</td>\n",
       "      <td>1.202963</td>\n",
       "      <td>1.694887</td>\n",
       "      <td>2.746652</td>\n",
       "      <td>0.327779</td>\n",
       "      <td>0.483381</td>\n",
       "      <td>0.497056</td>\n",
       "      <td>0.452447</td>\n",
       "      <td>0.476662</td>\n",
       "      <td>0.360295</td>\n",
       "    </tr>\n",
       "    <tr>\n",
       "      <th>min</th>\n",
       "      <td>0.000000</td>\n",
       "      <td>0.000000</td>\n",
       "      <td>-1.000000</td>\n",
       "      <td>0.000000</td>\n",
       "      <td>-1.000000</td>\n",
       "      <td>-1.000000</td>\n",
       "      <td>0.000000</td>\n",
       "      <td>0.000000</td>\n",
       "      <td>0.000000</td>\n",
       "      <td>0.000000</td>\n",
       "      <td>...</td>\n",
       "      <td>0.000000</td>\n",
       "      <td>0.000000</td>\n",
       "      <td>0.000000</td>\n",
       "      <td>0.000000</td>\n",
       "      <td>0.000000</td>\n",
       "      <td>0.000000</td>\n",
       "      <td>0.000000</td>\n",
       "      <td>0.000000</td>\n",
       "      <td>0.000000</td>\n",
       "      <td>0.000000</td>\n",
       "    </tr>\n",
       "    <tr>\n",
       "      <th>25%</th>\n",
       "      <td>0.000000</td>\n",
       "      <td>0.000000</td>\n",
       "      <td>1.000000</td>\n",
       "      <td>2.000000</td>\n",
       "      <td>0.000000</td>\n",
       "      <td>0.000000</td>\n",
       "      <td>0.000000</td>\n",
       "      <td>0.000000</td>\n",
       "      <td>0.000000</td>\n",
       "      <td>0.000000</td>\n",
       "      <td>...</td>\n",
       "      <td>4.000000</td>\n",
       "      <td>1.000000</td>\n",
       "      <td>2.000000</td>\n",
       "      <td>6.000000</td>\n",
       "      <td>0.000000</td>\n",
       "      <td>0.000000</td>\n",
       "      <td>0.000000</td>\n",
       "      <td>0.000000</td>\n",
       "      <td>0.000000</td>\n",
       "      <td>0.000000</td>\n",
       "    </tr>\n",
       "    <tr>\n",
       "      <th>50%</th>\n",
       "      <td>0.000000</td>\n",
       "      <td>1.000000</td>\n",
       "      <td>1.000000</td>\n",
       "      <td>4.000000</td>\n",
       "      <td>0.000000</td>\n",
       "      <td>0.000000</td>\n",
       "      <td>0.000000</td>\n",
       "      <td>0.000000</td>\n",
       "      <td>0.000000</td>\n",
       "      <td>0.000000</td>\n",
       "      <td>...</td>\n",
       "      <td>5.000000</td>\n",
       "      <td>1.000000</td>\n",
       "      <td>3.000000</td>\n",
       "      <td>7.000000</td>\n",
       "      <td>0.000000</td>\n",
       "      <td>1.000000</td>\n",
       "      <td>1.000000</td>\n",
       "      <td>0.000000</td>\n",
       "      <td>0.000000</td>\n",
       "      <td>0.000000</td>\n",
       "    </tr>\n",
       "    <tr>\n",
       "      <th>75%</th>\n",
       "      <td>0.000000</td>\n",
       "      <td>3.000000</td>\n",
       "      <td>2.000000</td>\n",
       "      <td>6.000000</td>\n",
       "      <td>1.000000</td>\n",
       "      <td>0.000000</td>\n",
       "      <td>1.000000</td>\n",
       "      <td>1.000000</td>\n",
       "      <td>0.000000</td>\n",
       "      <td>0.000000</td>\n",
       "      <td>...</td>\n",
       "      <td>7.000000</td>\n",
       "      <td>2.000000</td>\n",
       "      <td>4.000000</td>\n",
       "      <td>9.000000</td>\n",
       "      <td>0.000000</td>\n",
       "      <td>1.000000</td>\n",
       "      <td>1.000000</td>\n",
       "      <td>1.000000</td>\n",
       "      <td>1.000000</td>\n",
       "      <td>0.000000</td>\n",
       "    </tr>\n",
       "    <tr>\n",
       "      <th>max</th>\n",
       "      <td>1.000000</td>\n",
       "      <td>7.000000</td>\n",
       "      <td>4.000000</td>\n",
       "      <td>11.000000</td>\n",
       "      <td>1.000000</td>\n",
       "      <td>6.000000</td>\n",
       "      <td>1.000000</td>\n",
       "      <td>1.000000</td>\n",
       "      <td>1.000000</td>\n",
       "      <td>1.000000</td>\n",
       "      <td>...</td>\n",
       "      <td>19.000000</td>\n",
       "      <td>10.000000</td>\n",
       "      <td>13.000000</td>\n",
       "      <td>23.000000</td>\n",
       "      <td>1.000000</td>\n",
       "      <td>1.000000</td>\n",
       "      <td>1.000000</td>\n",
       "      <td>1.000000</td>\n",
       "      <td>1.000000</td>\n",
       "      <td>1.000000</td>\n",
       "    </tr>\n",
       "  </tbody>\n",
       "</table>\n",
       "<p>8 rows × 58 columns</p>\n",
       "</div>"
      ],
      "text/plain": [
       "              target  ps_ind_01_num  ps_ind_02_cat  ps_ind_03_num  \\\n",
       "count  595212.000000  595212.000000  595212.000000  595212.000000   \n",
       "mean        0.036448       1.900378       1.358943       4.423318   \n",
       "std         0.187401       1.983789       0.664594       2.699902   \n",
       "min         0.000000       0.000000      -1.000000       0.000000   \n",
       "25%         0.000000       0.000000       1.000000       2.000000   \n",
       "50%         0.000000       1.000000       1.000000       4.000000   \n",
       "75%         0.000000       3.000000       2.000000       6.000000   \n",
       "max         1.000000       7.000000       4.000000      11.000000   \n",
       "\n",
       "       ps_ind_04_cat  ps_ind_05_cat  ps_ind_06_bin  ps_ind_07_bin  \\\n",
       "count  595212.000000  595212.000000  595212.000000  595212.000000   \n",
       "mean        0.416794       0.405188       0.393742       0.257033   \n",
       "std         0.493311       1.350642       0.488579       0.436998   \n",
       "min        -1.000000      -1.000000       0.000000       0.000000   \n",
       "25%         0.000000       0.000000       0.000000       0.000000   \n",
       "50%         0.000000       0.000000       0.000000       0.000000   \n",
       "75%         1.000000       0.000000       1.000000       1.000000   \n",
       "max         1.000000       6.000000       1.000000       1.000000   \n",
       "\n",
       "       ps_ind_08_bin  ps_ind_09_bin  ...  ps_calc_11_num  ps_calc_12_num  \\\n",
       "count  595212.000000  595212.000000  ...   595212.000000   595212.000000   \n",
       "mean        0.163921       0.185304  ...        5.441382        1.441918   \n",
       "std         0.370205       0.388544  ...        2.332871        1.202963   \n",
       "min         0.000000       0.000000  ...        0.000000        0.000000   \n",
       "25%         0.000000       0.000000  ...        4.000000        1.000000   \n",
       "50%         0.000000       0.000000  ...        5.000000        1.000000   \n",
       "75%         0.000000       0.000000  ...        7.000000        2.000000   \n",
       "max         1.000000       1.000000  ...       19.000000       10.000000   \n",
       "\n",
       "       ps_calc_13_num  ps_calc_14_num  ps_calc_15_bin  ps_calc_16_bin  \\\n",
       "count   595212.000000   595212.000000   595212.000000   595212.000000   \n",
       "mean         2.872288        7.539026        0.122427        0.627840   \n",
       "std          1.694887        2.746652        0.327779        0.483381   \n",
       "min          0.000000        0.000000        0.000000        0.000000   \n",
       "25%          2.000000        6.000000        0.000000        0.000000   \n",
       "50%          3.000000        7.000000        0.000000        1.000000   \n",
       "75%          4.000000        9.000000        0.000000        1.000000   \n",
       "max         13.000000       23.000000        1.000000        1.000000   \n",
       "\n",
       "       ps_calc_17_bin  ps_calc_18_bin  ps_calc_19_bin  ps_calc_20_bin  \n",
       "count   595212.000000   595212.000000   595212.000000   595212.000000  \n",
       "mean         0.554182        0.287182        0.349024        0.153318  \n",
       "std          0.497056        0.452447        0.476662        0.360295  \n",
       "min          0.000000        0.000000        0.000000        0.000000  \n",
       "25%          0.000000        0.000000        0.000000        0.000000  \n",
       "50%          1.000000        0.000000        0.000000        0.000000  \n",
       "75%          1.000000        1.000000        1.000000        0.000000  \n",
       "max          1.000000        1.000000        1.000000        1.000000  \n",
       "\n",
       "[8 rows x 58 columns]"
      ]
     },
     "execution_count": 5,
     "metadata": {},
     "output_type": "execute_result"
    }
   ],
   "source": [
    "train_data.describe()"
   ]
  },
  {
   "cell_type": "markdown",
   "id": "38bf9fe5",
   "metadata": {
    "id": "sIBXGusDJ1Wa",
    "papermill": {
     "duration": 0.007587,
     "end_time": "2025-03-03T11:52:59.944874",
     "exception": false,
     "start_time": "2025-03-03T11:52:59.937287",
     "status": "completed"
    },
    "tags": []
   },
   "source": [
    "## Handle NANs"
   ]
  },
  {
   "cell_type": "code",
   "execution_count": 6,
   "id": "f1f3f73c",
   "metadata": {
    "execution": {
     "iopub.execute_input": "2025-03-03T11:52:59.961175Z",
     "iopub.status.busy": "2025-03-03T11:52:59.960945Z",
     "iopub.status.idle": "2025-03-03T11:53:00.444669Z",
     "shell.execute_reply": "2025-03-03T11:53:00.443656Z"
    },
    "id": "918gkFumH4GH",
    "outputId": "994e7cd6-ecac-4227-affd-9cb39fab03e6",
    "papermill": {
     "duration": 0.493423,
     "end_time": "2025-03-03T11:53:00.446080",
     "exception": false,
     "start_time": "2025-03-03T11:52:59.952657",
     "status": "completed"
    },
    "tags": []
   },
   "outputs": [
    {
     "name": "stdout",
     "output_type": "stream",
     "text": [
      "Amount of missing data:\n",
      "                Total    Percent\n",
      "ps_car_03_cat  411231  69.089837\n",
      "ps_car_05_cat  266551  44.782531\n",
      "ps_reg_03_num  107772  18.106490\n",
      "ps_car_14_num   42620   7.160474\n",
      "ps_car_07_cat   11489   1.930237\n",
      "ps_ind_05_cat    5809   0.975955\n",
      "ps_car_09_cat     569   0.095596\n",
      "ps_ind_02_cat     216   0.036290\n",
      "ps_car_01_cat     107   0.017977\n",
      "ps_ind_04_cat      83   0.013945\n",
      "ps_car_02_cat       5   0.000840\n",
      "ps_car_11_num       5   0.000840\n",
      "ps_car_12_num       1   0.000168\n"
     ]
    }
   ],
   "source": [
    "# Replace -1 with nans first\n",
    "train_data = train_data.replace(-1, np.nan)\n",
    "test_data = test_data.replace(-1, np.nan)\n",
    "\n",
    "# Now lets see how many missing values we have\n",
    "missing_data = train_data.isnull().sum().sort_values(ascending=False)\n",
    "missing_percent = (train_data.isnull().sum()) / len(train_data)*100\n",
    "missing_data = pd.concat([missing_data, missing_percent], axis=1, keys=[\"Total\", \"Percent\"])\n",
    "\n",
    "print(f\"Amount of missing data:\\n{missing_data[missing_data['Total']>0]}\")"
   ]
  },
  {
   "cell_type": "code",
   "execution_count": 7,
   "id": "af4b3bee",
   "metadata": {
    "execution": {
     "iopub.execute_input": "2025-03-03T11:53:00.463356Z",
     "iopub.status.busy": "2025-03-03T11:53:00.463086Z",
     "iopub.status.idle": "2025-03-03T11:53:00.859278Z",
     "shell.execute_reply": "2025-03-03T11:53:00.858483Z"
    },
    "id": "ntkp8YPxH4ES",
    "papermill": {
     "duration": 0.406421,
     "end_time": "2025-03-03T11:53:00.860925",
     "exception": false,
     "start_time": "2025-03-03T11:53:00.454504",
     "status": "completed"
    },
    "tags": []
   },
   "outputs": [],
   "source": [
    "# Drop the cols with more than 20 percent missing data\n",
    "cols_to_drop = list(missing_data.loc[missing_data['Percent']>20].index)\n",
    "train_data.drop(columns=cols_to_drop, inplace=True)\n",
    "test_data.drop(columns=cols_to_drop, inplace=True)"
   ]
  },
  {
   "cell_type": "code",
   "execution_count": 8,
   "id": "cb3c75d4",
   "metadata": {
    "execution": {
     "iopub.execute_input": "2025-03-03T11:53:00.878810Z",
     "iopub.status.busy": "2025-03-03T11:53:00.878546Z",
     "iopub.status.idle": "2025-03-03T11:53:05.032138Z",
     "shell.execute_reply": "2025-03-03T11:53:05.031452Z"
    },
    "id": "aooXDOJCH4B8",
    "papermill": {
     "duration": 4.163993,
     "end_time": "2025-03-03T11:53:05.033761",
     "exception": false,
     "start_time": "2025-03-03T11:53:00.869768",
     "status": "completed"
    },
    "tags": []
   },
   "outputs": [],
   "source": [
    "# Impute missing values\n",
    "from sklearn.impute import SimpleImputer\n",
    "cat_imputer = SimpleImputer(strategy='most_frequent')\n",
    "num_imputer = SimpleImputer(strategy='median')\n",
    "\n",
    "bin_cols = [col for col in train_data.columns if col.endswith('bin')]\n",
    "cat_cols = [col for col in train_data.columns if col.endswith('cat')]\n",
    "num_cols = [col for col in train_data.columns if col.endswith('num')]\n",
    "\n",
    "train_data[num_cols] = num_imputer.fit_transform(train_data[num_cols])\n",
    "test_data[num_cols] = num_imputer.transform(test_data[num_cols])\n",
    "train_data[cat_cols] = cat_imputer.fit_transform(train_data[cat_cols])\n",
    "test_data[cat_cols] = cat_imputer.transform(test_data[cat_cols])\n",
    "train_data[bin_cols] = np.round(cat_imputer.fit_transform(train_data[bin_cols]))\n",
    "test_data[bin_cols] = np.round(cat_imputer.transform(test_data[bin_cols]))"
   ]
  },
  {
   "cell_type": "code",
   "execution_count": 9,
   "id": "a5b27278",
   "metadata": {
    "execution": {
     "iopub.execute_input": "2025-03-03T11:53:05.050944Z",
     "iopub.status.busy": "2025-03-03T11:53:05.050710Z",
     "iopub.status.idle": "2025-03-03T11:53:05.133125Z",
     "shell.execute_reply": "2025-03-03T11:53:05.132293Z"
    },
    "id": "mwO2Jqr3H3_m",
    "outputId": "84c037b0-e2ab-4595-b661-668ee4f5c75f",
    "papermill": {
     "duration": 0.092433,
     "end_time": "2025-03-03T11:53:05.134574",
     "exception": false,
     "start_time": "2025-03-03T11:53:05.042141",
     "status": "completed"
    },
    "tags": []
   },
   "outputs": [
    {
     "data": {
      "text/plain": [
       "target            0\n",
       "ps_ind_01_num     0\n",
       "ps_ind_02_cat     0\n",
       "ps_ind_03_num     0\n",
       "ps_ind_04_cat     0\n",
       "ps_ind_05_cat     0\n",
       "ps_ind_06_bin     0\n",
       "ps_ind_07_bin     0\n",
       "ps_ind_08_bin     0\n",
       "ps_ind_09_bin     0\n",
       "ps_ind_10_bin     0\n",
       "ps_ind_11_bin     0\n",
       "ps_ind_12_bin     0\n",
       "ps_ind_13_bin     0\n",
       "ps_ind_14_num     0\n",
       "ps_ind_15_num     0\n",
       "ps_ind_16_bin     0\n",
       "ps_ind_17_bin     0\n",
       "ps_ind_18_bin     0\n",
       "ps_reg_01_num     0\n",
       "ps_reg_02_num     0\n",
       "ps_reg_03_num     0\n",
       "ps_car_01_cat     0\n",
       "ps_car_02_cat     0\n",
       "ps_car_04_cat     0\n",
       "ps_car_06_cat     0\n",
       "ps_car_07_cat     0\n",
       "ps_car_08_cat     0\n",
       "ps_car_09_cat     0\n",
       "ps_car_10_cat     0\n",
       "ps_car_11_cat     0\n",
       "ps_car_11_num     0\n",
       "ps_car_12_num     0\n",
       "ps_car_13_num     0\n",
       "ps_car_14_num     0\n",
       "ps_car_15_num     0\n",
       "ps_calc_01_num    0\n",
       "ps_calc_02_num    0\n",
       "ps_calc_03_num    0\n",
       "ps_calc_04_num    0\n",
       "ps_calc_05_num    0\n",
       "ps_calc_06_num    0\n",
       "ps_calc_07_num    0\n",
       "ps_calc_08_num    0\n",
       "ps_calc_09_num    0\n",
       "ps_calc_10_num    0\n",
       "ps_calc_11_num    0\n",
       "ps_calc_12_num    0\n",
       "ps_calc_13_num    0\n",
       "ps_calc_14_num    0\n",
       "ps_calc_15_bin    0\n",
       "ps_calc_16_bin    0\n",
       "ps_calc_17_bin    0\n",
       "ps_calc_18_bin    0\n",
       "ps_calc_19_bin    0\n",
       "ps_calc_20_bin    0\n",
       "dtype: int64"
      ]
     },
     "execution_count": 9,
     "metadata": {},
     "output_type": "execute_result"
    }
   ],
   "source": [
    "train_data.isna().sum()"
   ]
  },
  {
   "cell_type": "markdown",
   "id": "10e19e78",
   "metadata": {
    "id": "pqPXoz4GaKZO",
    "papermill": {
     "duration": 0.008255,
     "end_time": "2025-03-03T11:53:05.151850",
     "exception": false,
     "start_time": "2025-03-03T11:53:05.143595",
     "status": "completed"
    },
    "tags": []
   },
   "source": [
    "## Reduce multicollinearity"
   ]
  },
  {
   "cell_type": "code",
   "execution_count": 10,
   "id": "071e3ed1",
   "metadata": {
    "execution": {
     "iopub.execute_input": "2025-03-03T11:53:05.169042Z",
     "iopub.status.busy": "2025-03-03T11:53:05.168786Z",
     "iopub.status.idle": "2025-03-03T11:53:10.054337Z",
     "shell.execute_reply": "2025-03-03T11:53:10.053335Z"
    },
    "id": "M93Gpp52aPc7",
    "outputId": "5c972fd8-d6be-471d-c5d3-377b7fdef375",
    "papermill": {
     "duration": 4.895799,
     "end_time": "2025-03-03T11:53:10.055811",
     "exception": false,
     "start_time": "2025-03-03T11:53:05.160012",
     "status": "completed"
    },
    "tags": []
   },
   "outputs": [
    {
     "name": "stdout",
     "output_type": "stream",
     "text": [
      "High correlation pairs:\n",
      "ps_ind_14_num - ps_ind_12_bin: 0.890\n",
      "ps_reg_03_num - ps_reg_02_num: 0.728\n",
      "Dropped features: {'ps_ind_14_num', 'ps_reg_03_num'}\n"
     ]
    }
   ],
   "source": [
    "# Define correlation thresholds\n",
    "corr_thd = 0.7  # Feature to feature correlation\n",
    "target_corr_thd = 0.05  # Correlation with target\n",
    "\n",
    "# Identify highly correlated features\n",
    "corr_matrix = train_data.corr()\n",
    "upper_tri = corr_matrix.where(np.triu(np.ones(corr_matrix.shape), k=1).astype(bool))\n",
    "high_corr_pairs = [(col, row, abs(upper_tri.loc[row, col])) for col in upper_tri.columns for row in upper_tri.index if abs(upper_tri.loc[row, col]) > corr_thd]\n",
    "print(\"High correlation pairs:\")\n",
    "for pair in high_corr_pairs:\n",
    "    print(f\"{pair[0]} - {pair[1]}: {pair[2]:.3f}\")\n",
    "\n",
    "# Compare the pairs and choose the better predictor\n",
    "target_corr = corr_matrix[\"target\"].abs() # Abs correlation with target\n",
    "\n",
    "features_to_drop = set()\n",
    "\n",
    "for col1, col2, _ in high_corr_pairs:\n",
    "    if target_corr[col1] > target_corr[col2]:\n",
    "        features_to_drop.add(col2)\n",
    "    else:\n",
    "        features_to_drop.add(col1)\n",
    "\n",
    "# Keep the stronger target correlation feature\n",
    "train_data.drop(columns=features_to_drop, inplace=True)\n",
    "test_data.drop(columns=features_to_drop, inplace=True)\n",
    "print(f\"Dropped features: {features_to_drop}\")"
   ]
  },
  {
   "cell_type": "code",
   "execution_count": 11,
   "id": "40622884",
   "metadata": {
    "execution": {
     "iopub.execute_input": "2025-03-03T11:53:10.074147Z",
     "iopub.status.busy": "2025-03-03T11:53:10.073903Z",
     "iopub.status.idle": "2025-03-03T11:53:10.077907Z",
     "shell.execute_reply": "2025-03-03T11:53:10.077033Z"
    },
    "papermill": {
     "duration": 0.014408,
     "end_time": "2025-03-03T11:53:10.079230",
     "exception": false,
     "start_time": "2025-03-03T11:53:10.064822",
     "status": "completed"
    },
    "tags": []
   },
   "outputs": [
    {
     "name": "stdout",
     "output_type": "stream",
     "text": [
      "Binary: 17, Multi: 12, Num: 24 Total should be: 53\n"
     ]
    }
   ],
   "source": [
    "# Filter out dropped features\n",
    "num_cols = [col for col in num_cols if col not in features_to_drop]\n",
    "print(f\"Binary: {len(bin_cols)}, Multi: {len(cat_cols)}, Num: {len(num_cols)} Total should be: {len(train_data.columns)-1}\")"
   ]
  },
  {
   "cell_type": "markdown",
   "id": "dc86af8b",
   "metadata": {
    "papermill": {
     "duration": 0.008102,
     "end_time": "2025-03-03T11:53:10.095529",
     "exception": false,
     "start_time": "2025-03-03T11:53:10.087427",
     "status": "completed"
    },
    "tags": []
   },
   "source": [
    "## Scale and encode features"
   ]
  },
  {
   "cell_type": "code",
   "execution_count": 12,
   "id": "81c9eb6d",
   "metadata": {
    "execution": {
     "iopub.execute_input": "2025-03-03T11:53:10.112689Z",
     "iopub.status.busy": "2025-03-03T11:53:10.112420Z",
     "iopub.status.idle": "2025-03-03T11:53:14.707569Z",
     "shell.execute_reply": "2025-03-03T11:53:14.706752Z"
    },
    "papermill": {
     "duration": 4.606497,
     "end_time": "2025-03-03T11:53:14.710143",
     "exception": false,
     "start_time": "2025-03-03T11:53:10.103646",
     "status": "completed"
    },
    "tags": []
   },
   "outputs": [
    {
     "data": {
      "image/png": "[encoded data removed]",
      "text/plain": [
       "<Figure size 1500x1000 with 25 Axes>"
      ]
     },
     "metadata": {},
     "output_type": "display_data"
    }
   ],
   "source": [
    "# Plot histograms for numerical features\n",
    "train_data[num_cols].hist(figsize=(15, 10), bins=30)\n",
    "plt.tight_layout()\n",
    "plt.show()"
   ]
  },
  {
   "cell_type": "code",
   "execution_count": 13,
   "id": "1658ca24",
   "metadata": {
    "execution": {
     "iopub.execute_input": "2025-03-03T11:53:14.735283Z",
     "iopub.status.busy": "2025-03-03T11:53:14.734994Z",
     "iopub.status.idle": "2025-03-03T11:53:15.154911Z",
     "shell.execute_reply": "2025-03-03T11:53:15.153955Z"
    },
    "papermill": {
     "duration": 0.435729,
     "end_time": "2025-03-03T11:53:15.156823",
     "exception": false,
     "start_time": "2025-03-03T11:53:14.721094",
     "status": "completed"
    },
    "tags": []
   },
   "outputs": [
    {
     "name": "stdout",
     "output_type": "stream",
     "text": [
      "ps_ind_01_num has [8] [float64]:\n",
      "[2. 1. 5. 0. 4. 3. 6. 7.]\n",
      "\n",
      "ps_ind_03_num has [12] [float64]:\n",
      "[ 5.  7.  9.  2.  0.  4.  3.  1. 11.  6.  8. 10.]\n",
      "\n",
      "ps_ind_15_num has [14] [float64]:\n",
      "[11.  3. 12.  8.  9.  6. 13.  4. 10.  5.  7.  2.  0.  1.]\n",
      "\n",
      "ps_reg_01_num has [10] [float64]:\n",
      "[0.7 0.8 0.  0.9 0.6 0.5 0.4 0.3 0.2 0.1]\n",
      "\n",
      "ps_reg_02_num has [19] [float64]:\n",
      "[0.2 0.4 0.  0.6 1.8 0.1 0.7 1.4 0.9 0.3 0.5 0.8 1.  1.3 1.6 1.5 1.2 1.1\n",
      " 1.7]\n",
      "\n",
      "ps_car_11_num has [4] [float64]:\n",
      "[2. 3. 1. 0.]\n",
      "\n",
      "ps_car_12_num has [183] [float64]:\n",
      "[0.4        0.31622777 0.37416574 0.31606961 0.44598206 0.44698993\n",
      " 0.4472136  0.54772256 0.31527766 0.42426407 0.52915026 0.39987498\n",
      " 0.40841156 0.38729833 0.42355637 0.4237924  0.36055513 0.39749214\n",
      " 0.51961524 0.41797129 0.48989795 0.42201896 0.31559468 0.44586994\n",
      " 0.39862263 0.56568542 0.64807407 0.39974992 0.59160798 0.47958315]\n",
      "...\n",
      "\n",
      "ps_car_13_num has [70482] [float64]:\n",
      "[0.88367892 0.61881652 0.64158572 0.54294879 0.5658315  0.87904907\n",
      " 0.6396829  0.90057374 0.78064129 1.45818437 0.87519773 0.95449134\n",
      " 0.76533901 0.98331115 0.56652486 1.71915797 0.763704   0.87629479\n",
      " 0.6682282  0.46459349 0.5687815  0.57596488 0.98443464 0.72873433\n",
      " 0.72103862 0.89475053 1.31459543 0.68010391 0.72026453 0.6424707 ]\n",
      "...\n",
      "\n",
      "ps_car_14_num has [849] [float64]:\n",
      "[0.37080992 0.38871583 0.34727511 0.29495762 0.36510273 0.40620192\n",
      " 0.36878178 0.3748333  0.40743098 0.39025633 0.42953463 0.37934153\n",
      " 0.38509739 0.35608988 0.35832946 0.5329165  0.34985711 0.3207803\n",
      " 0.36633318 0.36124784 0.37027017 0.36837481 0.40137264 0.41291646\n",
      " 0.52773099 0.4        0.44158804 0.38209946 0.36152455 0.38170669]\n",
      "...\n",
      "\n",
      "ps_car_15_num has [15] [float64]:\n",
      "[3.60555128 2.44948974 3.31662479 2.         3.         3.16227766\n",
      " 2.82842712 3.74165739 2.64575131 0.         1.41421356 3.46410162\n",
      " 1.73205081 2.23606798 1.        ]\n",
      "\n",
      "ps_calc_01_num has [10] [float64]:\n",
      "[0.6 0.3 0.5 0.4 0.7 0.2 0.1 0.9 0.8 0. ]\n",
      "\n",
      "ps_calc_02_num has [10] [float64]:\n",
      "[0.5 0.1 0.7 0.9 0.6 0.8 0.4 0.  0.3 0.2]\n",
      "\n",
      "ps_calc_03_num has [10] [float64]:\n",
      "[0.2 0.3 0.1 0.  0.4 0.5 0.6 0.8 0.9 0.7]\n",
      "\n",
      "ps_calc_04_num has [6] [float64]:\n",
      "[3. 2. 1. 4. 0. 5.]\n",
      "\n",
      "ps_calc_05_num has [7] [float64]:\n",
      "[1. 2. 4. 3. 0. 5. 6.]\n",
      "\n",
      "ps_calc_06_num has [11] [float64]:\n",
      "[10.  9.  7.  6.  8.  5.  4.  3.  2.  1.  0.]\n",
      "\n",
      "ps_calc_07_num has [10] [float64]:\n",
      "[1. 5. 3. 2. 4. 6. 0. 7. 8. 9.]\n",
      "\n",
      "ps_calc_08_num has [11] [float64]:\n",
      "[10.  8. 11.  6.  9.  7.  5. 12.  4.  3.  2.]\n",
      "\n",
      "ps_calc_09_num has [8] [float64]:\n",
      "[1. 2. 4. 3. 0. 5. 6. 7.]\n",
      "\n",
      "ps_calc_10_num has [26] [float64]:\n",
      "[ 5.  7.  2. 12.  8. 10. 13. 11.  9. 18.  4. 15.  6. 14. 16.  3.  1. 17.\n",
      "  0. 21. 19. 20. 22. 23. 25. 24.]\n",
      "\n",
      "ps_calc_11_num has [20] [float64]:\n",
      "[ 9.  3.  4.  2.  7.  6.  5. 10.  8.  1.  0. 13. 11. 12. 14. 15. 16. 19.\n",
      " 17. 18.]\n",
      "\n",
      "ps_calc_12_num has [11] [float64]:\n",
      "[ 1.  2.  0.  5.  3.  4.  6.  7.  8.  9. 10.]\n",
      "\n",
      "ps_calc_13_num has [14] [float64]:\n",
      "[ 5.  1.  7.  4.  0.  3.  6.  2.  8. 10.  9. 11. 12. 13.]\n",
      "\n",
      "ps_calc_14_num has [24] [float64]:\n",
      "[ 8.  9.  7.  3. 10.  6.  5. 11.  4. 14. 13. 12. 16.  2.  1. 15. 17.  0.\n",
      " 19. 20. 18. 22. 21. 23.]\n",
      "\n"
     ]
    }
   ],
   "source": [
    "# Checking num cols unique values to identify real numerical cols\n",
    "for col in num_cols:\n",
    "    if len(train_data[col].unique()) < 30:\n",
    "        print(f\"{col} has [{len(train_data[col].unique())}] [{train_data[col].dtype}]:\\n{train_data[col].unique()}\");print();\n",
    "    else:\n",
    "        print(f\"{col} has [{len(train_data[col].unique())}] [{train_data[col].dtype}]:\\n{train_data[col].unique()[:30]}\\n...\");print(); "
   ]
  },
  {
   "cell_type": "code",
   "execution_count": 14,
   "id": "4efc0350",
   "metadata": {
    "execution": {
     "iopub.execute_input": "2025-03-03T11:53:15.180092Z",
     "iopub.status.busy": "2025-03-03T11:53:15.179840Z",
     "iopub.status.idle": "2025-03-03T11:53:18.223882Z",
     "shell.execute_reply": "2025-03-03T11:53:18.222657Z"
    },
    "papermill": {
     "duration": 3.057386,
     "end_time": "2025-03-03T11:53:18.225462",
     "exception": false,
     "start_time": "2025-03-03T11:53:15.168076",
     "status": "completed"
    },
    "tags": []
   },
   "outputs": [
    {
     "name": "stdout",
     "output_type": "stream",
     "text": [
      "Binary: 17\n",
      "Multi: 14 (ohe:47, le:14)\n",
      "Num: 9\n",
      "Total should be: 87\n"
     ]
    }
   ],
   "source": [
    "# Based on this we can see that most of these columns are categoricals.\n",
    "# Therefore we need to scale them differently:\n",
    "# - First I filter out the 'real' numericals and scale them with Standard scaler\n",
    "# - Next I add the 'false' numericals to the categoricals\n",
    "# - Then I am going to handle the categoricals in 2 ways:\n",
    "#   - One-hot encode the features with 10+ categories\n",
    "#   - Label encode the features with 10- categories\n",
    "\n",
    "from sklearn.preprocessing import StandardScaler, LabelEncoder, OrdinalEncoder\n",
    "\n",
    "# Lists of feature groups\n",
    "real_nums = [\n",
    "    'ps_car_13_num', 'ps_car_14_num','ps_car_15_num',\n",
    "    'ps_calc_01_num', 'ps_calc_02_num', 'ps_calc_03_num',\n",
    "    'ps_reg_01_num', 'ps_reg_02_num', 'ps_car_12_num',\n",
    "]\n",
    "false_nums = [\n",
    "    'ps_ind_01_num', 'ps_ind_03_num', 'ps_ind_15_num',\n",
    "    'ps_car_11_num', 'ps_calc_04_num', 'ps_calc_05_num',\n",
    "    'ps_calc_06_num', 'ps_calc_07_num', 'ps_calc_08_num',\n",
    "    'ps_calc_09_num', 'ps_calc_10_num', 'ps_calc_11_num',\n",
    "    'ps_calc_12_num', 'ps_calc_13_num', 'ps_calc_14_num'\n",
    "]\n",
    "\n",
    "# There is a 'ps_car_11_num' and a 'ps_car_11_cat' among the features so I will rename it to 'ps_car_16_num'\n",
    "# to avoid duplicates\n",
    "train_data.rename(columns={'ps_car_11_num':'ps_car_16_num'}, inplace=True)\n",
    "test_data.rename(columns={'ps_car_11_num':'ps_car_16_num'}, inplace=True)\n",
    "false_nums[3] = 'ps_car_16_num'\n",
    "\n",
    "# Rename the false num cols and recollect them\n",
    "train_data.rename(columns={col: col.replace(\"_num\",\"_cat\") for col in false_nums}, inplace=True)\n",
    "test_data.rename(columns={col: col.replace(\"_num\",\"_cat\") for col in false_nums}, inplace=True)\n",
    "cat_cols = [col for col in train_data.columns if col.endswith('cat')]\n",
    "num_cols = [col for col in train_data.columns if col.endswith('num')]\n",
    "\n",
    "# Convert the flase nums to integer (labelencoder has problem with float)\n",
    "for col in cat_cols:\n",
    "    train_data[col] = train_data[col].astype('int64')\n",
    "    test_data[col] = test_data[col].astype('int64')\n",
    "\n",
    "# CHECK DATA\n",
    "# for col in cat_cols:\n",
    "#     print(f\"Column: {col}\\nDtype:\\n{type(train_data[col])}\\nUnique Values: {train_data[col].nunique()}\");print();\n",
    "\n",
    "# # Handle categoricals differently\n",
    "ohe_cols = [col for col in cat_cols if train_data[col].nunique() < 10]\n",
    "le_cols = [col for col in cat_cols if train_data[col].nunique() >= 10]\n",
    "train_data.rename(columns={col: col.replace(\"_cat\",\"_ohe\") for col in ohe_cols}, inplace=True)\n",
    "test_data.rename(columns={col: col.replace(\"_cat\",\"_ohe\") for col in ohe_cols}, inplace=True)\n",
    "cat_cols = [col for col in train_data.columns if col.endswith('cat')]\n",
    "ohe_cols = [col for col in train_data.columns if col.endswith('ohe')]\n",
    "\n",
    "# Standard scale continuous numerical features\n",
    "scaler_std = StandardScaler()\n",
    "train_data[num_cols] = scaler_std.fit_transform(train_data[num_cols])\n",
    "test_data[num_cols] = scaler_std.transform(test_data[num_cols])\n",
    "\n",
    "# Label encode 10+ categorical features\n",
    "le_encoder = OrdinalEncoder(handle_unknown=\"use_encoded_value\", unknown_value=-1)  # Assign -1 to unknown values\n",
    "train_data[le_cols] = le_encoder.fit_transform(train_data[le_cols])\n",
    "test_data[le_cols] = le_encoder.transform(test_data[le_cols])\n",
    "\n",
    "# One-hot encode the rest\n",
    "train_data = pd.get_dummies(train_data, columns=ohe_cols, drop_first=True)\n",
    "test_data = pd.get_dummies(test_data, columns=ohe_cols, drop_first=True)\n",
    "train_data, test_data = train_data.align(test_data, join='left', axis=1, fill_value=0)\n",
    "\n",
    "# Recollect ohe cols since pandas renames them with postfix\n",
    "ohe_cols = [col for col in train_data.columns if 'ohe' in col]\n",
    "\n",
    "print(f\"Binary: {len(bin_cols)}\\nMulti: {len(cat_cols)} (ohe:{len(ohe_cols)}, le:{len(le_cols)})\\nNum: {len(num_cols)}\\nTotal should be: {len(train_data.columns)-1}\")"
   ]
  },
  {
   "cell_type": "code",
   "execution_count": 15,
   "id": "3871045d",
   "metadata": {
    "execution": {
     "iopub.execute_input": "2025-03-03T11:53:18.248177Z",
     "iopub.status.busy": "2025-03-03T11:53:18.247928Z",
     "iopub.status.idle": "2025-03-03T11:53:18.252496Z",
     "shell.execute_reply": "2025-03-03T11:53:18.251772Z"
    },
    "papermill": {
     "duration": 0.017059,
     "end_time": "2025-03-03T11:53:18.253642",
     "exception": false,
     "start_time": "2025-03-03T11:53:18.236583",
     "status": "completed"
    },
    "tags": []
   },
   "outputs": [
    {
     "data": {
      "text/plain": [
       "(88, 88)"
      ]
     },
     "execution_count": 15,
     "metadata": {},
     "output_type": "execute_result"
    }
   ],
   "source": [
    "# Both with target\n",
    "len(train_data.columns), len(test_data.columns) "
   ]
  },
  {
   "cell_type": "markdown",
   "id": "d3b4a035",
   "metadata": {
    "id": "pifr-R8ZvPFG",
    "papermill": {
     "duration": 0.010387,
     "end_time": "2025-03-03T11:53:18.274761",
     "exception": false,
     "start_time": "2025-03-03T11:53:18.264374",
     "status": "completed"
    },
    "tags": []
   },
   "source": [
    "## Remove low variance features"
   ]
  },
  {
   "cell_type": "code",
   "execution_count": 16,
   "id": "83a661af",
   "metadata": {
    "execution": {
     "iopub.execute_input": "2025-03-03T11:53:18.296949Z",
     "iopub.status.busy": "2025-03-03T11:53:18.296698Z",
     "iopub.status.idle": "2025-03-03T11:53:18.806250Z",
     "shell.execute_reply": "2025-03-03T11:53:18.805184Z"
    },
    "id": "ERmtzurcvSha",
    "outputId": "0ccfca2e-34dd-4975-860a-cc333c22be4e",
    "papermill": {
     "duration": 0.52231,
     "end_time": "2025-03-03T11:53:18.807766",
     "exception": false,
     "start_time": "2025-03-03T11:53:18.285456",
     "status": "completed"
    },
    "tags": []
   },
   "outputs": [
    {
     "name": "stdout",
     "output_type": "stream",
     "text": [
      "Number of cols before (train): 88\n",
      "Number of cols before (test): 88\n",
      "\n",
      "Number of cols after (train): 76\n",
      "Number of cols after (test): 76\n"
     ]
    }
   ],
   "source": [
    "print(f\"Number of cols before (train): {len(train_data.columns)}\")\n",
    "print(f\"Number of cols before (test): {len(test_data.columns)}\");print()\n",
    "\n",
    "threshold = 0.01\n",
    "variances = train_data.drop(['target'],axis=1).var()\n",
    "sorted_variances = variances.sort_values() # sorting them in asc\n",
    "low_variance_features = variances[variances < threshold].index.tolist() # threshold low var features as <1%\n",
    "train_data = train_data.drop(columns=low_variance_features) # drop low var features\n",
    "test_data = test_data.drop(columns=low_variance_features) # drop low var features\n",
    "\n",
    "print(f\"Number of cols after (train): {len(train_data.columns)}\")\n",
    "print(f\"Number of cols after (test): {len(test_data.columns)}\")"
   ]
  },
  {
   "cell_type": "code",
   "execution_count": 17,
   "id": "2c236226",
   "metadata": {
    "execution": {
     "iopub.execute_input": "2025-03-03T11:53:18.831246Z",
     "iopub.status.busy": "2025-03-03T11:53:18.830908Z",
     "iopub.status.idle": "2025-03-03T11:53:18.836175Z",
     "shell.execute_reply": "2025-03-03T11:53:18.835304Z"
    },
    "id": "eDS5RIKEifMF",
    "papermill": {
     "duration": 0.018649,
     "end_time": "2025-03-03T11:53:18.837646",
     "exception": false,
     "start_time": "2025-03-03T11:53:18.818997",
     "status": "completed"
    },
    "tags": []
   },
   "outputs": [
    {
     "name": "stdout",
     "output_type": "stream",
     "text": [
      "Binary: 13, Multi: 53, Num: 9\n"
     ]
    }
   ],
   "source": [
    "# Update cols\n",
    "bin_cols = [col for col in train_data.columns if 'bin' in col]\n",
    "num_cols = [col for col in train_data.columns if 'num' in col]\n",
    "cat_cols = [col for col in train_data.columns if ('cat' in col) | ('ohe' in col)]\n",
    "print(f\"Binary: {len(bin_cols)}, Multi: {len(cat_cols)}, Num: {len(num_cols)}\")"
   ]
  },
  {
   "cell_type": "markdown",
   "id": "5cdd9f37",
   "metadata": {
    "id": "HIwD7h5zrFu8",
    "papermill": {
     "duration": 0.010795,
     "end_time": "2025-03-03T11:53:18.859536",
     "exception": false,
     "start_time": "2025-03-03T11:53:18.848741",
     "status": "completed"
    },
    "tags": []
   },
   "source": [
    "## Feature selection\n",
    "\n",
    "- PCA\n",
    "- Mutual Information\n"
   ]
  },
  {
   "cell_type": "code",
   "execution_count": 18,
   "id": "8a9486ae",
   "metadata": {
    "execution": {
     "iopub.execute_input": "2025-03-03T11:53:18.882294Z",
     "iopub.status.busy": "2025-03-03T11:53:18.881999Z",
     "iopub.status.idle": "2025-03-03T11:53:18.885502Z",
     "shell.execute_reply": "2025-03-03T11:53:18.884835Z"
    },
    "id": "gceXCkB_rIyQ",
    "outputId": "68e6cbfe-f7d3-4dda-e6ad-67a6eb57e477",
    "papermill": {
     "duration": 0.01618,
     "end_time": "2025-03-03T11:53:18.886712",
     "exception": false,
     "start_time": "2025-03-03T11:53:18.870532",
     "status": "completed"
    },
    "tags": []
   },
   "outputs": [],
   "source": [
    "# from sklearn.feature_selection import mutual_info_classif\n",
    "\n",
    "# # Extract the target and features again\n",
    "# target = train_data['target']\n",
    "\n",
    "# # Select binary and multi category features only\n",
    "# features = train_data.copy()[cat_cols + bin_cols]\n",
    "\n",
    "# # Compute the mutual information for feature selection\n",
    "# mi_scores = mutual_info_classif(features, target)\n",
    "\n",
    "# # Create a DataFrame to view MI scores\n",
    "# mi_scores_df = pd.DataFrame({\n",
    "#     'Feature': features.columns,\n",
    "#     'MI Score': mi_scores\n",
    "# })\n",
    "\n",
    "# # Select features by MI score\n",
    "# sel_amount = 20\n",
    "# mi_scores_df = mi_scores_df.sort_values(by='MI Score', ascending=False)\n",
    "# print(f\"Top features based on Mutual Information:\\n{mi_scores_df.head(sel_amount)}\")\n",
    "# mi_selection = mi_scores_df.head(sel_amount)['Feature'].tolist()"
   ]
  },
  {
   "cell_type": "markdown",
   "id": "5dce0ed4",
   "metadata": {
    "papermill": {
     "duration": 0.01072,
     "end_time": "2025-03-03T11:53:18.908018",
     "exception": false,
     "start_time": "2025-03-03T11:53:18.897298",
     "status": "completed"
    },
    "tags": []
   },
   "source": [
    "(Took too much time and didnt provided good results)"
   ]
  },
  {
   "cell_type": "code",
   "execution_count": 19,
   "id": "353762a4",
   "metadata": {
    "execution": {
     "iopub.execute_input": "2025-03-03T11:53:18.930512Z",
     "iopub.status.busy": "2025-03-03T11:53:18.930273Z",
     "iopub.status.idle": "2025-03-03T11:53:27.831417Z",
     "shell.execute_reply": "2025-03-03T11:53:27.830317Z"
    },
    "id": "U5U0HejZw4yF",
    "outputId": "65ea039e-945c-4d2d-be17-439b9e1b3fe8",
    "papermill": {
     "duration": 8.914319,
     "end_time": "2025-03-03T11:53:27.833015",
     "exception": false,
     "start_time": "2025-03-03T11:53:18.918696",
     "status": "completed"
    },
    "tags": []
   },
   "outputs": [
    {
     "data": {
      "image/png": "[encoded data removed]",
      "text/plain": [
       "<Figure size 1200x600 with 2 Axes>"
      ]
     },
     "metadata": {},
     "output_type": "display_data"
    },
    {
     "name": "stdout",
     "output_type": "stream",
     "text": [
      "\n",
      "Number of components to retain 95% variance: 4\n",
      "\n",
      "\n",
      "Variance ratio explained by principal components:\n",
      "PC1: 0.9095 (90.95%)\n",
      "PC2: 0.0256 (2.56%)\n",
      "PC3: 0.0109 (1.09%)\n",
      "PC4: 0.0070 (0.70%)\n"
     ]
    }
   ],
   "source": [
    "# PCA analysis\n",
    "from sklearn.decomposition import PCA\n",
    "\n",
    "# 1. Drop target from data to explore\n",
    "features_reduced = train_data.drop(columns=['target'], axis=1)\n",
    "\n",
    "# 2. Apply PCA with all components, also plotting cumulative and explained variance\n",
    "# Fit and transform the data with PCA\n",
    "pca = PCA(n_components=None)  # Keeping all components to analyze explained variance\n",
    "pca.fit(features_reduced)\n",
    "pca_tr = pca.transform(features_reduced)\n",
    "\n",
    "# Explained variance and cumulative variance\n",
    "explained_variance = pca.explained_variance_ratio_\n",
    "cumulative_variance = np.cumsum(explained_variance)\n",
    "\n",
    "# Plotting explained variance and cumulative variance\n",
    "plt.figure(figsize=(12, 6))\n",
    "plt.subplot(1, 2, 1)\n",
    "plt.bar(range(1, len(explained_variance) + 1), explained_variance, alpha=0.5, align='center')\n",
    "plt.ylabel('Explained Variance Ratio')\n",
    "plt.xlabel('Principal Component')\n",
    "plt.title('Explained Variance per Principal Component')\n",
    "\n",
    "plt.subplot(1, 2, 2)\n",
    "plt.plot(range(1, len(cumulative_variance) + 1), cumulative_variance, marker='o', linestyle='--', color='b')\n",
    "plt.ylabel('Cumulative Explained Variance')\n",
    "plt.xlabel('Principal Component')\n",
    "plt.title('Cumulative Explained Variance')\n",
    "plt.axhline(y=0.90, color='r', linestyle='--', label='90% threshold')\n",
    "plt.legend()\n",
    "\n",
    "plt.tight_layout()\n",
    "plt.show()\n",
    "\n",
    "# 3. Reduce n_components to determine how many are the most descriptive ones (95% of variance)\n",
    "n_components = np.argmax(cumulative_variance >= 0.95) + 1\n",
    "print(f\"\\nNumber of components to retain 95% variance: {n_components}\\n\")\n",
    "\n",
    "# 4. Apply PCA with selected number of components\n",
    "pca = PCA(n_components=n_components)\n",
    "features_pca_reduced = pca.fit_transform(features_reduced)\n",
    "\n",
    "# 5. Get the explained variance ratio for each PC\n",
    "explained_variance_ratio = pca.explained_variance_ratio_\n",
    "print(\"\\nVariance ratio explained by principal components:\")\n",
    "for i in range(n_components):\n",
    "    pc = f'PC{i+1}'\n",
    "    variance_ratio = explained_variance_ratio[i]\n",
    "    print(f\"{pc}: {variance_ratio:.4f} ({variance_ratio * 100:.2f}%)\")\n"
   ]
  },
  {
   "cell_type": "code",
   "execution_count": 20,
   "id": "c8dcb66c",
   "metadata": {
    "execution": {
     "iopub.execute_input": "2025-03-03T11:53:27.858402Z",
     "iopub.status.busy": "2025-03-03T11:53:27.858125Z",
     "iopub.status.idle": "2025-03-03T11:53:27.862265Z",
     "shell.execute_reply": "2025-03-03T11:53:27.861417Z"
    },
    "id": "xJ_Nk0gmyqXP",
    "papermill": {
     "duration": 0.017968,
     "end_time": "2025-03-03T11:53:27.863570",
     "exception": false,
     "start_time": "2025-03-03T11:53:27.845602",
     "status": "completed"
    },
    "tags": []
   },
   "outputs": [],
   "source": [
    "# Create df from pca results\n",
    "loadings = pd.DataFrame(pca.components_.T, columns=[f'PC{i+1}' for i in range(pca.n_components_)],\n",
    "                            index=features_reduced.columns)"
   ]
  },
  {
   "cell_type": "code",
   "execution_count": 21,
   "id": "8e84fb75",
   "metadata": {
    "execution": {
     "iopub.execute_input": "2025-03-03T11:53:27.887744Z",
     "iopub.status.busy": "2025-03-03T11:53:27.887521Z",
     "iopub.status.idle": "2025-03-03T11:53:27.894443Z",
     "shell.execute_reply": "2025-03-03T11:53:27.893616Z"
    },
    "id": "x1ouhK6KyzL1",
    "outputId": "74ad4ca7-21c2-4365-e745-57103b3e83fa",
    "papermill": {
     "duration": 0.020156,
     "end_time": "2025-03-03T11:53:27.895628",
     "exception": false,
     "start_time": "2025-03-03T11:53:27.875472",
     "status": "completed"
    },
    "tags": []
   },
   "outputs": [
    {
     "name": "stdout",
     "output_type": "stream",
     "text": [
      "PCA final selection:\n",
      " ['ps_ind_16_bin', 'ps_ind_03_cat', 'ps_car_13_num', 'ps_ind_15_cat', 'ps_ind_18_bin', 'ps_calc_10_cat', 'ps_car_01_cat', 'ps_car_11_cat', 'ps_car_04_cat', 'ps_car_06_cat', 'ps_car_12_num', 'ps_car_14_num']\n",
      "12\n"
     ]
    }
   ],
   "source": [
    "# ---- Select features from PCA result ------\n",
    "threshold = 0.03 # 0.03-0.06\n",
    "pca_selected_features = []\n",
    "\n",
    "for i in range(pca.n_components_):\n",
    "    pc = f'PC{i+1}'\n",
    "    component_loadings = loadings[pc].abs() # take a pc with absolute values\n",
    "    th_applied_features = component_loadings[component_loadings > threshold].index.tolist() # apply threshold\n",
    "    pca_selected_features.extend(th_applied_features)\n",
    "\n",
    "# Remove duplicates\n",
    "pca_selected_features = list(set(pca_selected_features))\n",
    "# print(f'PCA selected features:\\n {pca_selected_features}\\n{len(pca_selected_features)}')\n",
    "\n",
    "# If there are more than max_n selected features, then rank them by taking the cummulative weights accross all PCS\n",
    "max_n = 20\n",
    "if len(pca_selected_features) > max_n:\n",
    "    cw_loadings = loadings.loc[pca_selected_features].abs().sum(axis=1) # cummulate weights for these features\n",
    "    pca_final_selection = cw_loadings.sort_values(ascending=False).head(max_n).index.to_list() # rank them\n",
    "else:\n",
    "    pca_final_selection = pca_selected_features\n",
    "\n",
    "print(f'PCA final selection:\\n {pca_final_selection}\\n{len(pca_final_selection)}')"
   ]
  },
  {
   "cell_type": "markdown",
   "id": "e399ed3d",
   "metadata": {
    "id": "DulqigbXKBOV",
    "papermill": {
     "duration": 0.011319,
     "end_time": "2025-03-03T11:53:27.918560",
     "exception": false,
     "start_time": "2025-03-03T11:53:27.907241",
     "status": "completed"
    },
    "tags": []
   },
   "source": [
    "### Handle class imbalance"
   ]
  },
  {
   "cell_type": "code",
   "execution_count": 22,
   "id": "829af7df",
   "metadata": {
    "execution": {
     "iopub.execute_input": "2025-03-03T11:53:27.942461Z",
     "iopub.status.busy": "2025-03-03T11:53:27.942231Z",
     "iopub.status.idle": "2025-03-03T11:53:27.951425Z",
     "shell.execute_reply": "2025-03-03T11:53:27.950566Z"
    },
    "papermill": {
     "duration": 0.022672,
     "end_time": "2025-03-03T11:53:27.952729",
     "exception": false,
     "start_time": "2025-03-03T11:53:27.930057",
     "status": "completed"
    },
    "tags": []
   },
   "outputs": [
    {
     "name": "stdout",
     "output_type": "stream",
     "text": [
      "Class 0: 573518 - 96.36%\n",
      "Class 1: 21694 - 3.64%\n",
      "Proportion: 26.44 : 1\n"
     ]
    }
   ],
   "source": [
    "# Checking out the targets distribution\n",
    "\n",
    "target_count = train_data.target.value_counts()\n",
    "print(f'Class 0: {target_count[0]} - {target_count[0]/len(train_data)*100:.2f}%')\n",
    "print(f'Class 1: {target_count[1]} - {target_count[1]/len(train_data)*100:.2f}%')\n",
    "print(f'Proportion: {round(target_count[0] / target_count[1], 2)} : 1')"
   ]
  },
  {
   "cell_type": "markdown",
   "id": "ea250301",
   "metadata": {
    "papermill": {
     "duration": 0.011465,
     "end_time": "2025-03-03T11:53:27.976049",
     "exception": false,
     "start_time": "2025-03-03T11:53:27.964584",
     "status": "completed"
    },
    "tags": []
   },
   "source": [
    "We can observe how imbalanced the dataset is. We certainly need some fix with resampling, but first we need to split up the dataset to train and validation sets, otherwise we would be using synthetic data on the validation set."
   ]
  },
  {
   "cell_type": "code",
   "execution_count": 23,
   "id": "abe6c66f",
   "metadata": {
    "execution": {
     "iopub.execute_input": "2025-03-03T11:53:28.000254Z",
     "iopub.status.busy": "2025-03-03T11:53:28.000008Z",
     "iopub.status.idle": "2025-03-03T11:53:28.400144Z",
     "shell.execute_reply": "2025-03-03T11:53:28.399231Z"
    },
    "id": "2bxfLOkyH39h",
    "outputId": "1abd4688-b4f5-485d-b1e8-54a24006de8e",
    "papermill": {
     "duration": 0.414614,
     "end_time": "2025-03-03T11:53:28.402449",
     "exception": false,
     "start_time": "2025-03-03T11:53:27.987835",
     "status": "completed"
    },
    "tags": []
   },
   "outputs": [
    {
     "name": "stdout",
     "output_type": "stream",
     "text": [
      "Value counts - Train\n",
      "target\n",
      "0    458860\n",
      "1     17309\n",
      "Name: count, dtype: int64\n",
      "Value counts - Test\n",
      "target\n",
      "0    114658\n",
      "1      4385\n",
      "Name: count, dtype: int64\n",
      "Compare targets:\n",
      "- minority for train: 3.64% (17309)\n",
      "- minority for test: 3.68% (4385)\n"
     ]
    }
   ],
   "source": [
    "from sklearn.model_selection import train_test_split\n",
    "\n",
    "# Take a subset from train_data\n",
    "# subset = train_data.sample(n=200000, random_state=seed)\n",
    "subset = train_data.copy() # all 595212 data points\n",
    "\n",
    "# Feature selection\n",
    "# (Tried both PCA and MI selection, but in the end I got better results on the 'whole' feature set)\n",
    "# subset = subset[pca_final_selection + ['target']]\n",
    "\n",
    "# Split up dataset\n",
    "X, y = subset.drop(['target'], axis=1), subset['target']\n",
    "X_train, X_test, y_train, y_test = train_test_split(X, y, test_size=0.2, random_state=seed)\n",
    "# print(X_train.shape, X_test.shape, y_train.shape, y_test.shape)\n",
    "print(\"Value counts - Train\")\n",
    "print(y_train.value_counts())\n",
    "print(\"Value counts - Test\")\n",
    "print(y_test.value_counts())\n",
    "\n",
    "y0_train, y1_train = y_train.value_counts()[0], y_train.value_counts()[1]\n",
    "y0_test, y1_test = y_test.value_counts()[0], y_test.value_counts()[1]\n",
    "\n",
    "print(\"Compare targets:\")\n",
    "print(f\"- minority for train: {y1_train/len(y_train)*100:.2f}% ({y1_train})\")\n",
    "print(f\"- minority for test: {y1_test/len(y_test)*100:.2f}% ({y1_test})\")"
   ]
  },
  {
   "cell_type": "code",
   "execution_count": 24,
   "id": "ed9f6676",
   "metadata": {
    "execution": {
     "iopub.execute_input": "2025-03-03T11:53:28.429436Z",
     "iopub.status.busy": "2025-03-03T11:53:28.429136Z",
     "iopub.status.idle": "2025-03-03T11:53:37.478385Z",
     "shell.execute_reply": "2025-03-03T11:53:37.477653Z"
    },
    "id": "WOyFl6riH37L",
    "papermill": {
     "duration": 9.064108,
     "end_time": "2025-03-03T11:53:37.479933",
     "exception": false,
     "start_time": "2025-03-03T11:53:28.415825",
     "status": "completed"
    },
    "tags": []
   },
   "outputs": [],
   "source": [
    "# Test different resample techniques:\n",
    "# 1. Random Over Sampling\n",
    "# 2. Random Under Sampling\n",
    "# 3. Random Under Sampling (keeping some more from majority class)\n",
    "# 4. SMOTE\n",
    "\n",
    "from imblearn.over_sampling import SMOTE, SVMSMOTE, RandomOverSampler\n",
    "from imblearn.under_sampling import RandomUnderSampler\n",
    "\n",
    "rus_strat = {0: y1_train*4, 1: y1_train,} # take 4:1 ratio from classes (just reducing imbalance)\n",
    "\n",
    "ros = RandomOverSampler(random_state=seed)\n",
    "rus = RandomUnderSampler(sampling_strategy='not minority', random_state=seed)\n",
    "rus_with_ratio = RandomUnderSampler(sampling_strategy=rus_strat, random_state=seed)\n",
    "smote = SMOTE(random_state=seed)\n",
    "# svms = SVMSMOTE(sampling_strategy='minority', k_neighbors=3, random_state=seed) # Takes too much time for SVM\n",
    "\n",
    "X_train_ros, y_train_ros = ros.fit_resample(X_train, y_train)\n",
    "X_train_rus, y_train_rus = rus.fit_resample(X_train, y_train)\n",
    "X_train_rusr, y_train_rusr = rus_with_ratio.fit_resample(X_train, y_train)\n",
    "X_train_smote, y_train_smote = smote.fit_resample(X_train, y_train)\n",
    "# X_train_svms, y_train_svms = svms.fit_resample(X_train, y_train)"
   ]
  },
  {
   "cell_type": "code",
   "execution_count": 25,
   "id": "27c5ec03",
   "metadata": {
    "execution": {
     "iopub.execute_input": "2025-03-03T11:53:37.504566Z",
     "iopub.status.busy": "2025-03-03T11:53:37.504335Z",
     "iopub.status.idle": "2025-03-03T11:53:37.521607Z",
     "shell.execute_reply": "2025-03-03T11:53:37.520924Z"
    },
    "id": "U557yllWNHIN",
    "outputId": "ed6e8a30-8d13-4764-f3f8-20ea3ea3056a",
    "papermill": {
     "duration": 0.03075,
     "end_time": "2025-03-03T11:53:37.522839",
     "exception": false,
     "start_time": "2025-03-03T11:53:37.492089",
     "status": "completed"
    },
    "tags": []
   },
   "outputs": [
    {
     "name": "stdout",
     "output_type": "stream",
     "text": [
      "Random Over Sampler:\n",
      " target\n",
      "0    458860\n",
      "1    458860\n",
      "Name: count, dtype: int64\n",
      "Random Under Sampler:\n",
      " target\n",
      "0    17309\n",
      "1    17309\n",
      "Name: count, dtype: int64\n",
      "Random Under Sampler with ratio:\n",
      " target\n",
      "0    69236\n",
      "1    17309\n",
      "Name: count, dtype: int64\n",
      "SMOTE:\n",
      " target\n",
      "0    458860\n",
      "1    458860\n",
      "Name: count, dtype: int64\n"
     ]
    }
   ],
   "source": [
    "print(\"Random Over Sampler:\\n\",y_train_ros.value_counts())\n",
    "print(\"Random Under Sampler:\\n\",y_train_rus.value_counts())\n",
    "print(\"Random Under Sampler with ratio:\\n\",y_train_rusr.value_counts())\n",
    "print(\"SMOTE:\\n\",y_train_smote.value_counts())\n",
    "# print(\"SVM SMOTE:\\n\",y_train_svms.value_counts())"
   ]
  },
  {
   "cell_type": "code",
   "execution_count": 26,
   "id": "09dcaadf",
   "metadata": {
    "execution": {
     "iopub.execute_input": "2025-03-03T11:53:37.547264Z",
     "iopub.status.busy": "2025-03-03T11:53:37.547010Z",
     "iopub.status.idle": "2025-03-03T11:54:12.375069Z",
     "shell.execute_reply": "2025-03-03T11:54:12.374176Z"
    },
    "id": "edrKROJ_H35n",
    "outputId": "60c1d3e8-67b0-47d8-bd22-d3ab1e9d85c0",
    "papermill": {
     "duration": 34.854097,
     "end_time": "2025-03-03T11:54:12.388713",
     "exception": false,
     "start_time": "2025-03-03T11:53:37.534616",
     "status": "completed"
    },
    "tags": []
   },
   "outputs": [
    {
     "name": "stdout",
     "output_type": "stream",
     "text": [
      "--- ROS ---\n",
      "Test balanced accuracy: 0.564\n",
      "Test AUC score: 0.587\n",
      "Confusion matrix:\n",
      " [[76697 37961]\n",
      " [ 2370  2015]]\n",
      "--- RUS ---\n",
      "Test balanced accuracy: 0.567\n",
      "Test AUC score: 0.592\n",
      "Confusion matrix:\n",
      " [[76505 38153]\n",
      " [ 2337  2048]]\n",
      "--- RUSR ---\n",
      "Test balanced accuracy: 0.512\n",
      "Test AUC score: 0.592\n",
      "Confusion matrix:\n",
      " [[112756   1902]\n",
      " [  4209    176]]\n",
      "--- SMOTE ---\n",
      "Test balanced accuracy: 0.500\n",
      "Test AUC score: 0.530\n",
      "Confusion matrix:\n",
      " [[110018   4640]\n",
      " [  4205    180]]\n"
     ]
    }
   ],
   "source": [
    "# Test all resampling with Decesion tree to choose the best one\n",
    "from sklearn.tree import DecisionTreeClassifier\n",
    "\n",
    "def test_resampling(X_train, y_train, X_test, y_test, name):\n",
    "    dt = DecisionTreeClassifier(\n",
    "        min_samples_split=5, \n",
    "        min_samples_leaf=16, \n",
    "        max_depth=10,\n",
    "        criterion='entropy',\n",
    "    )\n",
    "    dt.fit(X_train, y_train)\n",
    "    preds = dt.predict(X_test)\n",
    "    probs = dt.predict_proba(X_test)[:, 1]\n",
    "    \n",
    "    test_bacc = balanced_accuracy_score(y_test, preds)\n",
    "    test_auc = roc_auc_score(y_test, probs)\n",
    "    cm = confusion_matrix(y_test, preds)\n",
    "\n",
    "    print(f\"--- {name} ---\")\n",
    "    print(f\"Test balanced accuracy: {test_bacc:.3f}\")\n",
    "    print(f\"Test AUC score: {test_auc:.3f}\")\n",
    "    print(\"Confusion matrix:\\n\",cm)\n",
    "\n",
    "test_resampling(X_train_ros, y_train_ros, X_test, y_test, name='ROS')\n",
    "test_resampling(X_train_rus, y_train_rus, X_test, y_test, name='RUS')\n",
    "test_resampling(X_train_rusr, y_train_rusr, X_test, y_test, name='RUSR')\n",
    "test_resampling(X_train_smote, y_train_smote, X_test, y_test, name='SMOTE')\n",
    "# test_resampling(X_train_svms, y_train_svms, X_test, y_test, name='SVM SMOTE')"
   ]
  },
  {
   "cell_type": "markdown",
   "id": "1bbfbcfc",
   "metadata": {
    "id": "F2rk31RJjx-X",
    "papermill": {
     "duration": 0.011931,
     "end_time": "2025-03-03T11:54:12.412905",
     "exception": false,
     "start_time": "2025-03-03T11:54:12.400974",
     "status": "completed"
    },
    "tags": []
   },
   "source": [
    "Since RUS and RUSR gave similar AUC score, I will use RUSR because it has more records."
   ]
  },
  {
   "cell_type": "code",
   "execution_count": 27,
   "id": "cc881b04",
   "metadata": {
    "execution": {
     "iopub.execute_input": "2025-03-03T11:54:12.437878Z",
     "iopub.status.busy": "2025-03-03T11:54:12.437567Z",
     "iopub.status.idle": "2025-03-03T11:54:12.463292Z",
     "shell.execute_reply": "2025-03-03T11:54:12.462460Z"
    },
    "id": "98gdmFtHkFyo",
    "papermill": {
     "duration": 0.039824,
     "end_time": "2025-03-03T11:54:12.464680",
     "exception": false,
     "start_time": "2025-03-03T11:54:12.424856",
     "status": "completed"
    },
    "tags": []
   },
   "outputs": [
    {
     "data": {
      "text/plain": [
       "((86545, 75), (86545,))"
      ]
     },
     "execution_count": 27,
     "metadata": {},
     "output_type": "execute_result"
    }
   ],
   "source": [
    "X_train = X_train_rusr.copy()\n",
    "y_train = y_train_rusr.copy()\n",
    "X_train.shape, y_train.shape"
   ]
  },
  {
   "cell_type": "markdown",
   "id": "515a42fa",
   "metadata": {
    "id": "0Qy_FfYvf6yF",
    "papermill": {
     "duration": 0.012048,
     "end_time": "2025-03-03T11:54:12.489707",
     "exception": false,
     "start_time": "2025-03-03T11:54:12.477659",
     "status": "completed"
    },
    "tags": []
   },
   "source": [
    "## Modelling\n",
    "- Logistic Regression\n",
    "- Decesion Tree\n",
    "- Random forest\n",
    "- XGBoost\n",
    "- LightGBM\n",
    "- Neural Network"
   ]
  },
  {
   "cell_type": "code",
   "execution_count": 28,
   "id": "a2e63750",
   "metadata": {
    "execution": {
     "iopub.execute_input": "2025-03-03T11:54:12.514898Z",
     "iopub.status.busy": "2025-03-03T11:54:12.514654Z",
     "iopub.status.idle": "2025-03-03T12:02:55.615324Z",
     "shell.execute_reply": "2025-03-03T12:02:55.614285Z"
    },
    "papermill": {
     "duration": 523.115023,
     "end_time": "2025-03-03T12:02:55.616807",
     "exception": false,
     "start_time": "2025-03-03T11:54:12.501784",
     "status": "completed"
    },
    "tags": []
   },
   "outputs": [
    {
     "name": "stdout",
     "output_type": "stream",
     "text": [
      "Logistic Regression finished training.\n",
      " - time spent (hh:mm:ss:ms): 0:02:39.031100\n",
      "Decesion Tree finished training.\n",
      " - time spent (hh:mm:ss:ms): 0:00:11.622248\n",
      "Random Forest finished training.\n",
      " - time spent (hh:mm:ss:ms): 0:03:43.015389\n",
      "XGBoost finished training.\n",
      " - time spent (hh:mm:ss:ms): 0:01:05.001386\n",
      "[LightGBM] [Info] Number of positive: 17309, number of negative: 69236\n",
      "[LightGBM] [Info] Auto-choosing row-wise multi-threading, the overhead of testing was 0.012360 seconds.\n",
      "You can set `force_row_wise=true` to remove the overhead.\n",
      "And if memory is not enough, you can set `force_col_wise=true`.\n",
      "[LightGBM] [Info] Total Bins 1094\n",
      "[LightGBM] [Info] Number of data points in the train set: 86545, number of used features: 75\n",
      "[LightGBM] [Info] [binary:BoostFromScore]: pavg=0.500000 -> initscore=0.000000\n",
      "LightGBM finished training.\n",
      " - time spent (hh:mm:ss:ms): 0:00:48.902798\n",
      "\n",
      "Logistic Regression - Best Parameters: {'solver': 'liblinear', 'penalty': 'l1', 'max_iter': 500, 'C': 0.1}\n",
      "Accuracy: 0.962\n",
      "Balanced Accuracy: 0.504\n",
      "ROC AUC Score: 0.625\n",
      "Confusion Matrix:\n",
      "[[114452    206]\n",
      " [  4346     39]]\n",
      "Classification Report:\n",
      "              precision    recall  f1-score   support\n",
      "\n",
      "           0       0.96      1.00      0.98    114658\n",
      "           1       0.16      0.01      0.02      4385\n",
      "\n",
      "    accuracy                           0.96    119043\n",
      "   macro avg       0.56      0.50      0.50    119043\n",
      "weighted avg       0.93      0.96      0.95    119043\n",
      "\n",
      "**************************************************\n",
      "Decision Tree - Best Parameters: {'min_samples_split': 5, 'min_samples_leaf': 16, 'max_depth': 10, 'criterion': 'entropy'}\n",
      "Accuracy: 0.949\n",
      "Balanced Accuracy: 0.512\n",
      "ROC AUC Score: 0.592\n",
      "Confusion Matrix:\n",
      "[[112743   1915]\n",
      " [  4203    182]]\n",
      "Classification Report:\n",
      "              precision    recall  f1-score   support\n",
      "\n",
      "           0       0.96      0.98      0.97    114658\n",
      "           1       0.09      0.04      0.06      4385\n",
      "\n",
      "    accuracy                           0.95    119043\n",
      "   macro avg       0.53      0.51      0.51    119043\n",
      "weighted avg       0.93      0.95      0.94    119043\n",
      "\n",
      "**************************************************\n",
      "Random Forest - Best Parameters: {'n_estimators': 300, 'min_samples_split': 2, 'min_samples_leaf': 5, 'max_features': 'log2', 'max_depth': 10, 'class_weight': 'balanced'}\n",
      "Accuracy: 0.673\n",
      "Balanced Accuracy: 0.588\n",
      "ROC AUC Score: 0.625\n",
      "Confusion Matrix:\n",
      "[[77928 36730]\n",
      " [ 2211  2174]]\n",
      "Classification Report:\n",
      "              precision    recall  f1-score   support\n",
      "\n",
      "           0       0.97      0.68      0.80    114658\n",
      "           1       0.06      0.50      0.10      4385\n",
      "\n",
      "    accuracy                           0.67    119043\n",
      "   macro avg       0.51      0.59      0.45    119043\n",
      "weighted avg       0.94      0.67      0.77    119043\n",
      "\n",
      "**************************************************\n",
      "XGBoost - Best Parameters: {'subsample': 0.8, 'reg_lambda': 0.0, 'reg_alpha': 0.5, 'n_estimators': 300, 'min_child_weight': 5, 'max_depth': 10, 'max_delta_step': 8, 'learning_rate': 0.01, 'device': 'cuda', 'colsample_bytree': 0.6}\n",
      "Accuracy: 0.963\n",
      "Balanced Accuracy: 0.501\n",
      "ROC AUC Score: 0.638\n",
      "Confusion Matrix:\n",
      "[[114575     83]\n",
      " [  4371     14]]\n",
      "Classification Report:\n",
      "              precision    recall  f1-score   support\n",
      "\n",
      "           0       0.96      1.00      0.98    114658\n",
      "           1       0.14      0.00      0.01      4385\n",
      "\n",
      "    accuracy                           0.96    119043\n",
      "   macro avg       0.55      0.50      0.49    119043\n",
      "weighted avg       0.93      0.96      0.95    119043\n",
      "\n",
      "**************************************************\n",
      "LightGBM - Best Parameters: {'subsample': 0.6, 'reg_lambda': 0.1, 'reg_alpha': 0.0, 'objective': 'binary', 'num_leaves': 15, 'n_estimators': 300, 'min_child_samples': 20, 'max_depth': 5, 'learning_rate': 0.01, 'colsample_bytree': 0.8, 'class_weight': 'balanced'}\n",
      "Accuracy: 0.613\n",
      "Balanced Accuracy: 0.597\n",
      "ROC AUC Score: 0.634\n",
      "Confusion Matrix:\n",
      "[[70389 44269]\n",
      " [ 1837  2548]]\n",
      "Classification Report:\n",
      "              precision    recall  f1-score   support\n",
      "\n",
      "           0       0.97      0.61      0.75    114658\n",
      "           1       0.05      0.58      0.10      4385\n",
      "\n",
      "    accuracy                           0.61    119043\n",
      "   macro avg       0.51      0.60      0.43    119043\n",
      "weighted avg       0.94      0.61      0.73    119043\n",
      "\n",
      "**************************************************\n"
     ]
    }
   ],
   "source": [
    "# Define parameter grids\n",
    "param_grids = {\n",
    "    'LR': {\n",
    "        'penalty': ['l1', 'l2'],  # Regularization method\n",
    "        'solver': ['liblinear', 'saga'],  # 'saga' works with both 'l1' and 'l2' and scales well with large datasets\n",
    "        'C': [0.001, 0.01, 0.1, 1, 10],  # Inverse regularization strength\n",
    "        'max_iter': [500],\n",
    "    },\n",
    "    'DT': {\n",
    "        'criterion': ['gini','entropy'],\n",
    "        'max_depth': [5, 10, 15],  # Tree depth\n",
    "        'min_samples_split': [2, 5, 8, 16],  # Min samples to split a node\n",
    "        'min_samples_leaf': [2, 5, 8, 16],  # Min samples\n",
    "    },\n",
    "    'RF': {\n",
    "        'n_estimators': [100, 200, 300],  # Number of trees\n",
    "        'max_depth': [5, 10, 15],  # Tree depth\n",
    "        'min_samples_split': [2, 5],  # Min samples to split a node\n",
    "        'min_samples_leaf': [2, 5, 10],  # Min samples in a leaf\n",
    "        'max_features': ['sqrt', 'log2'],  # Feature selection method\n",
    "        'class_weight': ['balanced'],  # Handling imbalance\n",
    "    },\n",
    "    'XGB': {\n",
    "        'n_estimators': [100, 200, 300, 400],  # Number of boosting rounds\n",
    "        'learning_rate': [0.01, 0.1],  # Step size shrinkage\n",
    "        'max_depth': [5, 10, 15],  # Tree depth\n",
    "        'min_child_weight': [1, 3, 5],  # Minimum sum of instance weight (higher = less overfitting)\n",
    "        'max_delta_step': [0, 1, 5, 8], # Might help when dataset is highly imbalanced\n",
    "        'reg_alpha': [0.0, 0.1, 0.5, 1.0],  # L1 regularization\n",
    "        'reg_lambda': [0.0, 0.1, 0.5, 1.0],  # L2 regularization\n",
    "        'subsample': [0.6, 0.8, 1.0],\n",
    "        'colsample_bytree': [0.6, 0.8, 1.0],\n",
    "        'device': ['cuda'],\n",
    "        # 'scale_pos_weight': [26]  # Handling imbalance\n",
    "    },\n",
    "    'LGBM': {\n",
    "        'n_estimators': [100, 200, 300, 400],  # Number of boosting rounds\n",
    "        'learning_rate': [0.01, 0.1],  # Step size shrinkage\n",
    "        'max_depth': [5, 10, 15],  # Limits tree depth\n",
    "        'num_leaves': [5, 15, 20, 30],  # Number of leaves per tree\n",
    "        'min_child_samples': [5, 10, 20],  # Minimum number of data points in a leaf\n",
    "        'reg_alpha': [0.0, 0.1, 0.5, 1.0],  # L1 regularization\n",
    "        'reg_lambda': [0.0, 0.1, 0.5, 1.0],  # L2 regularization\n",
    "        'objective': ['binary'], # Learning task\n",
    "        'subsample': [0.6, 0.8, 1.0],\n",
    "        'colsample_bytree': [0.6, 0.8, 1.0],\n",
    "        'class_weight': ['balanced'],  # Handling imbalance\n",
    "    },\n",
    "}\n",
    "\n",
    "# Use Stratified K-fold CV to preserve the class ratios\n",
    "skfold = StratifiedKFold(n_splits=5, shuffle=True, random_state=seed)\n",
    "n_iter = 5\n",
    "\n",
    "# Create a function to run GridSearchCV for each classifier\n",
    "def run_random_search(clf, param_grid, X_train, y_train, n_iter=5, cv=5):\n",
    "    random_search = RandomizedSearchCV(estimator=clf, param_distributions=param_grid, n_iter=n_iter, cv=cv, n_jobs=-1, scoring='roc_auc', random_state=seed)    \n",
    "    random_search.fit(X_train, y_train)\n",
    "    return random_search.best_estimator_, random_search.best_params_, random_search.best_score_\n",
    "\n",
    "# Logistic Regression\n",
    "start = datetime.now()\n",
    "clf_lr = LogisticRegression()\n",
    "best_clf_lr, best_params_lr, best_score_lr = run_random_search(clf_lr, param_grids['LR'], X_train, y_train, n_iter=n_iter, cv=skfold)\n",
    "end = datetime.now()-start\n",
    "print(\"Logistic Regression finished training.\")\n",
    "print(f\" - time spent (hh:mm:ss:ms): {end}\")\n",
    "\n",
    "# Decesion Tree\n",
    "start = datetime.now()\n",
    "clf_dt = DecisionTreeClassifier()\n",
    "best_clf_dt, best_params_dt, best_score_dt = run_random_search(clf_dt, param_grids['DT'], X_train, y_train, n_iter=n_iter, cv=skfold)\n",
    "end = datetime.now()-start\n",
    "print(\"Decesion Tree finished training.\")\n",
    "print(f\" - time spent (hh:mm:ss:ms): {end}\")\n",
    "\n",
    "# Random Forest\n",
    "start = datetime.now()\n",
    "clf_rf = RandomForestClassifier()\n",
    "best_clf_rf, best_params_rf, best_score_rf = run_random_search(clf_rf, param_grids['RF'], X_train, y_train, n_iter=n_iter, cv=skfold)\n",
    "end = datetime.now()-start\n",
    "print(\"Random Forest finished training.\")\n",
    "print(f\" - time spent (hh:mm:ss:ms): {end}\")\n",
    "\n",
    "# XGBoost\n",
    "start = datetime.now()\n",
    "clf_xgb = XGBClassifier()\n",
    "best_clf_xgb, best_params_xgb, best_score_xgb = run_random_search(clf_xgb, param_grids['XGB'], X_train, y_train, n_iter=n_iter, cv=skfold)\n",
    "end = datetime.now()-start\n",
    "print(\"XGBoost finished training.\")\n",
    "print(f\" - time spent (hh:mm:ss:ms): {end}\")\n",
    "\n",
    "# LightGBM\n",
    "start = datetime.now()\n",
    "clf_lgbm = LGBMClassifier()\n",
    "best_clf_lgbm, best_params_lgbm, best_score_lgbm = run_random_search(clf_lgbm, param_grids['LGBM'], X_train, y_train, n_iter=n_iter, cv=skfold)\n",
    "end = datetime.now()-start\n",
    "print(\"LightGBM finished training.\")\n",
    "print(f\" - time spent (hh:mm:ss:ms): {end}\")\n",
    "print();\n",
    "\n",
    "# Collect metric result\n",
    "metric_dict = {\n",
    "    \"BACC\": {},\n",
    "    \"AUC\": {},\n",
    "}\n",
    "\n",
    "# Evaluate and print results\n",
    "def print_results(best_clf, best_params, X_test, y_test, classifier_name):\n",
    "    \n",
    "    y_pred = best_clf.predict(X_test)\n",
    "    y_prob = best_clf.predict_proba(X_test)[:, 1]\n",
    "    \n",
    "    accuracy = accuracy_score(y_test, y_pred)    \n",
    "    balanced_accuracy = balanced_accuracy_score(y_test, y_pred)\n",
    "    roc_auc = roc_auc_score(y_test, y_prob)\n",
    "    cm = confusion_matrix(y_test, y_pred)\n",
    "    clf_rep = classification_report(y_test, y_pred)\n",
    "    metric_dict[\"BACC\"][classifier_name] = (best_clf, balanced_accuracy)\n",
    "    metric_dict[\"AUC\"][classifier_name] = (best_clf, roc_auc)\n",
    "\n",
    "    print(f\"{classifier_name} - Best Parameters: {best_params}\")\n",
    "    print(f\"Accuracy: {accuracy:.3f}\")\n",
    "    print(f\"Balanced Accuracy: {balanced_accuracy:.3f}\")\n",
    "    print(f\"ROC AUC Score: {roc_auc:.3f}\")\n",
    "    print(f\"Confusion Matrix:\\n{cm}\")\n",
    "    print(f\"Classification Report:\\n{clf_rep}\")\n",
    "    print(\"*\"*50)\n",
    "    return y_pred, y_prob\n",
    "\n",
    "# Print results for all classifiers\n",
    "lr_preds, lr_probs = print_results(best_clf_lr, best_params_lr, X_test, y_test, \"Logistic Regression\")\n",
    "dt_preds, df_probs = print_results(best_clf_dt, best_params_dt, X_test, y_test, \"Decision Tree\")\n",
    "rf_preds, rf_probs = print_results(best_clf_rf, best_params_rf, X_test, y_test, \"Random Forest\")\n",
    "xgb_preds, xgb_probs = print_results(best_clf_xgb, best_params_xgb, X_test, y_test, \"XGBoost\")\n",
    "lgbm_preds, lgbm_probs = print_results(best_clf_lgbm, best_params_lgbm, X_test, y_test, \"LightGBM\")\n"
   ]
  },
  {
   "cell_type": "markdown",
   "id": "2f435f0d",
   "metadata": {
    "papermill": {
     "duration": 0.012832,
     "end_time": "2025-03-03T12:02:55.643697",
     "exception": false,
     "start_time": "2025-03-03T12:02:55.630865",
     "status": "completed"
    },
    "tags": []
   },
   "source": [
    "### Neural network model"
   ]
  },
  {
   "cell_type": "code",
   "execution_count": 29,
   "id": "42471e38",
   "metadata": {
    "execution": {
     "iopub.execute_input": "2025-03-03T12:02:55.670238Z",
     "iopub.status.busy": "2025-03-03T12:02:55.669947Z",
     "iopub.status.idle": "2025-03-03T12:02:55.738630Z",
     "shell.execute_reply": "2025-03-03T12:02:55.737754Z"
    },
    "papermill": {
     "duration": 0.083464,
     "end_time": "2025-03-03T12:02:55.739958",
     "exception": false,
     "start_time": "2025-03-03T12:02:55.656494",
     "status": "completed"
    },
    "tags": []
   },
   "outputs": [
    {
     "name": "stdout",
     "output_type": "stream",
     "text": [
      "Num GPUs Available: 1\n",
      "Using GPU: True\n",
      "GPU Device: [PhysicalDevice(name='/physical_device:GPU:0', device_type='GPU')]\n"
     ]
    }
   ],
   "source": [
    "# Tensorflow manages GPU allocation automatically\n",
    "print(\"Num GPUs Available:\", len(tf.config.list_physical_devices('GPU')))\n",
    "print(\"Using GPU:\", tf.test.is_gpu_available())\n",
    "print(\"GPU Device:\", tf.config.list_physical_devices('GPU'))"
   ]
  },
  {
   "cell_type": "code",
   "execution_count": 30,
   "id": "2bfd13af",
   "metadata": {
    "execution": {
     "iopub.execute_input": "2025-03-03T12:02:55.766131Z",
     "iopub.status.busy": "2025-03-03T12:02:55.765881Z",
     "iopub.status.idle": "2025-03-03T12:02:55.772520Z",
     "shell.execute_reply": "2025-03-03T12:02:55.771649Z"
    },
    "papermill": {
     "duration": 0.021255,
     "end_time": "2025-03-03T12:02:55.773978",
     "exception": false,
     "start_time": "2025-03-03T12:02:55.752723",
     "status": "completed"
    },
    "tags": []
   },
   "outputs": [
    {
     "name": "stdout",
     "output_type": "stream",
     "text": [
      "4.0\n"
     ]
    }
   ],
   "source": [
    "# Target ratio\n",
    "neg = y_train.value_counts()[0]\n",
    "pos = y_train.value_counts()[1]\n",
    "print(neg/pos)"
   ]
  },
  {
   "cell_type": "code",
   "execution_count": 31,
   "id": "dc5e2768",
   "metadata": {
    "execution": {
     "iopub.execute_input": "2025-03-03T12:02:55.800613Z",
     "iopub.status.busy": "2025-03-03T12:02:55.800402Z",
     "iopub.status.idle": "2025-03-03T12:03:31.269904Z",
     "shell.execute_reply": "2025-03-03T12:03:31.268944Z"
    },
    "papermill": {
     "duration": 35.484357,
     "end_time": "2025-03-03T12:03:31.271433",
     "exception": false,
     "start_time": "2025-03-03T12:02:55.787076",
     "status": "completed"
    },
    "tags": []
   },
   "outputs": [
    {
     "name": "stdout",
     "output_type": "stream",
     "text": [
      "Epoch 1/50\n",
      "\u001b[1m339/339\u001b[0m \u001b[32m━━━━━━━━━━━━━━━━━━━━\u001b[0m\u001b[37m\u001b[0m \u001b[1m16s\u001b[0m 26ms/step - Brier score: 0.1697 - accuracy: 0.7940 - auc: 0.5595 - loss: 0.0102 - prc: 0.2365 - precision: 0.2305 - recall: 0.0109 - val_Brier score: 0.0959 - val_accuracy: 0.9630 - val_auc: 0.6017 - val_loss: 0.0027 - val_prc: 0.0590 - val_precision: 0.3171 - val_recall: 0.0030 - learning_rate: 0.0050\n",
      "Epoch 2/50\n",
      "\u001b[1m339/339\u001b[0m \u001b[32m━━━━━━━━━━━━━━━━━━━━\u001b[0m\u001b[37m\u001b[0m \u001b[1m2s\u001b[0m 5ms/step - Brier score: 0.1651 - accuracy: 0.7993 - auc: 0.6038 - loss: 0.0091 - prc: 0.2720 - precision: 0.3567 - recall: 0.0039 - val_Brier score: 0.0964 - val_accuracy: 0.9629 - val_auc: 0.6108 - val_loss: 0.0027 - val_prc: 0.0614 - val_precision: 0.2364 - val_recall: 0.0030 - learning_rate: 0.0050\n",
      "Epoch 3/50\n",
      "\u001b[1m339/339\u001b[0m \u001b[32m━━━━━━━━━━━━━━━━━━━━\u001b[0m\u001b[37m\u001b[0m \u001b[1m2s\u001b[0m 4ms/step - Brier score: 0.1641 - accuracy: 0.7996 - auc: 0.6145 - loss: 0.0090 - prc: 0.2816 - precision: 0.4261 - recall: 0.0047 - val_Brier score: 0.0963 - val_accuracy: 0.9631 - val_auc: 0.6166 - val_loss: 0.0027 - val_prc: 0.0616 - val_precision: 0.3200 - val_recall: 0.0018 - learning_rate: 0.0050\n",
      "Epoch 4/50\n",
      "\u001b[1m339/339\u001b[0m \u001b[32m━━━━━━━━━━━━━━━━━━━━\u001b[0m\u001b[37m\u001b[0m \u001b[1m2s\u001b[0m 5ms/step - Brier score: 0.1634 - accuracy: 0.8000 - auc: 0.6285 - loss: 0.0089 - prc: 0.2972 - precision: 0.5233 - recall: 0.0036 - val_Brier score: 0.0911 - val_accuracy: 0.9629 - val_auc: 0.6264 - val_loss: 0.0024 - val_prc: 0.0626 - val_precision: 0.2400 - val_recall: 0.0027 - learning_rate: 5.0000e-04\n",
      "Epoch 5/50\n",
      "\u001b[1m339/339\u001b[0m \u001b[32m━━━━━━━━━━━━━━━━━━━━\u001b[0m\u001b[37m\u001b[0m \u001b[1m2s\u001b[0m 4ms/step - Brier score: 0.1620 - accuracy: 0.8000 - auc: 0.6346 - loss: 0.0088 - prc: 0.3028 - precision: 0.5199 - recall: 0.0043 - val_Brier score: 0.0898 - val_accuracy: 0.9629 - val_auc: 0.6257 - val_loss: 0.0024 - val_prc: 0.0626 - val_precision: 0.2281 - val_recall: 0.0030 - learning_rate: 5.0000e-04\n",
      "Epoch 6/50\n",
      "\u001b[1m339/339\u001b[0m \u001b[32m━━━━━━━━━━━━━━━━━━━━\u001b[0m\u001b[37m\u001b[0m \u001b[1m1s\u001b[0m 4ms/step - Brier score: 0.1607 - accuracy: 0.8001 - auc: 0.6382 - loss: 0.0088 - prc: 0.3054 - precision: 0.5576 - recall: 0.0051 - val_Brier score: 0.0986 - val_accuracy: 0.9625 - val_auc: 0.6268 - val_loss: 0.0028 - val_prc: 0.0628 - val_precision: 0.1732 - val_recall: 0.0050 - learning_rate: 5.0000e-05\n",
      "Epoch 7/50\n",
      "\u001b[1m339/339\u001b[0m \u001b[32m━━━━━━━━━━━━━━━━━━━━\u001b[0m\u001b[37m\u001b[0m \u001b[1m1s\u001b[0m 4ms/step - Brier score: 0.1615 - accuracy: 0.8003 - auc: 0.6393 - loss: 0.0088 - prc: 0.3069 - precision: 0.5818 - recall: 0.0063 - val_Brier score: 0.0989 - val_accuracy: 0.9625 - val_auc: 0.6269 - val_loss: 0.0028 - val_prc: 0.0627 - val_precision: 0.1905 - val_recall: 0.0055 - learning_rate: 5.0000e-05\n",
      "Epoch 8/50\n",
      "\u001b[1m339/339\u001b[0m \u001b[32m━━━━━━━━━━━━━━━━━━━━\u001b[0m\u001b[37m\u001b[0m \u001b[1m1s\u001b[0m 4ms/step - Brier score: 0.1614 - accuracy: 0.8002 - auc: 0.6401 - loss: 0.0088 - prc: 0.3076 - precision: 0.5498 - recall: 0.0062 - val_Brier score: 0.0994 - val_accuracy: 0.9624 - val_auc: 0.6267 - val_loss: 0.0028 - val_prc: 0.0626 - val_precision: 0.1786 - val_recall: 0.0057 - learning_rate: 5.0000e-06\n",
      "Epoch 9/50\n",
      "\u001b[1m339/339\u001b[0m \u001b[32m━━━━━━━━━━━━━━━━━━━━\u001b[0m\u001b[37m\u001b[0m \u001b[1m2s\u001b[0m 4ms/step - Brier score: 0.1614 - accuracy: 0.8002 - auc: 0.6402 - loss: 0.0088 - prc: 0.3077 - precision: 0.5471 - recall: 0.0062 - val_Brier score: 0.0995 - val_accuracy: 0.9624 - val_auc: 0.6267 - val_loss: 0.0028 - val_prc: 0.0627 - val_precision: 0.1773 - val_recall: 0.0057 - learning_rate: 5.0000e-06\n",
      "Epoch 10/50\n",
      "\u001b[1m339/339\u001b[0m \u001b[32m━━━━━━━━━━━━━━━━━━━━\u001b[0m\u001b[37m\u001b[0m \u001b[1m1s\u001b[0m 4ms/step - Brier score: 0.1615 - accuracy: 0.8002 - auc: 0.6403 - loss: 0.0088 - prc: 0.3078 - precision: 0.5554 - recall: 0.0064 - val_Brier score: 0.0995 - val_accuracy: 0.9624 - val_auc: 0.6268 - val_loss: 0.0028 - val_prc: 0.0627 - val_precision: 0.1748 - val_recall: 0.0057 - learning_rate: 5.0000e-07\n",
      "Epoch 11/50\n",
      "\u001b[1m339/339\u001b[0m \u001b[32m━━━━━━━━━━━━━━━━━━━━\u001b[0m\u001b[37m\u001b[0m \u001b[1m1s\u001b[0m 4ms/step - Brier score: 0.1615 - accuracy: 0.8002 - auc: 0.6403 - loss: 0.0088 - prc: 0.3078 - precision: 0.5554 - recall: 0.0064 - val_Brier score: 0.0995 - val_accuracy: 0.9624 - val_auc: 0.6268 - val_loss: 0.0028 - val_prc: 0.0627 - val_precision: 0.1736 - val_recall: 0.0057 - learning_rate: 5.0000e-07\n",
      "Epoch 12/50\n",
      "\u001b[1m339/339\u001b[0m \u001b[32m━━━━━━━━━━━━━━━━━━━━\u001b[0m\u001b[37m\u001b[0m \u001b[1m1s\u001b[0m 4ms/step - Brier score: 0.1615 - accuracy: 0.8002 - auc: 0.6403 - loss: 0.0088 - prc: 0.3078 - precision: 0.5554 - recall: 0.0064 - val_Brier score: 0.0995 - val_accuracy: 0.9624 - val_auc: 0.6268 - val_loss: 0.0028 - val_prc: 0.0627 - val_precision: 0.1761 - val_recall: 0.0057 - learning_rate: 5.0000e-08\n",
      "Epoch 13/50\n",
      "\u001b[1m339/339\u001b[0m \u001b[32m━━━━━━━━━━━━━━━━━━━━\u001b[0m\u001b[37m\u001b[0m \u001b[1m1s\u001b[0m 4ms/step - Brier score: 0.1615 - accuracy: 0.8002 - auc: 0.6403 - loss: 0.0088 - prc: 0.3078 - precision: 0.5554 - recall: 0.0064 - val_Brier score: 0.0995 - val_accuracy: 0.9624 - val_auc: 0.6268 - val_loss: 0.0028 - val_prc: 0.0627 - val_precision: 0.1761 - val_recall: 0.0057 - learning_rate: 5.0000e-08\n"
     ]
    }
   ],
   "source": [
    "# Enable mixed precision training\n",
    "mp.set_global_policy('mixed_float16')\n",
    "\n",
    "# Set hyperparameters\n",
    "EPS = 50\n",
    "BS = 256\n",
    "L_RATE = 5e-3\n",
    "INPUT_SHAPE = (X_train.shape[1],) # num of features\n",
    "WEIGHT_DECAY = 1e-3\n",
    "MONITOR = 'val_auc'\n",
    "ALPHA = 1 / (1+(neg/pos))\n",
    "GAMMA = 3.0 # higher for more severe imbalance\n",
    "\n",
    "# Custom Focal Loss to handle imbalance\n",
    "def focal_loss(alpha=0.25, gamma=2.0):\n",
    "    \"\"\" alpha: Adjusts the weight of minority vs. majority classes.\n",
    "                ( 1 / (1 + imbalance ratio) )\n",
    "        gamma: Reduces loss for well-classified examples and focuses on hard ones.\n",
    "    \"\"\"\n",
    "    def loss(y_true, y_pred):\n",
    "        bce = tf.keras.losses.binary_crossentropy(y_true, y_pred)\n",
    "        p_t = y_true * y_pred + (1 - y_true) * (1 - y_pred)\n",
    "        loss = alpha * (1 - p_t) ** gamma * bce\n",
    "        return tf.reduce_mean(loss)\n",
    "    return loss\n",
    "\n",
    "nn_model = tf.keras.Sequential([\n",
    "    tf.keras.layers.Dense(256, input_shape=INPUT_SHAPE),\n",
    "    tf.keras.layers.BatchNormalization(),\n",
    "    # tf.keras.layers.LeakyReLU(), # prevents dying neurons\n",
    "    tf.keras.layers.ReLU(),\n",
    "    # tf.keras.layers.Dropout(0.5),\n",
    "\n",
    "    tf.keras.layers.Dense(128),\n",
    "    tf.keras.layers.BatchNormalization(),\n",
    "    # tf.keras.layers.LeakyReLU(),\n",
    "    tf.keras.layers.ReLU(),\n",
    "    # tf.keras.layers.Dropout(0.3),\n",
    "\n",
    "    tf.keras.layers.Dense(64),\n",
    "    tf.keras.layers.BatchNormalization(),\n",
    "    # tf.keras.layers.LeakyReLU(),\n",
    "    tf.keras.layers.ReLU(),\n",
    "    # tf.keras.layers.Dropout(0.3),\n",
    "\n",
    "    # tf.keras.layers.Dense(32),\n",
    "    # tf.keras.layers.BatchNormalization(),\n",
    "    # # tf.keras.layers.LeakyReLU(),\n",
    "    # tf.keras.layers.ReLU(),\n",
    "    # # tf.keras.layers.Dropout(0.3),\n",
    "    \n",
    "    tf.keras.layers.Dense(1, activation=\"sigmoid\")  \n",
    "])\n",
    "\n",
    "LR = tf.keras.callbacks.ReduceLROnPlateau(monitor=MONITOR, factor=0.1, patience=2)\n",
    "ES = tf.keras.callbacks.EarlyStopping(monitor=MONITOR, patience=6, restore_best_weights=True)\n",
    "MC = tf.keras.callbacks.ModelCheckpoint(\"./best_nn_model.keras\", save_best_only=True)\n",
    "\n",
    "METRICS = [\n",
    "      tf.keras.metrics.MeanSquaredError(name='Brier score'),\n",
    "      tf.keras.metrics.BinaryAccuracy(name='accuracy'),\n",
    "      tf.keras.metrics.Precision(name='precision'),\n",
    "      tf.keras.metrics.Recall(name='recall'),\n",
    "      tf.keras.metrics.AUC(name='auc'),\n",
    "      tf.keras.metrics.AUC(name='prc', curve='PR'), # precision-recall curve\n",
    "]\n",
    "\n",
    "nn_model.compile(\n",
    "    loss = focal_loss(alpha=ALPHA, gamma=GAMMA),\n",
    "    # loss = 'binary_crossentropy',\n",
    "    optimizer = tf.keras.optimizers.AdamW(learning_rate=L_RATE, weight_decay=WEIGHT_DECAY),\n",
    "    metrics = METRICS,\n",
    ")\n",
    "\n",
    "nn_history = nn_model.fit(\n",
    "    X_train,\n",
    "    y_train,\n",
    "    epochs=EPS,\n",
    "    batch_size=BS,\n",
    "    validation_data=(X_test, y_test),\n",
    "    callbacks=[LR,ES,MC],\n",
    "    # class_weight={0:1, 1:26},\n",
    ")"
   ]
  },
  {
   "cell_type": "code",
   "execution_count": 32,
   "id": "ecb2ffbf",
   "metadata": {
    "execution": {
     "iopub.execute_input": "2025-03-03T12:03:31.321705Z",
     "iopub.status.busy": "2025-03-03T12:03:31.321420Z",
     "iopub.status.idle": "2025-03-03T12:03:31.692393Z",
     "shell.execute_reply": "2025-03-03T12:03:31.691441Z"
    },
    "papermill": {
     "duration": 0.397512,
     "end_time": "2025-03-03T12:03:31.693627",
     "exception": false,
     "start_time": "2025-03-03T12:03:31.296115",
     "status": "completed"
    },
    "tags": []
   },
   "outputs": [
    {
     "data": {
      "text/plain": [
       "<Axes: >"
      ]
     },
     "execution_count": 32,
     "metadata": {},
     "output_type": "execute_result"
    },
    {
     "data": {
      "image/png": "[encoded data removed]",
      "text/plain": [
       "<Figure size 640x480 with 1 Axes>"
      ]
     },
     "metadata": {},
     "output_type": "display_data"
    },
    {
     "data": {
      "image/png": "[encoded data removed]",
      "text/plain": [
       "<Figure size 640x480 with 1 Axes>"
      ]
     },
     "metadata": {},
     "output_type": "display_data"
    }
   ],
   "source": [
    "pd.DataFrame(nn_history.history)[[\"loss\",\"val_loss\"]].plot()\n",
    "pd.DataFrame(nn_history.history)[[\"auc\",\"val_auc\"]].plot()"
   ]
  },
  {
   "cell_type": "code",
   "execution_count": 33,
   "id": "2cbb0a23",
   "metadata": {
    "execution": {
     "iopub.execute_input": "2025-03-03T12:03:31.744466Z",
     "iopub.status.busy": "2025-03-03T12:03:31.744151Z",
     "iopub.status.idle": "2025-03-03T12:03:39.612052Z",
     "shell.execute_reply": "2025-03-03T12:03:39.610878Z"
    },
    "papermill": {
     "duration": 7.89479,
     "end_time": "2025-03-03T12:03:39.613653",
     "exception": false,
     "start_time": "2025-03-03T12:03:31.718863",
     "status": "completed"
    },
    "tags": []
   },
   "outputs": [
    {
     "name": "stdout",
     "output_type": "stream",
     "text": [
      "\u001b[1m3721/3721\u001b[0m \u001b[32m━━━━━━━━━━━━━━━━━━━━\u001b[0m\u001b[37m\u001b[0m \u001b[1m5s\u001b[0m 1ms/step\n",
      "NN balanced accuracy: 0.5022918009919063\n",
      "NN roc auc score: 0.6268677651705783\n",
      "Confusion matrix:\n",
      " [[114556    102]\n",
      " [  4361     24]]\n",
      "Classification report:\n",
      "               precision    recall  f1-score   support\n",
      "\n",
      "           0       0.96      1.00      0.98    114658\n",
      "           1       0.19      0.01      0.01      4385\n",
      "\n",
      "    accuracy                           0.96    119043\n",
      "   macro avg       0.58      0.50      0.50    119043\n",
      "weighted avg       0.93      0.96      0.95    119043\n",
      "\n"
     ]
    }
   ],
   "source": [
    "# Evaluate on validation set\n",
    "nn_probs = nn_model.predict(X_test)\n",
    "nn_preds = tf.round(nn_probs)\n",
    "nn_bacc = balanced_accuracy_score(y_test, nn_preds)\n",
    "nn_auc = roc_auc_score(y_test, nn_probs)\n",
    "metric_dict[\"BACC\"][\"NN\"] = (nn_model, nn_bacc)\n",
    "metric_dict[\"AUC\"][\"NN\"] = (nn_model, nn_auc)\n",
    "print(f\"NN balanced accuracy: {nn_bacc}\")\n",
    "print(f\"NN roc auc score: {nn_auc}\")\n",
    "\n",
    "nn_cm = confusion_matrix(y_true=y_test, y_pred=nn_preds)\n",
    "nn_clf_rep = classification_report(y_true=y_test, y_pred=nn_preds)\n",
    "print(\"Confusion matrix:\\n\",nn_cm)\n",
    "print(\"Classification report:\\n\",nn_clf_rep)"
   ]
  },
  {
   "cell_type": "code",
   "execution_count": 34,
   "id": "ed481e38",
   "metadata": {
    "execution": {
     "iopub.execute_input": "2025-03-03T12:03:39.672559Z",
     "iopub.status.busy": "2025-03-03T12:03:39.672222Z",
     "iopub.status.idle": "2025-03-03T12:03:39.677227Z",
     "shell.execute_reply": "2025-03-03T12:03:39.676514Z"
    },
    "id": "VwMD-Dm63N9j",
    "outputId": "c819887b-5407-4847-8d2a-65b8453671dc",
    "papermill": {
     "duration": 0.035546,
     "end_time": "2025-03-03T12:03:39.678495",
     "exception": false,
     "start_time": "2025-03-03T12:03:39.642949",
     "status": "completed"
    },
    "tags": []
   },
   "outputs": [
    {
     "data": {
      "text/plain": [
       "((892816, 76), (119043, 75))"
      ]
     },
     "execution_count": 34,
     "metadata": {},
     "output_type": "execute_result"
    }
   ],
   "source": [
    "test_data.shape, X_test.shape"
   ]
  },
  {
   "cell_type": "code",
   "execution_count": 35,
   "id": "bd4f8cd9",
   "metadata": {
    "execution": {
     "iopub.execute_input": "2025-03-03T12:03:39.736542Z",
     "iopub.status.busy": "2025-03-03T12:03:39.736243Z",
     "iopub.status.idle": "2025-03-03T12:03:39.742648Z",
     "shell.execute_reply": "2025-03-03T12:03:39.741785Z"
    },
    "papermill": {
     "duration": 0.036783,
     "end_time": "2025-03-03T12:03:39.743867",
     "exception": false,
     "start_time": "2025-03-03T12:03:39.707084",
     "status": "completed"
    },
    "tags": []
   },
   "outputs": [
    {
     "name": "stdout",
     "output_type": "stream",
     "text": [
      "Logistic Regression - 0.625 (AUC) - 0.504 (BACC)\n",
      "Decision Tree - 0.592 (AUC) - 0.512 (BACC)\n",
      "Random Forest - 0.625 (AUC) - 0.588 (BACC)\n",
      "XGBoost - 0.638 (AUC) - 0.501 (BACC)\n",
      "LightGBM - 0.634 (AUC) - 0.597 (BACC)\n",
      "NN - 0.627 (AUC) - 0.502 (BACC)\n",
      "\n",
      "Chosen model: LightGBM\n"
     ]
    }
   ],
   "source": [
    "# Select best model\n",
    "chosen_model = ''\n",
    "best = 0\n",
    "balanced_acc_th = 0.56\n",
    "\n",
    "for k,v in metric_dict['AUC'].items():\n",
    "    auc_score = v[1]\n",
    "    bacc_score = metric_dict[\"BACC\"][k][1]\n",
    "    print(f'{k} - {auc_score:.3f} (AUC) - {bacc_score:.3f} (BACC)')\n",
    "    if bacc_score > balanced_acc_th:\n",
    "        if auc_score > best:\n",
    "            best = auc_score\n",
    "            chosen_model = k\n",
    "\n",
    "if chosen_model:\n",
    "    model_to_use = metric_dict['AUC'][chosen_model][0]\n",
    "    print(f\"\\nChosen model: {chosen_model}\")\n",
    "else:\n",
    "    model_to_use = metric_dict['AUC']['NN'][0]\n",
    "    print(\"\\nChosen model is NN (no model met the BACC th.).\")"
   ]
  },
  {
   "cell_type": "code",
   "execution_count": 36,
   "id": "3ee88a5b",
   "metadata": {
    "execution": {
     "iopub.execute_input": "2025-03-03T12:03:39.801300Z",
     "iopub.status.busy": "2025-03-03T12:03:39.801012Z",
     "iopub.status.idle": "2025-03-03T12:03:48.168059Z",
     "shell.execute_reply": "2025-03-03T12:03:48.167216Z"
    },
    "id": "o6Ijtpxgw3PF",
    "outputId": "2098c289-e3b5-427f-9458-a57c3772f95c",
    "papermill": {
     "duration": 8.397015,
     "end_time": "2025-03-03T12:03:48.169381",
     "exception": false,
     "start_time": "2025-03-03T12:03:39.772366",
     "status": "completed"
    },
    "tags": []
   },
   "outputs": [
    {
     "data": {
      "text/html": [
       "<div>\n",
       "<style scoped>\n",
       "    .dataframe tbody tr th:only-of-type {\n",
       "        vertical-align: middle;\n",
       "    }\n",
       "\n",
       "    .dataframe tbody tr th {\n",
       "        vertical-align: top;\n",
       "    }\n",
       "\n",
       "    .dataframe thead th {\n",
       "        text-align: right;\n",
       "    }\n",
       "</style>\n",
       "<table border=\"1\" class=\"dataframe\">\n",
       "  <thead>\n",
       "    <tr style=\"text-align: right;\">\n",
       "      <th></th>\n",
       "      <th>id</th>\n",
       "      <th>target</th>\n",
       "    </tr>\n",
       "  </thead>\n",
       "  <tbody>\n",
       "    <tr>\n",
       "      <th>0</th>\n",
       "      <td>0</td>\n",
       "      <td>0.430127</td>\n",
       "    </tr>\n",
       "    <tr>\n",
       "      <th>1</th>\n",
       "      <td>1</td>\n",
       "      <td>0.424992</td>\n",
       "    </tr>\n",
       "    <tr>\n",
       "      <th>2</th>\n",
       "      <td>2</td>\n",
       "      <td>0.468308</td>\n",
       "    </tr>\n",
       "    <tr>\n",
       "      <th>3</th>\n",
       "      <td>3</td>\n",
       "      <td>0.336998</td>\n",
       "    </tr>\n",
       "    <tr>\n",
       "      <th>4</th>\n",
       "      <td>4</td>\n",
       "      <td>0.496922</td>\n",
       "    </tr>\n",
       "  </tbody>\n",
       "</table>\n",
       "</div>"
      ],
      "text/plain": [
       "   id    target\n",
       "0   0  0.430127\n",
       "1   1  0.424992\n",
       "2   2  0.468308\n",
       "3   3  0.336998\n",
       "4   4  0.496922"
      ]
     },
     "execution_count": 36,
     "metadata": {},
     "output_type": "execute_result"
    }
   ],
   "source": [
    "# Predict on test dataset\n",
    "if chosen_model == 'NN':\n",
    "    test_pred = model_to_use.predict(test_data.drop('target', axis=1))\n",
    "else:\n",
    "    test_pred = model_to_use.predict_proba(test_data.drop('target', axis=1))[:, 1]\n",
    "\n",
    "submission = pd.concat([test_data_id, pd.DataFrame(test_pred, columns=['target'])], axis=1)\n",
    "submission.head()"
   ]
  },
  {
   "cell_type": "code",
   "execution_count": 37,
   "id": "b670b47a",
   "metadata": {
    "execution": {
     "iopub.execute_input": "2025-03-03T12:03:48.227149Z",
     "iopub.status.busy": "2025-03-03T12:03:48.226899Z",
     "iopub.status.idle": "2025-03-03T12:03:49.677041Z",
     "shell.execute_reply": "2025-03-03T12:03:49.676286Z"
    },
    "id": "zsj2HOCWxdWd",
    "papermill": {
     "duration": 1.480463,
     "end_time": "2025-03-03T12:03:49.678619",
     "exception": false,
     "start_time": "2025-03-03T12:03:48.198156",
     "status": "completed"
    },
    "tags": []
   },
   "outputs": [],
   "source": [
    "submission.to_csv('submission.csv', index=False)"
   ]
  }
 ],
 "metadata": {
  "accelerator": "GPU",
  "colab": {
   "gpuType": "T4",
   "provenance": []
  },
  "kaggle": {
   "accelerator": "gpu",
   "dataSources": [
    {
     "databundleVersionId": 874852,
     "sourceId": 7082,
     "sourceType": "competition"
    }
   ],
   "dockerImageVersionId": 30918,
   "isGpuEnabled": true,
   "isInternetEnabled": true,
   "language": "python",
   "sourceType": "notebook"
  },
  "kernelspec": {
   "display_name": "Python [conda env:base] *",
   "language": "python",
   "name": "conda-base-py"
  },
  "language_info": {
   "codemirror_mode": {
    "name": "ipython",
    "version": 3
   },
   "file_extension": ".py",
   "mimetype": "text/x-python",
   "name": "python",
   "nbconvert_exporter": "python",
   "pygments_lexer": "ipython3",
   "version": "3.12.7"
  },
  "papermill": {
   "default_parameters": {},
   "duration": 684.430625,
   "end_time": "2025-03-03T12:03:52.615789",
   "environment_variables": {},
   "exception": null,
   "input_path": "__notebook__.ipynb",
   "output_path": "__notebook__.ipynb",
   "parameters": {},
   "start_time": "2025-03-03T11:52:28.185164",
   "version": "2.6.0"
  }
 },
 "nbformat": 4,
 "nbformat_minor": 5
}
