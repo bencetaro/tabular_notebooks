{
 "cells": [
  {
   "cell_type": "markdown",
   "metadata": {
    "id": "kaG3tF-Q63In"
   },
   "source": [
    "## House Prices competition on Kaggle\n",
    "\n",
    "The goal here is to predict the sales price for each house. For each Id in the test set we must predict the value of the SalePrice variable. \n",
    "\n",
    "Initial ideas:\n",
    "- Train a Spline or GAM-based regression model\n",
    "- Target must be log transformed\n",
    "- Use MSE as evaluation metric\n",
    "\n",
    "Changes I made for improvement:\n",
    "- KNN imputer (instead of median imputer)\n",
    "- Variance removal threshold set differently (0.01->0.05)\n",
    "- Engineered features\n",
    "- Tried PCA selection and AIC/BIC, but received worse models\n",
    "- Implemented 2 different models:\n",
    "\t- Spline fit with Ridge regression\n",
    "\t- LinearGAM with smoothing splines\n",
    "- Tried adaptive spline smoothing, but I had unsolved errors in the end\n",
    "\n"
   ]
  },
  {
   "cell_type": "code",
   "execution_count": null,
   "metadata": {
    "id": "I8qbVcHZMukE"
   },
   "outputs": [],
   "source": [
    "# # For the competition we use a custom dataset\n",
    "# from google.colab import files\n",
    "# csv_files = files.upload()"
   ]
  },
  {
   "cell_type": "code",
   "execution_count": null,
   "metadata": {
    "colab": {
     "base_uri": "https://localhost:8080/"
    },
    "id": "b68d9wcsN98H",
    "outputId": "0af003d1-417f-425b-cd99-b74aa9a517c9"
   },
   "outputs": [
    {
     "name": "stdout",
     "output_type": "stream",
     "text": [
      "     Id  MSSubClass MSZoning  LotFrontage  LotArea Street Alley LotShape  \\\n",
      "0   136          20       RL         80.0    10400   Pave   NaN      Reg   \n",
      "1  1453         180       RM         35.0     3675   Pave   NaN      Reg   \n",
      "2   763          60       FV         72.0     8640   Pave   NaN      Reg   \n",
      "3   933          20       RL         84.0    11670   Pave   NaN      IR1   \n",
      "4   436          60       RL         43.0    10667   Pave   NaN      IR2   \n",
      "\n",
      "  LandContour Utilities  ... PoolArea PoolQC  Fence MiscFeature MiscVal  \\\n",
      "0         Lvl    AllPub  ...        0    NaN  MnPrv         NaN       0   \n",
      "1         Lvl    AllPub  ...        0    NaN    NaN         NaN       0   \n",
      "2         Lvl    AllPub  ...        0    NaN    NaN         NaN       0   \n",
      "3         Lvl    AllPub  ...        0    NaN    NaN         NaN       0   \n",
      "4         Lvl    AllPub  ...        0    NaN    NaN         NaN       0   \n",
      "\n",
      "  MoSold YrSold  SaleType  SaleCondition  SalePrice  \n",
      "0      5   2008        WD         Normal     174000  \n",
      "1      5   2006        WD         Normal     145000  \n",
      "2      6   2010       Con         Normal     215200  \n",
      "3      3   2007        WD         Normal     320000  \n",
      "4      4   2009     ConLw         Normal     212000  \n",
      "\n",
      "[5 rows x 81 columns]\n"
     ]
    }
   ],
   "source": [
    "import pandas as pd\n",
    "\n",
    "dataset_path = \"/content\"\n",
    "train_data = pd.read_csv(f'{dataset_path}/train_competition.csv')\n",
    "test_data = pd.read_csv(f'{dataset_path}/test_competition.csv')\n",
    "\n",
    "print(train_data.head())"
   ]
  },
  {
   "cell_type": "code",
   "execution_count": null,
   "metadata": {
    "id": "136z3oToDG5o"
   },
   "outputs": [],
   "source": [
    "# Import modules\n",
    "import numpy as np\n",
    "from sklearn.model_selection import train_test_split\n",
    "from sklearn.preprocessing import StandardScaler, LabelEncoder\n",
    "from sklearn.impute import SimpleImputer, KNNImputer\n",
    "from sklearn.pipeline import Pipeline\n",
    "from sklearn.compose import ColumnTransformer\n",
    "import seaborn as sns\n",
    "import matplotlib.pyplot as plt\n",
    "import random\n",
    "\n",
    "# Set reproducability\n",
    "np.random.seed(42)\n",
    "random.seed(42)"
   ]
  },
  {
   "cell_type": "code",
   "execution_count": null,
   "metadata": {
    "colab": {
     "base_uri": "https://localhost:8080/",
     "height": 350
    },
    "id": "tnjQqcbVPxO6",
    "outputId": "a56d639d-02a8-4501-e605-7cf4e5684e5a"
   },
   "outputs": [
    {
     "data": {
      "application/vnd.google.colaboratory.intrinsic+json": {
       "type": "dataframe"
      },
      "text/html": [
       "\n",
       "  <div id=\"df-ff4a3dc8-a55a-4181-92ec-67b9dd2db360\" class=\"colab-df-container\">\n",
       "    <div>\n",
       "<style scoped>\n",
       "    .dataframe tbody tr th:only-of-type {\n",
       "        vertical-align: middle;\n",
       "    }\n",
       "\n",
       "    .dataframe tbody tr th {\n",
       "        vertical-align: top;\n",
       "    }\n",
       "\n",
       "    .dataframe thead th {\n",
       "        text-align: right;\n",
       "    }\n",
       "</style>\n",
       "<table border=\"1\" class=\"dataframe\">\n",
       "  <thead>\n",
       "    <tr style=\"text-align: right;\">\n",
       "      <th></th>\n",
       "      <th>Id</th>\n",
       "      <th>MSSubClass</th>\n",
       "      <th>LotFrontage</th>\n",
       "      <th>LotArea</th>\n",
       "      <th>OverallQual</th>\n",
       "      <th>OverallCond</th>\n",
       "      <th>YearBuilt</th>\n",
       "      <th>YearRemodAdd</th>\n",
       "      <th>MasVnrArea</th>\n",
       "      <th>BsmtFinSF1</th>\n",
       "      <th>...</th>\n",
       "      <th>WoodDeckSF</th>\n",
       "      <th>OpenPorchSF</th>\n",
       "      <th>EnclosedPorch</th>\n",
       "      <th>3SsnPorch</th>\n",
       "      <th>ScreenPorch</th>\n",
       "      <th>PoolArea</th>\n",
       "      <th>MiscVal</th>\n",
       "      <th>MoSold</th>\n",
       "      <th>YrSold</th>\n",
       "      <th>SalePrice</th>\n",
       "    </tr>\n",
       "  </thead>\n",
       "  <tbody>\n",
       "    <tr>\n",
       "      <th>count</th>\n",
       "      <td>1022.000000</td>\n",
       "      <td>1022.000000</td>\n",
       "      <td>832.000000</td>\n",
       "      <td>1022.000000</td>\n",
       "      <td>1022.000000</td>\n",
       "      <td>1022.000000</td>\n",
       "      <td>1022.000000</td>\n",
       "      <td>1022.000000</td>\n",
       "      <td>1019.000000</td>\n",
       "      <td>1022.000000</td>\n",
       "      <td>...</td>\n",
       "      <td>1022.000000</td>\n",
       "      <td>1022.000000</td>\n",
       "      <td>1022.000000</td>\n",
       "      <td>1022.000000</td>\n",
       "      <td>1022.000000</td>\n",
       "      <td>1022.000000</td>\n",
       "      <td>1022.000000</td>\n",
       "      <td>1022.000000</td>\n",
       "      <td>1022.000000</td>\n",
       "      <td>1022.000000</td>\n",
       "    </tr>\n",
       "    <tr>\n",
       "      <th>mean</th>\n",
       "      <td>732.338552</td>\n",
       "      <td>57.059687</td>\n",
       "      <td>70.375000</td>\n",
       "      <td>10745.437378</td>\n",
       "      <td>6.128180</td>\n",
       "      <td>5.564579</td>\n",
       "      <td>1970.995108</td>\n",
       "      <td>1984.757339</td>\n",
       "      <td>105.261040</td>\n",
       "      <td>446.176125</td>\n",
       "      <td>...</td>\n",
       "      <td>97.548924</td>\n",
       "      <td>49.525440</td>\n",
       "      <td>21.303327</td>\n",
       "      <td>3.881605</td>\n",
       "      <td>15.565558</td>\n",
       "      <td>2.743640</td>\n",
       "      <td>41.565558</td>\n",
       "      <td>6.363992</td>\n",
       "      <td>2007.814090</td>\n",
       "      <td>181312.692759</td>\n",
       "    </tr>\n",
       "    <tr>\n",
       "      <th>std</th>\n",
       "      <td>425.860402</td>\n",
       "      <td>42.669715</td>\n",
       "      <td>25.533607</td>\n",
       "      <td>11329.753423</td>\n",
       "      <td>1.371391</td>\n",
       "      <td>1.110557</td>\n",
       "      <td>30.748816</td>\n",
       "      <td>20.747109</td>\n",
       "      <td>172.707705</td>\n",
       "      <td>459.971174</td>\n",
       "      <td>...</td>\n",
       "      <td>131.691873</td>\n",
       "      <td>69.205968</td>\n",
       "      <td>61.534380</td>\n",
       "      <td>32.547722</td>\n",
       "      <td>56.445749</td>\n",
       "      <td>39.671531</td>\n",
       "      <td>338.132358</td>\n",
       "      <td>2.650115</td>\n",
       "      <td>1.325807</td>\n",
       "      <td>77617.461005</td>\n",
       "    </tr>\n",
       "    <tr>\n",
       "      <th>min</th>\n",
       "      <td>1.000000</td>\n",
       "      <td>20.000000</td>\n",
       "      <td>21.000000</td>\n",
       "      <td>1300.000000</td>\n",
       "      <td>1.000000</td>\n",
       "      <td>1.000000</td>\n",
       "      <td>1872.000000</td>\n",
       "      <td>1950.000000</td>\n",
       "      <td>0.000000</td>\n",
       "      <td>0.000000</td>\n",
       "      <td>...</td>\n",
       "      <td>0.000000</td>\n",
       "      <td>0.000000</td>\n",
       "      <td>0.000000</td>\n",
       "      <td>0.000000</td>\n",
       "      <td>0.000000</td>\n",
       "      <td>0.000000</td>\n",
       "      <td>0.000000</td>\n",
       "      <td>1.000000</td>\n",
       "      <td>2006.000000</td>\n",
       "      <td>34900.000000</td>\n",
       "    </tr>\n",
       "    <tr>\n",
       "      <th>25%</th>\n",
       "      <td>367.500000</td>\n",
       "      <td>20.000000</td>\n",
       "      <td>59.000000</td>\n",
       "      <td>7564.250000</td>\n",
       "      <td>5.000000</td>\n",
       "      <td>5.000000</td>\n",
       "      <td>1953.000000</td>\n",
       "      <td>1966.000000</td>\n",
       "      <td>0.000000</td>\n",
       "      <td>0.000000</td>\n",
       "      <td>...</td>\n",
       "      <td>0.000000</td>\n",
       "      <td>0.000000</td>\n",
       "      <td>0.000000</td>\n",
       "      <td>0.000000</td>\n",
       "      <td>0.000000</td>\n",
       "      <td>0.000000</td>\n",
       "      <td>0.000000</td>\n",
       "      <td>5.000000</td>\n",
       "      <td>2007.000000</td>\n",
       "      <td>130000.000000</td>\n",
       "    </tr>\n",
       "    <tr>\n",
       "      <th>50%</th>\n",
       "      <td>735.500000</td>\n",
       "      <td>50.000000</td>\n",
       "      <td>70.000000</td>\n",
       "      <td>9600.000000</td>\n",
       "      <td>6.000000</td>\n",
       "      <td>5.000000</td>\n",
       "      <td>1972.000000</td>\n",
       "      <td>1994.000000</td>\n",
       "      <td>0.000000</td>\n",
       "      <td>390.000000</td>\n",
       "      <td>...</td>\n",
       "      <td>0.000000</td>\n",
       "      <td>27.000000</td>\n",
       "      <td>0.000000</td>\n",
       "      <td>0.000000</td>\n",
       "      <td>0.000000</td>\n",
       "      <td>0.000000</td>\n",
       "      <td>0.000000</td>\n",
       "      <td>6.000000</td>\n",
       "      <td>2008.000000</td>\n",
       "      <td>165000.000000</td>\n",
       "    </tr>\n",
       "    <tr>\n",
       "      <th>75%</th>\n",
       "      <td>1100.500000</td>\n",
       "      <td>70.000000</td>\n",
       "      <td>80.000000</td>\n",
       "      <td>11692.500000</td>\n",
       "      <td>7.000000</td>\n",
       "      <td>6.000000</td>\n",
       "      <td>2001.000000</td>\n",
       "      <td>2004.000000</td>\n",
       "      <td>170.000000</td>\n",
       "      <td>724.000000</td>\n",
       "      <td>...</td>\n",
       "      <td>170.500000</td>\n",
       "      <td>73.000000</td>\n",
       "      <td>0.000000</td>\n",
       "      <td>0.000000</td>\n",
       "      <td>0.000000</td>\n",
       "      <td>0.000000</td>\n",
       "      <td>0.000000</td>\n",
       "      <td>8.000000</td>\n",
       "      <td>2009.000000</td>\n",
       "      <td>215000.000000</td>\n",
       "    </tr>\n",
       "    <tr>\n",
       "      <th>max</th>\n",
       "      <td>1460.000000</td>\n",
       "      <td>190.000000</td>\n",
       "      <td>313.000000</td>\n",
       "      <td>215245.000000</td>\n",
       "      <td>10.000000</td>\n",
       "      <td>9.000000</td>\n",
       "      <td>2010.000000</td>\n",
       "      <td>2010.000000</td>\n",
       "      <td>1378.000000</td>\n",
       "      <td>5644.000000</td>\n",
       "      <td>...</td>\n",
       "      <td>857.000000</td>\n",
       "      <td>547.000000</td>\n",
       "      <td>552.000000</td>\n",
       "      <td>508.000000</td>\n",
       "      <td>480.000000</td>\n",
       "      <td>738.000000</td>\n",
       "      <td>8300.000000</td>\n",
       "      <td>12.000000</td>\n",
       "      <td>2010.000000</td>\n",
       "      <td>745000.000000</td>\n",
       "    </tr>\n",
       "  </tbody>\n",
       "</table>\n",
       "<p>8 rows × 38 columns</p>\n",
       "</div>\n",
       "    <div class=\"colab-df-buttons\">\n",
       "\n",
       "  <div class=\"colab-df-container\">\n",
       "    <button class=\"colab-df-convert\" onclick=\"convertToInteractive('df-ff4a3dc8-a55a-4181-92ec-67b9dd2db360')\"\n",
       "            title=\"Convert this dataframe to an interactive table.\"\n",
       "            style=\"display:none;\">\n",
       "\n",
       "  <svg xmlns=\"http://www.w3.org/2000/svg\" height=\"24px\" viewBox=\"0 -960 960 960\">\n",
       "    <path d=\"M120-120v-720h720v720H120Zm60-500h600v-160H180v160Zm220 220h160v-160H400v160Zm0 220h160v-160H400v160ZM180-400h160v-160H180v160Zm440 0h160v-160H620v160ZM180-180h160v-160H180v160Zm440 0h160v-160H620v160Z\"/>\n",
       "  </svg>\n",
       "    </button>\n",
       "\n",
       "  <style>\n",
       "    .colab-df-container {\n",
       "      display:flex;\n",
       "      gap: 12px;\n",
       "    }\n",
       "\n",
       "    .colab-df-convert {\n",
       "      background-color: #E8F0FE;\n",
       "      border: none;\n",
       "      border-radius: 50%;\n",
       "      cursor: pointer;\n",
       "      display: none;\n",
       "      fill: #1967D2;\n",
       "      height: 32px;\n",
       "      padding: 0 0 0 0;\n",
       "      width: 32px;\n",
       "    }\n",
       "\n",
       "    .colab-df-convert:hover {\n",
       "      background-color: #E2EBFA;\n",
       "      box-shadow: 0px 1px 2px rgba(60, 64, 67, 0.3), 0px 1px 3px 1px rgba(60, 64, 67, 0.15);\n",
       "      fill: #174EA6;\n",
       "    }\n",
       "\n",
       "    .colab-df-buttons div {\n",
       "      margin-bottom: 4px;\n",
       "    }\n",
       "\n",
       "    [theme=dark] .colab-df-convert {\n",
       "      background-color: #3B4455;\n",
       "      fill: #D2E3FC;\n",
       "    }\n",
       "\n",
       "    [theme=dark] .colab-df-convert:hover {\n",
       "      background-color: #434B5C;\n",
       "      box-shadow: 0px 1px 3px 1px rgba(0, 0, 0, 0.15);\n",
       "      filter: drop-shadow(0px 1px 2px rgba(0, 0, 0, 0.3));\n",
       "      fill: #FFFFFF;\n",
       "    }\n",
       "  </style>\n",
       "\n",
       "    <script>\n",
       "      const buttonEl =\n",
       "        document.querySelector('#df-ff4a3dc8-a55a-4181-92ec-67b9dd2db360 button.colab-df-convert');\n",
       "      buttonEl.style.display =\n",
       "        google.colab.kernel.accessAllowed ? 'block' : 'none';\n",
       "\n",
       "      async function convertToInteractive(key) {\n",
       "        const element = document.querySelector('#df-ff4a3dc8-a55a-4181-92ec-67b9dd2db360');\n",
       "        const dataTable =\n",
       "          await google.colab.kernel.invokeFunction('convertToInteractive',\n",
       "                                                    [key], {});\n",
       "        if (!dataTable) return;\n",
       "\n",
       "        const docLinkHtml = 'Like what you see? Visit the ' +\n",
       "          '<a target=\"_blank\" href=https://colab.research.google.com/notebooks/data_table.ipynb>data table notebook</a>'\n",
       "          + ' to learn more about interactive tables.';\n",
       "        element.innerHTML = '';\n",
       "        dataTable['output_type'] = 'display_data';\n",
       "        await google.colab.output.renderOutput(dataTable, element);\n",
       "        const docLink = document.createElement('div');\n",
       "        docLink.innerHTML = docLinkHtml;\n",
       "        element.appendChild(docLink);\n",
       "      }\n",
       "    </script>\n",
       "  </div>\n",
       "\n",
       "\n",
       "<div id=\"df-ee963bfd-73d8-48c6-8f13-30628dda336f\">\n",
       "  <button class=\"colab-df-quickchart\" onclick=\"quickchart('df-ee963bfd-73d8-48c6-8f13-30628dda336f')\"\n",
       "            title=\"Suggest charts\"\n",
       "            style=\"display:none;\">\n",
       "\n",
       "<svg xmlns=\"http://www.w3.org/2000/svg\" height=\"24px\"viewBox=\"0 0 24 24\"\n",
       "     width=\"24px\">\n",
       "    <g>\n",
       "        <path d=\"M19 3H5c-1.1 0-2 .9-2 2v14c0 1.1.9 2 2 2h14c1.1 0 2-.9 2-2V5c0-1.1-.9-2-2-2zM9 17H7v-7h2v7zm4 0h-2V7h2v10zm4 0h-2v-4h2v4z\"/>\n",
       "    </g>\n",
       "</svg>\n",
       "  </button>\n",
       "\n",
       "<style>\n",
       "  .colab-df-quickchart {\n",
       "      --bg-color: #E8F0FE;\n",
       "      --fill-color: #1967D2;\n",
       "      --hover-bg-color: #E2EBFA;\n",
       "      --hover-fill-color: #174EA6;\n",
       "      --disabled-fill-color: #AAA;\n",
       "      --disabled-bg-color: #DDD;\n",
       "  }\n",
       "\n",
       "  [theme=dark] .colab-df-quickchart {\n",
       "      --bg-color: #3B4455;\n",
       "      --fill-color: #D2E3FC;\n",
       "      --hover-bg-color: #434B5C;\n",
       "      --hover-fill-color: #FFFFFF;\n",
       "      --disabled-bg-color: #3B4455;\n",
       "      --disabled-fill-color: #666;\n",
       "  }\n",
       "\n",
       "  .colab-df-quickchart {\n",
       "    background-color: var(--bg-color);\n",
       "    border: none;\n",
       "    border-radius: 50%;\n",
       "    cursor: pointer;\n",
       "    display: none;\n",
       "    fill: var(--fill-color);\n",
       "    height: 32px;\n",
       "    padding: 0;\n",
       "    width: 32px;\n",
       "  }\n",
       "\n",
       "  .colab-df-quickchart:hover {\n",
       "    background-color: var(--hover-bg-color);\n",
       "    box-shadow: 0 1px 2px rgba(60, 64, 67, 0.3), 0 1px 3px 1px rgba(60, 64, 67, 0.15);\n",
       "    fill: var(--button-hover-fill-color);\n",
       "  }\n",
       "\n",
       "  .colab-df-quickchart-complete:disabled,\n",
       "  .colab-df-quickchart-complete:disabled:hover {\n",
       "    background-color: var(--disabled-bg-color);\n",
       "    fill: var(--disabled-fill-color);\n",
       "    box-shadow: none;\n",
       "  }\n",
       "\n",
       "  .colab-df-spinner {\n",
       "    border: 2px solid var(--fill-color);\n",
       "    border-color: transparent;\n",
       "    border-bottom-color: var(--fill-color);\n",
       "    animation:\n",
       "      spin 1s steps(1) infinite;\n",
       "  }\n",
       "\n",
       "  @keyframes spin {\n",
       "    0% {\n",
       "      border-color: transparent;\n",
       "      border-bottom-color: var(--fill-color);\n",
       "      border-left-color: var(--fill-color);\n",
       "    }\n",
       "    20% {\n",
       "      border-color: transparent;\n",
       "      border-left-color: var(--fill-color);\n",
       "      border-top-color: var(--fill-color);\n",
       "    }\n",
       "    30% {\n",
       "      border-color: transparent;\n",
       "      border-left-color: var(--fill-color);\n",
       "      border-top-color: var(--fill-color);\n",
       "      border-right-color: var(--fill-color);\n",
       "    }\n",
       "    40% {\n",
       "      border-color: transparent;\n",
       "      border-right-color: var(--fill-color);\n",
       "      border-top-color: var(--fill-color);\n",
       "    }\n",
       "    60% {\n",
       "      border-color: transparent;\n",
       "      border-right-color: var(--fill-color);\n",
       "    }\n",
       "    80% {\n",
       "      border-color: transparent;\n",
       "      border-right-color: var(--fill-color);\n",
       "      border-bottom-color: var(--fill-color);\n",
       "    }\n",
       "    90% {\n",
       "      border-color: transparent;\n",
       "      border-bottom-color: var(--fill-color);\n",
       "    }\n",
       "  }\n",
       "</style>\n",
       "\n",
       "  <script>\n",
       "    async function quickchart(key) {\n",
       "      const quickchartButtonEl =\n",
       "        document.querySelector('#' + key + ' button');\n",
       "      quickchartButtonEl.disabled = true;  // To prevent multiple clicks.\n",
       "      quickchartButtonEl.classList.add('colab-df-spinner');\n",
       "      try {\n",
       "        const charts = await google.colab.kernel.invokeFunction(\n",
       "            'suggestCharts', [key], {});\n",
       "      } catch (error) {\n",
       "        console.error('Error during call to suggestCharts:', error);\n",
       "      }\n",
       "      quickchartButtonEl.classList.remove('colab-df-spinner');\n",
       "      quickchartButtonEl.classList.add('colab-df-quickchart-complete');\n",
       "    }\n",
       "    (() => {\n",
       "      let quickchartButtonEl =\n",
       "        document.querySelector('#df-ee963bfd-73d8-48c6-8f13-30628dda336f button');\n",
       "      quickchartButtonEl.style.display =\n",
       "        google.colab.kernel.accessAllowed ? 'block' : 'none';\n",
       "    })();\n",
       "  </script>\n",
       "</div>\n",
       "\n",
       "    </div>\n",
       "  </div>\n"
      ],
      "text/plain": [
       "                Id   MSSubClass  LotFrontage        LotArea  OverallQual  \\\n",
       "count  1022.000000  1022.000000   832.000000    1022.000000  1022.000000   \n",
       "mean    732.338552    57.059687    70.375000   10745.437378     6.128180   \n",
       "std     425.860402    42.669715    25.533607   11329.753423     1.371391   \n",
       "min       1.000000    20.000000    21.000000    1300.000000     1.000000   \n",
       "25%     367.500000    20.000000    59.000000    7564.250000     5.000000   \n",
       "50%     735.500000    50.000000    70.000000    9600.000000     6.000000   \n",
       "75%    1100.500000    70.000000    80.000000   11692.500000     7.000000   \n",
       "max    1460.000000   190.000000   313.000000  215245.000000    10.000000   \n",
       "\n",
       "       OverallCond    YearBuilt  YearRemodAdd   MasVnrArea   BsmtFinSF1  ...  \\\n",
       "count  1022.000000  1022.000000   1022.000000  1019.000000  1022.000000  ...   \n",
       "mean      5.564579  1970.995108   1984.757339   105.261040   446.176125  ...   \n",
       "std       1.110557    30.748816     20.747109   172.707705   459.971174  ...   \n",
       "min       1.000000  1872.000000   1950.000000     0.000000     0.000000  ...   \n",
       "25%       5.000000  1953.000000   1966.000000     0.000000     0.000000  ...   \n",
       "50%       5.000000  1972.000000   1994.000000     0.000000   390.000000  ...   \n",
       "75%       6.000000  2001.000000   2004.000000   170.000000   724.000000  ...   \n",
       "max       9.000000  2010.000000   2010.000000  1378.000000  5644.000000  ...   \n",
       "\n",
       "        WoodDeckSF  OpenPorchSF  EnclosedPorch    3SsnPorch  ScreenPorch  \\\n",
       "count  1022.000000  1022.000000    1022.000000  1022.000000  1022.000000   \n",
       "mean     97.548924    49.525440      21.303327     3.881605    15.565558   \n",
       "std     131.691873    69.205968      61.534380    32.547722    56.445749   \n",
       "min       0.000000     0.000000       0.000000     0.000000     0.000000   \n",
       "25%       0.000000     0.000000       0.000000     0.000000     0.000000   \n",
       "50%       0.000000    27.000000       0.000000     0.000000     0.000000   \n",
       "75%     170.500000    73.000000       0.000000     0.000000     0.000000   \n",
       "max     857.000000   547.000000     552.000000   508.000000   480.000000   \n",
       "\n",
       "          PoolArea      MiscVal       MoSold       YrSold      SalePrice  \n",
       "count  1022.000000  1022.000000  1022.000000  1022.000000    1022.000000  \n",
       "mean      2.743640    41.565558     6.363992  2007.814090  181312.692759  \n",
       "std      39.671531   338.132358     2.650115     1.325807   77617.461005  \n",
       "min       0.000000     0.000000     1.000000  2006.000000   34900.000000  \n",
       "25%       0.000000     0.000000     5.000000  2007.000000  130000.000000  \n",
       "50%       0.000000     0.000000     6.000000  2008.000000  165000.000000  \n",
       "75%       0.000000     0.000000     8.000000  2009.000000  215000.000000  \n",
       "max     738.000000  8300.000000    12.000000  2010.000000  745000.000000  \n",
       "\n",
       "[8 rows x 38 columns]"
      ]
     },
     "execution_count": 4,
     "metadata": {},
     "output_type": "execute_result"
    }
   ],
   "source": [
    "# Checkout basic statistics\n",
    "train_data.describe()"
   ]
  },
  {
   "cell_type": "code",
   "execution_count": null,
   "metadata": {
    "colab": {
     "base_uri": "https://localhost:8080/"
    },
    "id": "-KVVauZTP2yH",
    "outputId": "f9a59cab-f937-4158-a1da-3dbba34c9d85"
   },
   "outputs": [
    {
     "name": "stdout",
     "output_type": "stream",
     "text": [
      "1022 438\n",
      "<class 'pandas.core.frame.DataFrame'>\n",
      "RangeIndex: 1022 entries, 0 to 1021\n",
      "Data columns (total 81 columns):\n",
      " #   Column         Non-Null Count  Dtype  \n",
      "---  ------         --------------  -----  \n",
      " 0   Id             1022 non-null   int64  \n",
      " 1   MSSubClass     1022 non-null   int64  \n",
      " 2   MSZoning       1022 non-null   object \n",
      " 3   LotFrontage    832 non-null    float64\n",
      " 4   LotArea        1022 non-null   int64  \n",
      " 5   Street         1022 non-null   object \n",
      " 6   Alley          66 non-null     object \n",
      " 7   LotShape       1022 non-null   object \n",
      " 8   LandContour    1022 non-null   object \n",
      " 9   Utilities      1022 non-null   object \n",
      " 10  LotConfig      1022 non-null   object \n",
      " 11  LandSlope      1022 non-null   object \n",
      " 12  Neighborhood   1022 non-null   object \n",
      " 13  Condition1     1022 non-null   object \n",
      " 14  Condition2     1022 non-null   object \n",
      " 15  BldgType       1022 non-null   object \n",
      " 16  HouseStyle     1022 non-null   object \n",
      " 17  OverallQual    1022 non-null   int64  \n",
      " 18  OverallCond    1022 non-null   int64  \n",
      " 19  YearBuilt      1022 non-null   int64  \n",
      " 20  YearRemodAdd   1022 non-null   int64  \n",
      " 21  RoofStyle      1022 non-null   object \n",
      " 22  RoofMatl       1022 non-null   object \n",
      " 23  Exterior1st    1022 non-null   object \n",
      " 24  Exterior2nd    1022 non-null   object \n",
      " 25  MasVnrType     432 non-null    object \n",
      " 26  MasVnrArea     1019 non-null   float64\n",
      " 27  ExterQual      1022 non-null   object \n",
      " 28  ExterCond      1022 non-null   object \n",
      " 29  Foundation     1022 non-null   object \n",
      " 30  BsmtQual       996 non-null    object \n",
      " 31  BsmtCond       996 non-null    object \n",
      " 32  BsmtExposure   996 non-null    object \n",
      " 33  BsmtFinType1   996 non-null    object \n",
      " 34  BsmtFinSF1     1022 non-null   int64  \n",
      " 35  BsmtFinType2   996 non-null    object \n",
      " 36  BsmtFinSF2     1022 non-null   int64  \n",
      " 37  BsmtUnfSF      1022 non-null   int64  \n",
      " 38  TotalBsmtSF    1022 non-null   int64  \n",
      " 39  Heating        1022 non-null   object \n",
      " 40  HeatingQC      1022 non-null   object \n",
      " 41  CentralAir     1022 non-null   object \n",
      " 42  Electrical     1021 non-null   object \n",
      " 43  1stFlrSF       1022 non-null   int64  \n",
      " 44  2ndFlrSF       1022 non-null   int64  \n",
      " 45  LowQualFinSF   1022 non-null   int64  \n",
      " 46  GrLivArea      1022 non-null   int64  \n",
      " 47  BsmtFullBath   1022 non-null   int64  \n",
      " 48  BsmtHalfBath   1022 non-null   int64  \n",
      " 49  FullBath       1022 non-null   int64  \n",
      " 50  HalfBath       1022 non-null   int64  \n",
      " 51  BedroomAbvGr   1022 non-null   int64  \n",
      " 52  KitchenAbvGr   1022 non-null   int64  \n",
      " 53  KitchenQual    1022 non-null   object \n",
      " 54  TotRmsAbvGrd   1022 non-null   int64  \n",
      " 55  Functional     1022 non-null   object \n",
      " 56  Fireplaces     1022 non-null   int64  \n",
      " 57  FireplaceQu    535 non-null    object \n",
      " 58  GarageType     968 non-null    object \n",
      " 59  GarageYrBlt    968 non-null    float64\n",
      " 60  GarageFinish   968 non-null    object \n",
      " 61  GarageCars     1022 non-null   int64  \n",
      " 62  GarageArea     1022 non-null   int64  \n",
      " 63  GarageQual     968 non-null    object \n",
      " 64  GarageCond     968 non-null    object \n",
      " 65  PavedDrive     1022 non-null   object \n",
      " 66  WoodDeckSF     1022 non-null   int64  \n",
      " 67  OpenPorchSF    1022 non-null   int64  \n",
      " 68  EnclosedPorch  1022 non-null   int64  \n",
      " 69  3SsnPorch      1022 non-null   int64  \n",
      " 70  ScreenPorch    1022 non-null   int64  \n",
      " 71  PoolArea       1022 non-null   int64  \n",
      " 72  PoolQC         5 non-null      object \n",
      " 73  Fence          202 non-null    object \n",
      " 74  MiscFeature    40 non-null     object \n",
      " 75  MiscVal        1022 non-null   int64  \n",
      " 76  MoSold         1022 non-null   int64  \n",
      " 77  YrSold         1022 non-null   int64  \n",
      " 78  SaleType       1022 non-null   object \n",
      " 79  SaleCondition  1022 non-null   object \n",
      " 80  SalePrice      1022 non-null   int64  \n",
      "dtypes: float64(3), int64(35), object(43)\n",
      "memory usage: 646.9+ KB\n"
     ]
    }
   ],
   "source": [
    "# We can see that this dataset is smaller,\n",
    "# but we have the same features as before\n",
    "print(len(train_data), len(test_data))\n",
    "train_data.info()"
   ]
  },
  {
   "cell_type": "markdown",
   "metadata": {
    "id": "_JoKHGUZD2Bl"
   },
   "source": [
    "### Handling Missing Data"
   ]
  },
  {
   "cell_type": "code",
   "execution_count": null,
   "metadata": {
    "colab": {
     "base_uri": "https://localhost:8080/"
    },
    "id": "eShgdqkbD10Z",
    "outputId": "ffc942ca-8b95-478f-a89b-f5762ec68ef7"
   },
   "outputs": [
    {
     "name": "stdout",
     "output_type": "stream",
     "text": [
      "Columns with missing values:\n",
      "               Total    Percent\n",
      "PoolQC         1017  99.510763\n",
      "MiscFeature     982  96.086106\n",
      "Alley           956  93.542074\n",
      "Fence           820  80.234834\n",
      "MasVnrType      590  57.729941\n",
      "FireplaceQu     487  47.651663\n",
      "LotFrontage     190  18.590998\n",
      "GarageYrBlt      54   5.283757\n",
      "GarageCond       54   5.283757\n",
      "GarageType       54   5.283757\n",
      "GarageFinish     54   5.283757\n",
      "GarageQual       54   5.283757\n",
      "BsmtQual         26   2.544031\n",
      "BsmtCond         26   2.544031\n",
      "BsmtFinType2     26   2.544031\n",
      "BsmtFinType1     26   2.544031\n",
      "BsmtExposure     26   2.544031\n",
      "MasVnrArea        3   0.293542\n",
      "Electrical        1   0.097847\n"
     ]
    }
   ],
   "source": [
    "# Identify missing data\n",
    "missing_data = train_data.isnull().sum().sort_values(ascending=False)\n",
    "missing_percent = (train_data.isnull().sum() / len(train_data)) * 100\n",
    "missing_data = pd.concat([missing_data, missing_percent], axis=1, keys=['Total', 'Percent'])\n",
    "\n",
    "# Display columns with missing values\n",
    "print(\"Columns with missing values:\\n\", missing_data[missing_data['Total'] > 0])"
   ]
  },
  {
   "cell_type": "code",
   "execution_count": null,
   "metadata": {
    "id": "xbW3p0DyEIdg"
   },
   "outputs": [],
   "source": [
    "# Drop columns with a high percentage of missing data (e.g., more than 20% missing)\n",
    "# cols_to_drop = missing_data[missing_data['Percent'] > 20].index\n",
    "cols_to_drop = list(missing_data[missing_data['Percent'] > 20].index)\n",
    "cols_to_drop.append('Id') # Also drop Id since its useless\n",
    "\n",
    "train_data.drop(cols_to_drop, axis=1, inplace=True)\n",
    "test_data.drop(cols_to_drop, axis=1, inplace=True)"
   ]
  },
  {
   "cell_type": "code",
   "execution_count": null,
   "metadata": {
    "id": "79EDnJzVEJCl"
   },
   "outputs": [],
   "source": [
    "# For numerical columns with missing data, fill with median\n",
    "num_cols = train_data.select_dtypes(include=['int64', 'float64']).columns.drop('SalePrice')\n",
    "num_imputer = SimpleImputer(strategy='median')\n",
    "\n",
    "# train_data[num_cols] = num_imputer.fit_transform(train_data[num_cols])\n",
    "# test_data[num_cols] = num_imputer.transform(test_data[num_cols])\n",
    "\n",
    "# Using KNN imputer instead of median imputing\n",
    "n = 15 # neirest neighbours to look for\n",
    "knn_num_imputer = KNNImputer(n_neighbors=n)\n",
    "\n",
    "train_data[num_cols] = knn_num_imputer.fit_transform(train_data[num_cols])\n",
    "test_data[num_cols] = knn_num_imputer.transform(test_data[num_cols])"
   ]
  },
  {
   "cell_type": "code",
   "execution_count": null,
   "metadata": {
    "id": "ZlNaBkXbENBV"
   },
   "outputs": [],
   "source": [
    "# For categorical columns with missing data, fill with the most frequent value\n",
    "cat_cols = train_data.select_dtypes(include=['object']).columns\n",
    "cat_imputer = SimpleImputer(strategy='most_frequent')\n",
    "\n",
    "train_data[cat_cols] = cat_imputer.fit_transform(train_data[cat_cols])\n",
    "test_data[cat_cols] = cat_imputer.transform(test_data[cat_cols])"
   ]
  },
  {
   "cell_type": "markdown",
   "metadata": {
    "id": "uxIWRNyKFtcK"
   },
   "source": [
    "### Feature engineering"
   ]
  },
  {
   "cell_type": "code",
   "execution_count": null,
   "metadata": {
    "colab": {
     "base_uri": "https://localhost:8080/"
    },
    "id": "VVDzfkWaF3u9",
    "outputId": "2c7ce24f-ca31-4700-c665-abe602ee1604"
   },
   "outputs": [
    {
     "name": "stdout",
     "output_type": "stream",
     "text": [
      "Remodel_status\n",
      "recent    705\n",
      "old       317\n",
      "Name: count, dtype: int64\n",
      "Remodel_status\n",
      "recent    302\n",
      "old       136\n",
      "Name: count, dtype: int64\n"
     ]
    }
   ],
   "source": [
    "# 1. New feature: Remodelling status\n",
    "# - The difference between the original construction date (YearBuilt) and the remodel/addition date (YearRemodAdd).\n",
    "#   We can define a threshold to state whether the house is \"recent\" (recently remodelled) or \"old\".\n",
    "train_data['Remodel_status'] = np.where((train_data['YearRemodAdd'] - train_data['YearBuilt']) <= 5, 'recent', 'old')\n",
    "test_data['Remodel_status'] = np.where((test_data['YearRemodAdd'] - test_data['YearBuilt']) <= 5, 'recent', 'old')\n",
    "print(train_data['Remodel_status'].value_counts())\n",
    "print(test_data['Remodel_status'].value_counts())"
   ]
  },
  {
   "cell_type": "code",
   "execution_count": null,
   "metadata": {
    "colab": {
     "base_uri": "https://localhost:8080/"
    },
    "id": "QjkhtjjsGbCJ",
    "outputId": "b6eb9072-bc68-4399-f8b3-9612b92c9f03"
   },
   "outputs": [
    {
     "name": "stdout",
     "output_type": "stream",
     "text": [
      "OverallQual:  [ 7.  5.  9.  6.  4.  8. 10.  3.  1.  2.]\n",
      "OverallCond:  [6. 5. 7. 8. 3. 4. 9. 2. 1.]\n"
     ]
    }
   ],
   "source": [
    "# 2. New feature: Overall status\n",
    "# - Combines two variables: OverallQual (quality of materials and finish) and OverallCond (condition of the house)\n",
    "#   Based on their range of values we can define a rule how to decide the Overall status\n",
    "print(\"OverallQual: \",train_data['OverallQual'].unique())\n",
    "print(\"OverallCond: \",train_data['OverallCond'].unique())"
   ]
  },
  {
   "cell_type": "code",
   "execution_count": null,
   "metadata": {
    "colab": {
     "base_uri": "https://localhost:8080/"
    },
    "id": "-y8TbPsQGjP1",
    "outputId": "b49e4f8c-fc26-426f-cece-311f2446f28f"
   },
   "outputs": [
    {
     "name": "stdout",
     "output_type": "stream",
     "text": [
      "Overall_status\n",
      "Fair     784\n",
      "Good     198\n",
      "Poor      34\n",
      "Great      6\n",
      "Name: count, dtype: int64\n",
      "Overall_status\n",
      "Fair     357\n",
      "Good      67\n",
      "Poor      13\n",
      "Great      1\n",
      "Name: count, dtype: int64\n"
     ]
    }
   ],
   "source": [
    "# Create grouping rule for Overall status\n",
    "def overall_status_decesion(row):\n",
    "    if row['OverallQual'] >= 8 and row['OverallCond'] >= 8:\n",
    "        return 'Great'\n",
    "    elif row['OverallQual'] >= 6 and row['OverallCond'] >= 6:\n",
    "        return 'Good'\n",
    "    elif row['OverallQual'] >= 4 and row['OverallCond'] >= 4:\n",
    "        return 'Fair'\n",
    "    else:\n",
    "        return 'Poor'\n",
    "\n",
    "train_data['Overall_status'] = train_data.apply(overall_status_decesion, axis=1)\n",
    "test_data['Overall_status'] = test_data.apply(overall_status_decesion, axis=1)\n",
    "print(train_data['Overall_status'].value_counts())\n",
    "print(test_data['Overall_status'].value_counts())"
   ]
  },
  {
   "cell_type": "code",
   "execution_count": null,
   "metadata": {
    "colab": {
     "base_uri": "https://localhost:8080/"
    },
    "id": "Tq-pJDVEHT6O",
    "outputId": "10923da9-01f0-44db-b87d-99e2d123e4fe"
   },
   "outputs": [
    {
     "name": "stdout",
     "output_type": "stream",
     "text": [
      "['BsmtFullBath', 'BsmtHalfBath', 'FullBath', 'HalfBath', 'BedroomAbvGr', 'KitchenAbvGr', 'KitchenQual', 'GarageType', 'GarageYrBlt', 'GarageFinish', 'GarageCars', 'GarageArea', 'GarageQual', 'GarageCond']\n",
      "unique:  14\n",
      "['YearBuilt', 'YearRemodAdd', 'GarageYrBlt', 'YrSold']\n",
      "unique:  4\n"
     ]
    }
   ],
   "source": [
    "# Since the 'Living area features' and the 'Time related features' provided high predictive capabilities,\n",
    "# regarding the target in the classification homework, it seems like worth to experiment with a new feature\n",
    "# fabricated from these ones.\n",
    "\n",
    "# Living area features\n",
    "living_cols = [col for col in train_data.columns if\n",
    "                ('bath' in col.lower()) or\n",
    "                ('bed' in col.lower()) or\n",
    "                ('garage' in col.lower()) or\n",
    "                ('kitchen' in col.lower()) or\n",
    "                ('room' in col.lower()) or\n",
    "                ('floor' in col.lower()) or\n",
    "                ('living' in col.lower())]\n",
    "print(living_cols)\n",
    "set_liv = set([item for col in living_cols for item in col.split('_')])\n",
    "print('unique: ', len(set_liv))\n",
    "\n",
    "# Time related faetures\n",
    "time_cols = [col for col in train_data.columns if\n",
    "                ('year' in col.lower()) or\n",
    "                ('yr' in col.lower()) or\n",
    "                ('buil' in col.lower()) or\n",
    "                ('renov' in col.lower()) or\n",
    "                ('date' in col.lower())]\n",
    "print(time_cols)\n",
    "set_time = set([item for col in time_cols for item in col.split('_')])\n",
    "print('unique: ', len(set_time))\n"
   ]
  },
  {
   "cell_type": "code",
   "execution_count": null,
   "metadata": {
    "colab": {
     "base_uri": "https://localhost:8080/",
     "height": 300
    },
    "id": "yZPsms3mJGeB",
    "outputId": "62df9997-8e3f-4081-ddd2-50be3e7fdb5c"
   },
   "outputs": [
    {
     "data": {
      "application/vnd.google.colaboratory.intrinsic+json": {
       "summary": "{\n  \"name\": \"train_data[['YearBuilt', 'YearRemodAdd', 'GarageYrBlt', 'YrSold']]\",\n  \"rows\": 8,\n  \"fields\": [\n    {\n      \"column\": \"YearBuilt\",\n      \"properties\": {\n        \"dtype\": \"number\",\n        \"std\": 717.1394254206392,\n        \"min\": 30.748816107389075,\n        \"max\": 2010.0,\n        \"num_unique_values\": 8,\n        \"samples\": [\n          1970.995107632094,\n          1972.0,\n          1022.0\n        ],\n        \"semantic_type\": \"\",\n        \"description\": \"\"\n      }\n    },\n    {\n      \"column\": \"YearRemodAdd\",\n      \"properties\": {\n        \"dtype\": \"number\",\n        \"std\": 728.6289182900883,\n        \"min\": 20.747108880420985,\n        \"max\": 2010.0,\n        \"num_unique_values\": 8,\n        \"samples\": [\n          1984.757338551859,\n          1994.0,\n          1022.0\n        ],\n        \"semantic_type\": \"\",\n        \"description\": \"\"\n      }\n    },\n    {\n      \"column\": \"GarageYrBlt\",\n      \"properties\": {\n        \"dtype\": \"number\",\n        \"std\": 722.2463294372092,\n        \"min\": 24.43358411914942,\n        \"max\": 2010.0,\n        \"num_unique_values\": 8,\n        \"samples\": [\n          1978.0979778212654,\n          1978.8333333333335,\n          1022.0\n        ],\n        \"semantic_type\": \"\",\n        \"description\": \"\"\n      }\n    },\n    {\n      \"column\": \"YrSold\",\n      \"properties\": {\n        \"dtype\": \"number\",\n        \"std\": 744.4361147001522,\n        \"min\": 1.3258069461614488,\n        \"max\": 2010.0,\n        \"num_unique_values\": 8,\n        \"samples\": [\n          2007.8140900195694,\n          2008.0,\n          1022.0\n        ],\n        \"semantic_type\": \"\",\n        \"description\": \"\"\n      }\n    }\n  ]\n}",
       "type": "dataframe"
      },
      "text/html": [
       "\n",
       "  <div id=\"df-68667422-f94f-44ca-b07f-6fa0a2fb520b\" class=\"colab-df-container\">\n",
       "    <div>\n",
       "<style scoped>\n",
       "    .dataframe tbody tr th:only-of-type {\n",
       "        vertical-align: middle;\n",
       "    }\n",
       "\n",
       "    .dataframe tbody tr th {\n",
       "        vertical-align: top;\n",
       "    }\n",
       "\n",
       "    .dataframe thead th {\n",
       "        text-align: right;\n",
       "    }\n",
       "</style>\n",
       "<table border=\"1\" class=\"dataframe\">\n",
       "  <thead>\n",
       "    <tr style=\"text-align: right;\">\n",
       "      <th></th>\n",
       "      <th>YearBuilt</th>\n",
       "      <th>YearRemodAdd</th>\n",
       "      <th>GarageYrBlt</th>\n",
       "      <th>YrSold</th>\n",
       "    </tr>\n",
       "  </thead>\n",
       "  <tbody>\n",
       "    <tr>\n",
       "      <th>count</th>\n",
       "      <td>1022.000000</td>\n",
       "      <td>1022.000000</td>\n",
       "      <td>1022.000000</td>\n",
       "      <td>1022.000000</td>\n",
       "    </tr>\n",
       "    <tr>\n",
       "      <th>mean</th>\n",
       "      <td>1970.995108</td>\n",
       "      <td>1984.757339</td>\n",
       "      <td>1978.097978</td>\n",
       "      <td>2007.814090</td>\n",
       "    </tr>\n",
       "    <tr>\n",
       "      <th>std</th>\n",
       "      <td>30.748816</td>\n",
       "      <td>20.747109</td>\n",
       "      <td>24.433584</td>\n",
       "      <td>1.325807</td>\n",
       "    </tr>\n",
       "    <tr>\n",
       "      <th>min</th>\n",
       "      <td>1872.000000</td>\n",
       "      <td>1950.000000</td>\n",
       "      <td>1900.000000</td>\n",
       "      <td>2006.000000</td>\n",
       "    </tr>\n",
       "    <tr>\n",
       "      <th>25%</th>\n",
       "      <td>1953.000000</td>\n",
       "      <td>1966.000000</td>\n",
       "      <td>1961.000000</td>\n",
       "      <td>2007.000000</td>\n",
       "    </tr>\n",
       "    <tr>\n",
       "      <th>50%</th>\n",
       "      <td>1972.000000</td>\n",
       "      <td>1994.000000</td>\n",
       "      <td>1978.833333</td>\n",
       "      <td>2008.000000</td>\n",
       "    </tr>\n",
       "    <tr>\n",
       "      <th>75%</th>\n",
       "      <td>2001.000000</td>\n",
       "      <td>2004.000000</td>\n",
       "      <td>2001.000000</td>\n",
       "      <td>2009.000000</td>\n",
       "    </tr>\n",
       "    <tr>\n",
       "      <th>max</th>\n",
       "      <td>2010.000000</td>\n",
       "      <td>2010.000000</td>\n",
       "      <td>2010.000000</td>\n",
       "      <td>2010.000000</td>\n",
       "    </tr>\n",
       "  </tbody>\n",
       "</table>\n",
       "</div>\n",
       "    <div class=\"colab-df-buttons\">\n",
       "\n",
       "  <div class=\"colab-df-container\">\n",
       "    <button class=\"colab-df-convert\" onclick=\"convertToInteractive('df-68667422-f94f-44ca-b07f-6fa0a2fb520b')\"\n",
       "            title=\"Convert this dataframe to an interactive table.\"\n",
       "            style=\"display:none;\">\n",
       "\n",
       "  <svg xmlns=\"http://www.w3.org/2000/svg\" height=\"24px\" viewBox=\"0 -960 960 960\">\n",
       "    <path d=\"M120-120v-720h720v720H120Zm60-500h600v-160H180v160Zm220 220h160v-160H400v160Zm0 220h160v-160H400v160ZM180-400h160v-160H180v160Zm440 0h160v-160H620v160ZM180-180h160v-160H180v160Zm440 0h160v-160H620v160Z\"/>\n",
       "  </svg>\n",
       "    </button>\n",
       "\n",
       "  <style>\n",
       "    .colab-df-container {\n",
       "      display:flex;\n",
       "      gap: 12px;\n",
       "    }\n",
       "\n",
       "    .colab-df-convert {\n",
       "      background-color: #E8F0FE;\n",
       "      border: none;\n",
       "      border-radius: 50%;\n",
       "      cursor: pointer;\n",
       "      display: none;\n",
       "      fill: #1967D2;\n",
       "      height: 32px;\n",
       "      padding: 0 0 0 0;\n",
       "      width: 32px;\n",
       "    }\n",
       "\n",
       "    .colab-df-convert:hover {\n",
       "      background-color: #E2EBFA;\n",
       "      box-shadow: 0px 1px 2px rgba(60, 64, 67, 0.3), 0px 1px 3px 1px rgba(60, 64, 67, 0.15);\n",
       "      fill: #174EA6;\n",
       "    }\n",
       "\n",
       "    .colab-df-buttons div {\n",
       "      margin-bottom: 4px;\n",
       "    }\n",
       "\n",
       "    [theme=dark] .colab-df-convert {\n",
       "      background-color: #3B4455;\n",
       "      fill: #D2E3FC;\n",
       "    }\n",
       "\n",
       "    [theme=dark] .colab-df-convert:hover {\n",
       "      background-color: #434B5C;\n",
       "      box-shadow: 0px 1px 3px 1px rgba(0, 0, 0, 0.15);\n",
       "      filter: drop-shadow(0px 1px 2px rgba(0, 0, 0, 0.3));\n",
       "      fill: #FFFFFF;\n",
       "    }\n",
       "  </style>\n",
       "\n",
       "    <script>\n",
       "      const buttonEl =\n",
       "        document.querySelector('#df-68667422-f94f-44ca-b07f-6fa0a2fb520b button.colab-df-convert');\n",
       "      buttonEl.style.display =\n",
       "        google.colab.kernel.accessAllowed ? 'block' : 'none';\n",
       "\n",
       "      async function convertToInteractive(key) {\n",
       "        const element = document.querySelector('#df-68667422-f94f-44ca-b07f-6fa0a2fb520b');\n",
       "        const dataTable =\n",
       "          await google.colab.kernel.invokeFunction('convertToInteractive',\n",
       "                                                    [key], {});\n",
       "        if (!dataTable) return;\n",
       "\n",
       "        const docLinkHtml = 'Like what you see? Visit the ' +\n",
       "          '<a target=\"_blank\" href=https://colab.research.google.com/notebooks/data_table.ipynb>data table notebook</a>'\n",
       "          + ' to learn more about interactive tables.';\n",
       "        element.innerHTML = '';\n",
       "        dataTable['output_type'] = 'display_data';\n",
       "        await google.colab.output.renderOutput(dataTable, element);\n",
       "        const docLink = document.createElement('div');\n",
       "        docLink.innerHTML = docLinkHtml;\n",
       "        element.appendChild(docLink);\n",
       "      }\n",
       "    </script>\n",
       "  </div>\n",
       "\n",
       "\n",
       "<div id=\"df-ca5145f9-6611-4abf-86a2-a1f136e61d30\">\n",
       "  <button class=\"colab-df-quickchart\" onclick=\"quickchart('df-ca5145f9-6611-4abf-86a2-a1f136e61d30')\"\n",
       "            title=\"Suggest charts\"\n",
       "            style=\"display:none;\">\n",
       "\n",
       "<svg xmlns=\"http://www.w3.org/2000/svg\" height=\"24px\"viewBox=\"0 0 24 24\"\n",
       "     width=\"24px\">\n",
       "    <g>\n",
       "        <path d=\"M19 3H5c-1.1 0-2 .9-2 2v14c0 1.1.9 2 2 2h14c1.1 0 2-.9 2-2V5c0-1.1-.9-2-2-2zM9 17H7v-7h2v7zm4 0h-2V7h2v10zm4 0h-2v-4h2v4z\"/>\n",
       "    </g>\n",
       "</svg>\n",
       "  </button>\n",
       "\n",
       "<style>\n",
       "  .colab-df-quickchart {\n",
       "      --bg-color: #E8F0FE;\n",
       "      --fill-color: #1967D2;\n",
       "      --hover-bg-color: #E2EBFA;\n",
       "      --hover-fill-color: #174EA6;\n",
       "      --disabled-fill-color: #AAA;\n",
       "      --disabled-bg-color: #DDD;\n",
       "  }\n",
       "\n",
       "  [theme=dark] .colab-df-quickchart {\n",
       "      --bg-color: #3B4455;\n",
       "      --fill-color: #D2E3FC;\n",
       "      --hover-bg-color: #434B5C;\n",
       "      --hover-fill-color: #FFFFFF;\n",
       "      --disabled-bg-color: #3B4455;\n",
       "      --disabled-fill-color: #666;\n",
       "  }\n",
       "\n",
       "  .colab-df-quickchart {\n",
       "    background-color: var(--bg-color);\n",
       "    border: none;\n",
       "    border-radius: 50%;\n",
       "    cursor: pointer;\n",
       "    display: none;\n",
       "    fill: var(--fill-color);\n",
       "    height: 32px;\n",
       "    padding: 0;\n",
       "    width: 32px;\n",
       "  }\n",
       "\n",
       "  .colab-df-quickchart:hover {\n",
       "    background-color: var(--hover-bg-color);\n",
       "    box-shadow: 0 1px 2px rgba(60, 64, 67, 0.3), 0 1px 3px 1px rgba(60, 64, 67, 0.15);\n",
       "    fill: var(--button-hover-fill-color);\n",
       "  }\n",
       "\n",
       "  .colab-df-quickchart-complete:disabled,\n",
       "  .colab-df-quickchart-complete:disabled:hover {\n",
       "    background-color: var(--disabled-bg-color);\n",
       "    fill: var(--disabled-fill-color);\n",
       "    box-shadow: none;\n",
       "  }\n",
       "\n",
       "  .colab-df-spinner {\n",
       "    border: 2px solid var(--fill-color);\n",
       "    border-color: transparent;\n",
       "    border-bottom-color: var(--fill-color);\n",
       "    animation:\n",
       "      spin 1s steps(1) infinite;\n",
       "  }\n",
       "\n",
       "  @keyframes spin {\n",
       "    0% {\n",
       "      border-color: transparent;\n",
       "      border-bottom-color: var(--fill-color);\n",
       "      border-left-color: var(--fill-color);\n",
       "    }\n",
       "    20% {\n",
       "      border-color: transparent;\n",
       "      border-left-color: var(--fill-color);\n",
       "      border-top-color: var(--fill-color);\n",
       "    }\n",
       "    30% {\n",
       "      border-color: transparent;\n",
       "      border-left-color: var(--fill-color);\n",
       "      border-top-color: var(--fill-color);\n",
       "      border-right-color: var(--fill-color);\n",
       "    }\n",
       "    40% {\n",
       "      border-color: transparent;\n",
       "      border-right-color: var(--fill-color);\n",
       "      border-top-color: var(--fill-color);\n",
       "    }\n",
       "    60% {\n",
       "      border-color: transparent;\n",
       "      border-right-color: var(--fill-color);\n",
       "    }\n",
       "    80% {\n",
       "      border-color: transparent;\n",
       "      border-right-color: var(--fill-color);\n",
       "      border-bottom-color: var(--fill-color);\n",
       "    }\n",
       "    90% {\n",
       "      border-color: transparent;\n",
       "      border-bottom-color: var(--fill-color);\n",
       "    }\n",
       "  }\n",
       "</style>\n",
       "\n",
       "  <script>\n",
       "    async function quickchart(key) {\n",
       "      const quickchartButtonEl =\n",
       "        document.querySelector('#' + key + ' button');\n",
       "      quickchartButtonEl.disabled = true;  // To prevent multiple clicks.\n",
       "      quickchartButtonEl.classList.add('colab-df-spinner');\n",
       "      try {\n",
       "        const charts = await google.colab.kernel.invokeFunction(\n",
       "            'suggestCharts', [key], {});\n",
       "      } catch (error) {\n",
       "        console.error('Error during call to suggestCharts:', error);\n",
       "      }\n",
       "      quickchartButtonEl.classList.remove('colab-df-spinner');\n",
       "      quickchartButtonEl.classList.add('colab-df-quickchart-complete');\n",
       "    }\n",
       "    (() => {\n",
       "      let quickchartButtonEl =\n",
       "        document.querySelector('#df-ca5145f9-6611-4abf-86a2-a1f136e61d30 button');\n",
       "      quickchartButtonEl.style.display =\n",
       "        google.colab.kernel.accessAllowed ? 'block' : 'none';\n",
       "    })();\n",
       "  </script>\n",
       "</div>\n",
       "\n",
       "    </div>\n",
       "  </div>\n"
      ],
      "text/plain": [
       "         YearBuilt  YearRemodAdd  GarageYrBlt       YrSold\n",
       "count  1022.000000   1022.000000  1022.000000  1022.000000\n",
       "mean   1970.995108   1984.757339  1978.097978  2007.814090\n",
       "std      30.748816     20.747109    24.433584     1.325807\n",
       "min    1872.000000   1950.000000  1900.000000  2006.000000\n",
       "25%    1953.000000   1966.000000  1961.000000  2007.000000\n",
       "50%    1972.000000   1994.000000  1978.833333  2008.000000\n",
       "75%    2001.000000   2004.000000  2001.000000  2009.000000\n",
       "max    2010.000000   2010.000000  2010.000000  2010.000000"
      ]
     },
     "execution_count": 14,
     "metadata": {},
     "output_type": "execute_result"
    }
   ],
   "source": [
    "# Statistic description helps identify strategies\n",
    "train_data[['YearBuilt', 'YearRemodAdd', 'GarageYrBlt', 'YrSold']].describe()"
   ]
  },
  {
   "cell_type": "code",
   "execution_count": null,
   "metadata": {
    "colab": {
     "base_uri": "https://localhost:8080/"
    },
    "id": "UEubDeMZJGcG",
    "outputId": "259afff9-aa25-4973-b4ef-4fcfdd0fa5ee"
   },
   "outputs": [
    {
     "name": "stdout",
     "output_type": "stream",
     "text": [
      "ConstructionEra\n",
      "1990-2010      389\n",
      "1960-1990      289\n",
      "1930-1960      210\n",
      "1900-1930      123\n",
      "Before 1900     11\n",
      "Name: count, dtype: int64\n",
      "\n",
      "ConstructionEra\n",
      "1990-2010      162\n",
      "1960-1990      135\n",
      "1930-1960       90\n",
      "1900-1930       47\n",
      "Before 1900      4\n",
      "Name: count, dtype: int64\n"
     ]
    }
   ],
   "source": [
    "# 3. New feature: ConstructionEra\n",
    "# We can make this feature by classifying years of construction into groups\n",
    "def construction_era(year):\n",
    "    if year < 1900:\n",
    "        return 'Before 1900'\n",
    "    elif year < 1930:\n",
    "        return '1900-1930'\n",
    "    elif year < 1960:\n",
    "        return '1930-1960'\n",
    "    elif year < 1990:\n",
    "        return '1960-1990'\n",
    "    else:\n",
    "        return '1990-2010'\n",
    "train_data['ConstructionEra'] = train_data['YearBuilt'].apply(construction_era)\n",
    "test_data['ConstructionEra'] = test_data['YearBuilt'].apply(construction_era)\n",
    "\n",
    "# Check out class distribution\n",
    "# (with more insight it could be more meaningful)\n",
    "print(train_data['ConstructionEra'].value_counts());print()\n",
    "print(test_data['ConstructionEra'].value_counts())"
   ]
  },
  {
   "cell_type": "code",
   "execution_count": null,
   "metadata": {
    "colab": {
     "base_uri": "https://localhost:8080/",
     "height": 335
    },
    "id": "D4pfVO6sPcV3",
    "outputId": "19716ac2-5a8f-43fd-cd38-56934a639ba0"
   },
   "outputs": [
    {
     "data": {
      "text/html": [
       "<div>\n",
       "<style scoped>\n",
       "    .dataframe tbody tr th:only-of-type {\n",
       "        vertical-align: middle;\n",
       "    }\n",
       "\n",
       "    .dataframe tbody tr th {\n",
       "        vertical-align: top;\n",
       "    }\n",
       "\n",
       "    .dataframe thead th {\n",
       "        text-align: right;\n",
       "    }\n",
       "</style>\n",
       "<table border=\"1\" class=\"dataframe\">\n",
       "  <thead>\n",
       "    <tr style=\"text-align: right;\">\n",
       "      <th></th>\n",
       "      <th>YearFeaturesWeighted</th>\n",
       "    </tr>\n",
       "  </thead>\n",
       "  <tbody>\n",
       "    <tr>\n",
       "      <th>count</th>\n",
       "      <td>1022.000000</td>\n",
       "    </tr>\n",
       "    <tr>\n",
       "      <th>mean</th>\n",
       "      <td>69.415238</td>\n",
       "    </tr>\n",
       "    <tr>\n",
       "      <th>std</th>\n",
       "      <td>48.540946</td>\n",
       "    </tr>\n",
       "    <tr>\n",
       "      <th>min</th>\n",
       "      <td>0.000000</td>\n",
       "    </tr>\n",
       "    <tr>\n",
       "      <th>25%</th>\n",
       "      <td>19.575000</td>\n",
       "    </tr>\n",
       "    <tr>\n",
       "      <th>50%</th>\n",
       "      <td>71.050000</td>\n",
       "    </tr>\n",
       "    <tr>\n",
       "      <th>75%</th>\n",
       "      <td>107.700000</td>\n",
       "    </tr>\n",
       "    <tr>\n",
       "      <th>max</th>\n",
       "      <td>186.800000</td>\n",
       "    </tr>\n",
       "  </tbody>\n",
       "</table>\n",
       "</div><br><label><b>dtype:</b> float64</label>"
      ],
      "text/plain": [
       "count    1022.000000\n",
       "mean       69.415238\n",
       "std        48.540946\n",
       "min         0.000000\n",
       "25%        19.575000\n",
       "50%        71.050000\n",
       "75%       107.700000\n",
       "max       186.800000\n",
       "Name: YearFeaturesWeighted, dtype: float64"
      ]
     },
     "execution_count": 16,
     "metadata": {},
     "output_type": "execute_result"
    }
   ],
   "source": [
    "# 4. New feature: Year features weighted\n",
    "# Based on differences from current year (2010) we can make a new feature. This can be weighted as well,\n",
    "# although this might manipulate the data subjectively, and perhaps not correctly.\n",
    "\n",
    "current_year = 2010 # we saw it from statistics table of year features as max\n",
    "train_data['YearFeaturesWeighted'] = (\n",
    "    (current_year - train_data['YearBuilt']) * 1.0 +     # this is usually the most important among them, so deserves 100%\n",
    "    (current_year - train_data['YearRemodAdd']) * 0.9 +  # this is also driving factor for buyers\n",
    "    (current_year - train_data['YrSold']) * 0.6 +        # this might reflect the market status, but possibly not that influential\n",
    "    (current_year - train_data['GarageYrBlt']) * 0.2     # this is usually not a driving factor\n",
    ")\n",
    "test_data['YearFeaturesWeighted'] = (\n",
    "    (current_year - test_data['YearBuilt']) * 1.0 +\n",
    "    (current_year - test_data['YearRemodAdd']) * 0.9 +\n",
    "    (current_year - test_data['YrSold']) * 0.6 +\n",
    "    (current_year - test_data['GarageYrBlt']) * 0.2\n",
    ")\n",
    "\n",
    "train_data['YearFeaturesWeighted'].describe() # will be rescaled, but there might be better way to normalize"
   ]
  },
  {
   "cell_type": "code",
   "execution_count": null,
   "metadata": {
    "id": "SMR0kxbTPcUG"
   },
   "outputs": [],
   "source": [
    "# 5. New feature: Living space\n",
    "# (Living area / Total num of rooms)\n",
    "# This way we might get a broader aspect about how these rooms are distributed.\n",
    "train_data['LivingSpace'] = train_data['GrLivArea'] / train_data['TotRmsAbvGrd']\n",
    "test_data['LivingSpace'] = test_data['GrLivArea'] / test_data['TotRmsAbvGrd']"
   ]
  },
  {
   "cell_type": "code",
   "execution_count": null,
   "metadata": {
    "colab": {
     "base_uri": "https://localhost:8080/",
     "height": 335
    },
    "id": "WoTTeZbVaYw3",
    "outputId": "bda33737-a119-4a3e-86f4-61788e07ff7f"
   },
   "outputs": [
    {
     "data": {
      "text/html": [
       "<div>\n",
       "<style scoped>\n",
       "    .dataframe tbody tr th:only-of-type {\n",
       "        vertical-align: middle;\n",
       "    }\n",
       "\n",
       "    .dataframe tbody tr th {\n",
       "        vertical-align: top;\n",
       "    }\n",
       "\n",
       "    .dataframe thead th {\n",
       "        text-align: right;\n",
       "    }\n",
       "</style>\n",
       "<table border=\"1\" class=\"dataframe\">\n",
       "  <thead>\n",
       "    <tr style=\"text-align: right;\">\n",
       "      <th></th>\n",
       "      <th>LivingSpace</th>\n",
       "    </tr>\n",
       "  </thead>\n",
       "  <tbody>\n",
       "    <tr>\n",
       "      <th>count</th>\n",
       "      <td>1022.000000</td>\n",
       "    </tr>\n",
       "    <tr>\n",
       "      <th>mean</th>\n",
       "      <td>232.105656</td>\n",
       "    </tr>\n",
       "    <tr>\n",
       "      <th>std</th>\n",
       "      <td>45.151026</td>\n",
       "    </tr>\n",
       "    <tr>\n",
       "      <th>min</th>\n",
       "      <td>129.000000</td>\n",
       "    </tr>\n",
       "    <tr>\n",
       "      <th>25%</th>\n",
       "      <td>200.312500</td>\n",
       "    </tr>\n",
       "    <tr>\n",
       "      <th>50%</th>\n",
       "      <td>227.083333</td>\n",
       "    </tr>\n",
       "    <tr>\n",
       "      <th>75%</th>\n",
       "      <td>256.428571</td>\n",
       "    </tr>\n",
       "    <tr>\n",
       "      <th>max</th>\n",
       "      <td>470.166667</td>\n",
       "    </tr>\n",
       "  </tbody>\n",
       "</table>\n",
       "</div><br><label><b>dtype:</b> float64</label>"
      ],
      "text/plain": [
       "count    1022.000000\n",
       "mean      232.105656\n",
       "std        45.151026\n",
       "min       129.000000\n",
       "25%       200.312500\n",
       "50%       227.083333\n",
       "75%       256.428571\n",
       "max       470.166667\n",
       "Name: LivingSpace, dtype: float64"
      ]
     },
     "execution_count": 18,
     "metadata": {},
     "output_type": "execute_result"
    }
   ],
   "source": [
    "train_data['LivingSpace'].describe()"
   ]
  },
  {
   "cell_type": "markdown",
   "metadata": {
    "id": "oTrHv3RdFnZv"
   },
   "source": [
    "### Encoding categorical variables\n"
   ]
  },
  {
   "cell_type": "code",
   "execution_count": null,
   "metadata": {
    "colab": {
     "base_uri": "https://localhost:8080/"
    },
    "id": "dLv93tL3ETVI",
    "outputId": "f3182256-abbc-47d0-ecd7-2bbf5bab2c28"
   },
   "outputs": [
    {
     "name": "stdout",
     "output_type": "stream",
     "text": [
      "MSZoning: ['RL' 'RM' 'FV' 'C (all)' 'RH']\n",
      "Street: ['Pave' 'Grvl']\n",
      "LotShape: ['Reg' 'IR1' 'IR2' 'IR3']\n",
      "LandContour: ['Lvl' 'HLS' 'Bnk' 'Low']\n",
      "Utilities: ['AllPub' 'NoSeWa']\n",
      "LotConfig: ['Inside' 'Corner' 'CulDSac' 'FR2' 'FR3']\n",
      "LandSlope: ['Gtl' 'Mod' 'Sev']\n",
      "Neighborhood: ['NWAmes' 'Edwards' 'Somerst' 'CollgCr' 'NAmes' 'SawyerW' 'Sawyer'\n",
      " 'Gilbert' 'OldTown' 'BrkSide' 'SWISU' 'ClearCr' 'StoneBr' 'Crawfor'\n",
      " 'Mitchel' 'NoRidge' 'Blmngtn' 'Veenker' 'Timber' 'IDOTRR' 'NridgHt'\n",
      " 'BrDale' 'MeadowV' 'NPkVill' 'Blueste']\n",
      "Condition1: ['Norm' 'RRNn' 'PosN' 'Feedr' 'PosA' 'Artery' 'RRAn' 'RRAe' 'RRNe']\n",
      "Condition2: ['Norm' 'Feedr' 'RRAe' 'PosN' 'Artery' 'RRAn']\n",
      "BldgType: ['1Fam' 'TwnhsE' 'Duplex' '2fmCon' 'Twnhs']\n",
      "HouseStyle: ['1Story' 'SLvl' '2Story' '1.5Fin' '2.5Fin' 'SFoyer' '1.5Unf' '2.5Unf']\n",
      "RoofStyle: ['Hip' 'Gable' 'Gambrel' 'Mansard' 'Flat' 'Shed']\n",
      "RoofMatl: ['CompShg' 'WdShngl' 'WdShake' 'Metal' 'Tar&Grv' 'ClyTile' 'Roll']\n",
      "Exterior1st: ['Plywood' 'VinylSd' 'Wd Sdng' 'MetalSd' 'HdBoard' 'BrkFace' 'WdShing'\n",
      " 'BrkComm' 'CemntBd' 'Stucco' 'AsbShng' 'CBlock' 'AsphShn' 'Stone']\n",
      "Exterior2nd: ['Plywood' 'VinylSd' 'ImStucc' 'Wd Sdng' 'MetalSd' 'HdBoard' 'BrkFace'\n",
      " 'Stucco' 'Brk Cmn' 'Wd Shng' 'CmentBd' 'AsbShng' 'Stone' 'Other' 'CBlock'\n",
      " 'AsphShn']\n",
      "ExterQual: ['TA' 'Ex' 'Gd' 'Fa']\n",
      "ExterCond: ['TA' 'Gd' 'Fa' 'Po' 'Ex']\n",
      "Foundation: ['PConc' 'CBlock' 'BrkTil' 'Slab' 'Wood' 'Stone']\n",
      "BsmtQual: ['TA' 'Gd' 'Ex' 'Fa']\n",
      "BsmtCond: ['TA' 'Gd' 'Fa' 'Po']\n",
      "BsmtExposure: ['No' 'Gd' 'Mn' 'Av']\n",
      "BsmtFinType1: ['Unf' 'GLQ' 'ALQ' 'Rec' 'BLQ' 'LwQ']\n",
      "BsmtFinType2: ['Unf' 'ALQ' 'Rec' 'LwQ' 'BLQ' 'GLQ']\n",
      "Heating: ['GasA' 'GasW' 'Grav' 'OthW' 'Wall' 'Floor']\n",
      "HeatingQC: ['Gd' 'Ex' 'TA' 'Fa' 'Po']\n",
      "CentralAir: ['Y' 'N']\n",
      "Electrical: ['SBrkr' 'FuseA' 'FuseF' 'FuseP']\n",
      "KitchenQual: ['TA' 'Gd' 'Ex' 'Fa']\n",
      "Functional: ['Typ' 'Min2' 'Maj2' 'Mod' 'Min1' 'Maj1' 'Sev']\n",
      "GarageType: ['Attchd' 'Basment' 'BuiltIn' 'Detchd' 'CarPort' '2Types']\n",
      "GarageFinish: ['Unf' 'Fin' 'RFn']\n",
      "GarageQual: ['TA' 'Gd' 'Fa' 'Ex' 'Po']\n",
      "GarageCond: ['TA' 'Fa' 'Po' 'Gd' 'Ex']\n",
      "PavedDrive: ['Y' 'N' 'P']\n",
      "SaleType: ['WD' 'Con' 'ConLw' 'New' 'COD' 'ConLD' 'CWD' 'Oth' 'ConLI']\n",
      "SaleCondition: ['Normal' 'Partial' 'Abnorml' 'Family' 'AdjLand' 'Alloca']\n",
      "Remodel_status: ['recent' 'old']\n",
      "Overall_status: ['Good' 'Fair' 'Poor' 'Great']\n",
      "ConstructionEra: ['1960-1990' '1990-2010' '1930-1960' '1900-1930' 'Before 1900']\n",
      "Binary columns: ['Street', 'Utilities', 'CentralAir', 'Remodel_status']\n",
      "Multi-category columns: ['MSZoning', 'LotShape', 'LandContour', 'LotConfig', 'LandSlope', 'Neighborhood', 'Condition1', 'Condition2', 'BldgType', 'HouseStyle', 'RoofStyle', 'RoofMatl', 'Exterior1st', 'Exterior2nd', 'ExterQual', 'ExterCond', 'Foundation', 'BsmtQual', 'BsmtCond', 'BsmtExposure', 'BsmtFinType1', 'BsmtFinType2', 'Heating', 'HeatingQC', 'Electrical', 'KitchenQual', 'Functional', 'GarageType', 'GarageFinish', 'GarageQual', 'GarageCond', 'PavedDrive', 'SaleType', 'SaleCondition', 'Overall_status', 'ConstructionEra']\n"
     ]
    }
   ],
   "source": [
    "# Recollect categorical columns\n",
    "cat_cols = train_data.select_dtypes(include=['object']).columns.tolist()\n",
    "\n",
    "# Inspect unique values in categorical columns\n",
    "for col in cat_cols:\n",
    "    print(f\"{col}: {train_data[col].unique()}\")\n",
    "\n",
    "# Split into binary and multi-category columns\n",
    "binary_cols = [col for col in cat_cols if train_data[col].nunique() == 2]\n",
    "multi_cat_cols = [col for col in cat_cols if train_data[col].nunique() > 2]\n",
    "\n",
    "print(f\"Binary columns: {binary_cols}\")\n",
    "print(f\"Multi-category columns: {multi_cat_cols}\")"
   ]
  },
  {
   "cell_type": "code",
   "execution_count": null,
   "metadata": {
    "colab": {
     "base_uri": "https://localhost:8080/"
    },
    "id": "3z_DqmwGEZC0",
    "outputId": "023049e7-7981-492e-dc31-d9f30659c7b6"
   },
   "outputs": [
    {
     "name": "stdout",
     "output_type": "stream",
     "text": [
      "   Street  Utilities  CentralAir  Remodel_status\n",
      "0       1          0           1               1\n",
      "1       1          0           1               1\n",
      "2       1          0           1               1\n",
      "3       1          0           1               1\n",
      "4       1          0           1               1\n"
     ]
    }
   ],
   "source": [
    "# Initialize LabelEncoder\n",
    "label_encoder = LabelEncoder()\n",
    "\n",
    "# Apply LabelEncoder to binary categorical columns\n",
    "for col in binary_cols:\n",
    "    train_data[col] = label_encoder.fit_transform(train_data[col])\n",
    "    test_data[col] = label_encoder.transform(test_data[col])\n",
    "\n",
    "# Check the transformed columns\n",
    "print(train_data[binary_cols].head())"
   ]
  },
  {
   "cell_type": "code",
   "execution_count": null,
   "metadata": {
    "id": "RbhMy0fEEo19"
   },
   "outputs": [],
   "source": [
    "# For multi-category variables, we use One-Hot Encoding. This creates a new binary column for each category, with 1 indicating the presence of that category and 0 otherwise.\n",
    "# One-Hot Encoding using pandas get_dummies\n",
    "train_data = pd.get_dummies(train_data, columns=multi_cat_cols, drop_first=True)\n",
    "\n",
    "# Apply One-Hot Encoding to test data\n",
    "test_data = pd.get_dummies(test_data, columns=multi_cat_cols, drop_first=True)\n",
    "\n",
    "# Align the train and test datasets to have the same columns\n",
    "train_data, test_data = train_data.align(test_data, join='left', axis=1, fill_value=0)"
   ]
  },
  {
   "cell_type": "code",
   "execution_count": null,
   "metadata": {
    "colab": {
     "base_uri": "https://localhost:8080/"
    },
    "id": "8TZxY9UClZDL",
    "outputId": "1a35569d-c447-4134-aff0-60e19f8593ee"
   },
   "outputs": [
    {
     "data": {
      "text/plain": [
       "(235, 235)"
      ]
     },
     "execution_count": 22,
     "metadata": {},
     "output_type": "execute_result"
    }
   ],
   "source": [
    "len(train_data.columns), len(test_data.columns)"
   ]
  },
  {
   "cell_type": "markdown",
   "metadata": {
    "id": "Ghm5loYYE26z"
   },
   "source": [
    "### Standardization"
   ]
  },
  {
   "cell_type": "code",
   "execution_count": null,
   "metadata": {
    "id": "GH-2St2yFI7b"
   },
   "outputs": [],
   "source": [
    "# Recollect numericals\n",
    "num_cols = train_data.select_dtypes(include=['int64', 'float64']).columns.drop('SalePrice').tolist()\n",
    "\n",
    "# Apply Standardization using StandardScaler\n",
    "scaler = StandardScaler()\n",
    "features_train = train_data.drop(columns=['SalePrice'])\n",
    "features_test = test_data.drop(columns=['SalePrice'])\n",
    "\n",
    "# Fit the scaler on the training data and transform it\n",
    "features_scaled_train = scaler.fit_transform(features_train[num_cols])\n",
    "features_scaled_test = scaler.fit_transform(features_test[num_cols])\n",
    "\n",
    "# Convert the result back to a DataFrame for easy visualization\n",
    "features_scaled_train = pd.DataFrame(features_scaled_train, columns=num_cols)\n",
    "features_scaled_test = pd.DataFrame(features_scaled_test, columns=num_cols)\n",
    "\n",
    "# Refreshing the dataset with scaled numerical features\n",
    "for col in num_cols:\n",
    "    train_data[[col]] = features_scaled_train[[col]]\n",
    "    test_data[[col]] = features_scaled_test[[col]]"
   ]
  },
  {
   "cell_type": "markdown",
   "metadata": {
    "id": "m3jbGlDMEz49"
   },
   "source": [
    "### Removing low variance variables"
   ]
  },
  {
   "cell_type": "code",
   "execution_count": null,
   "metadata": {
    "colab": {
     "base_uri": "https://localhost:8080/"
    },
    "id": "Lu18g3B9EIXf",
    "outputId": "de74882f-1783-4921-c41b-2f18d143a91f"
   },
   "outputs": [
    {
     "name": "stdout",
     "output_type": "stream",
     "text": [
      "Number of cols before (train): 235\n",
      "Number of cols before (test): 235\n",
      "\n",
      "Number of cols after (train): 109\n",
      "Number of cols after (test): 109\n"
     ]
    }
   ],
   "source": [
    "## Threshold = 0.05 gave best results\n",
    "\n",
    "print(f\"Number of cols before (train): {len(train_data.columns)}\")\n",
    "print(f\"Number of cols before (test): {len(test_data.columns)}\");print()\n",
    "\n",
    "threshold = 0.05\n",
    "variances = train_data.var()\n",
    "sorted_variances = variances.sort_values() # sorting them in asc\n",
    "low_variance_features = variances[variances < threshold].index.tolist() # threshold low var features as <1%\n",
    "train_data = train_data.drop(columns=low_variance_features) # drop low var features\n",
    "test_data = test_data.drop(columns=low_variance_features) # drop low var features\n",
    "\n",
    "print(f\"Number of cols after (train): {len(train_data.columns)}\")\n",
    "print(f\"Number of cols after (test): {len(test_data.columns)}\")"
   ]
  },
  {
   "cell_type": "markdown",
   "metadata": {
    "id": "c5zjkJgwo0Lr"
   },
   "source": [
    "## Feature selection"
   ]
  },
  {
   "cell_type": "code",
   "execution_count": null,
   "metadata": {
    "colab": {
     "base_uri": "https://localhost:8080/",
     "height": 825
    },
    "id": "w5ASVRruo-Tm",
    "outputId": "549a2b11-38d1-4688-b9ee-9a7f94c156dc"
   },
   "outputs": [
    {
     "data": {
      "image/png": "[encoded data removed]",
      "text/plain": [
       "<Figure size 1200x600 with 2 Axes>"
      ]
     },
     "metadata": {},
     "output_type": "display_data"
    },
    {
     "name": "stdout",
     "output_type": "stream",
     "text": [
      "\n",
      "Number of components to retain 95% variance: 52\n",
      "\n",
      "\n",
      "Variance ratio explained by the first 10 principal components:\n",
      "PC1: 0.1850 (18.50%)\n",
      "PC2: 0.0798 (7.98%)\n",
      "PC3: 0.0672 (6.72%)\n",
      "PC4: 0.0444 (4.44%)\n",
      "PC5: 0.0348 (3.48%)\n",
      "PC6: 0.0312 (3.12%)\n",
      "PC7: 0.0263 (2.63%)\n",
      "PC8: 0.0247 (2.47%)\n",
      "PC9: 0.0245 (2.45%)\n",
      "PC10: 0.0237 (2.37%)\n"
     ]
    }
   ],
   "source": [
    "# PCA analysis\n",
    "from sklearn.decomposition import PCA\n",
    "\n",
    "# 1. Drop target from data to explore\n",
    "features_reduced = train_data.drop(columns=['SalePrice'])\n",
    "\n",
    "# 2. Apply PCA with all components, also plotting cumulative and explained variance\n",
    "# Fit and transform the data with PCA\n",
    "pca = PCA(n_components=None)  # Keeping all components to analyze explained variance\n",
    "pca.fit(features_reduced)\n",
    "pca_tr = pca.transform(features_reduced)\n",
    "\n",
    "# Explained variance and cumulative variance\n",
    "explained_variance = pca.explained_variance_ratio_\n",
    "cumulative_variance = np.cumsum(explained_variance)\n",
    "\n",
    "# Plotting explained variance and cumulative variance\n",
    "plt.figure(figsize=(12, 6))\n",
    "plt.subplot(1, 2, 1)\n",
    "plt.bar(range(1, len(explained_variance) + 1), explained_variance, alpha=0.5, align='center')\n",
    "plt.ylabel('Explained Variance Ratio')\n",
    "plt.xlabel('Principal Component')\n",
    "plt.title('Explained Variance per Principal Component')\n",
    "\n",
    "plt.subplot(1, 2, 2)\n",
    "plt.plot(range(1, len(cumulative_variance) + 1), cumulative_variance, marker='o', linestyle='--', color='b')\n",
    "plt.ylabel('Cumulative Explained Variance')\n",
    "plt.xlabel('Principal Component')\n",
    "plt.title('Cumulative Explained Variance')\n",
    "plt.axhline(y=0.90, color='r', linestyle='--', label='90% threshold')\n",
    "plt.legend()\n",
    "\n",
    "plt.tight_layout()\n",
    "plt.show()\n",
    "\n",
    "\n",
    "# 3. Reduce n_components to determine how many are the most descriptive ones (95% of variance)\n",
    "n_components = np.argmax(cumulative_variance >= 0.95) + 1\n",
    "print(f\"\\nNumber of components to retain 95% variance: {n_components}\\n\")\n",
    "\n",
    "# 4. Apply PCA with selected number of components\n",
    "pca = PCA(n_components=n_components)\n",
    "features_pca_reduced = pca.fit_transform(features_reduced)\n",
    "\n",
    "# 5. Get the explained variance ratio for each PC\n",
    "explained_variance_ratio = pca.explained_variance_ratio_\n",
    "print(\"\\nVariance ratio explained by the first 10 principal components:\")\n",
    "for i in range(10):\n",
    "    pc = f'PC{i+1}'\n",
    "    variance_ratio = explained_variance_ratio[i]\n",
    "    print(f\"{pc}: {variance_ratio:.4f} ({variance_ratio * 100:.2f}%)\")\n"
   ]
  },
  {
   "cell_type": "code",
   "execution_count": null,
   "metadata": {
    "id": "iepj4FWko-RA"
   },
   "outputs": [],
   "source": [
    "# Create df from pca results\n",
    "loadings = pd.DataFrame(pca.components_.T, columns=[f'PC{i+1}' for i in range(pca.n_components_)],\n",
    "                            index=features_reduced.columns)"
   ]
  },
  {
   "cell_type": "code",
   "execution_count": null,
   "metadata": {
    "colab": {
     "base_uri": "https://localhost:8080/"
    },
    "id": "OJOrzG5bo96F",
    "outputId": "1ee5dad1-8766-4e3c-80bb-222b64d25795"
   },
   "outputs": [
    {
     "name": "stdout",
     "output_type": "stream",
     "text": [
      "PCA selected features:\n",
      " ['HeatingQC_Gd', 'ExterCond_Gd', 'ScreenPorch', 'KitchenAbvGr', 'GarageCars', '3SsnPorch', 'GarageFinish_RFn', 'MiscVal', 'MSSubClass', 'MoSold', 'CentralAir', 'ExterCond_TA', 'GarageYrBlt', 'BsmtExposure_No', 'HalfBath', 'EnclosedPorch', 'YrSold', 'BsmtFinSF2', 'BsmtHalfBath', 'LowQualFinSF', 'OverallQual', 'LotConfig_Inside', 'Fireplaces', 'LivingSpace', 'WoodDeckSF', 'OverallCond', 'PoolArea', 'LotShape_Reg', 'Street', 'OpenPorchSF', 'LotArea', 'MasVnrArea', 'GarageArea', 'LotFrontage', 'Remodel_status', 'BsmtUnfSF']\n",
      "36\n"
     ]
    }
   ],
   "source": [
    "## PCA selection approach:\n",
    "# Set a threshold for absolute loading values (0.4) and select features from all PCA over the threshold.\n",
    "\n",
    "threshold = 0.35\n",
    "pca_selection_features = []\n",
    "\n",
    "for i in range(pca.n_components_):\n",
    "    pc = f'PC{i+1}'\n",
    "    component_loadings = loadings[pc].abs() # take a pc\n",
    "    th_applied_features = component_loadings[component_loadings > threshold].index.tolist() # apply threshold\n",
    "    pca_selection_features.extend(th_applied_features)\n",
    "\n",
    "pca_selection_features = list(set(pca_selection_features))\n",
    "print(f'PCA selected features:\\n {pca_selection_features}\\n{len(pca_selection_features)}')\n"
   ]
  },
  {
   "cell_type": "code",
   "execution_count": null,
   "metadata": {
    "colab": {
     "base_uri": "https://localhost:8080/",
     "height": 653
    },
    "id": "gSJjFLFmWMFO",
    "outputId": "4b20ddce-0ffe-4953-9208-88be8578be95"
   },
   "outputs": [
    {
     "name": "stdout",
     "output_type": "stream",
     "text": [
      "Optimal number of features based on AIC: 32\n",
      "Selected features based on AIC: ['HeatingQC_Gd', 'ExterCond_Gd', 'ScreenPorch', 'KitchenAbvGr', 'GarageCars', '3SsnPorch', 'GarageFinish_RFn', 'MiscVal', 'MSSubClass', 'MoSold', 'CentralAir', 'ExterCond_TA', 'GarageYrBlt', 'BsmtExposure_No', 'HalfBath', 'EnclosedPorch', 'YrSold', 'BsmtFinSF2', 'BsmtHalfBath', 'LowQualFinSF', 'OverallQual', 'LotConfig_Inside', 'Fireplaces', 'LivingSpace', 'WoodDeckSF', 'OverallCond', 'PoolArea', 'LotShape_Reg', 'Street', 'OpenPorchSF', 'LotArea', 'MasVnrArea']\n",
      "Optimal number of features based on BIC: 32\n",
      "Selected features based on BIC: ['HeatingQC_Gd', 'ExterCond_Gd', 'ScreenPorch', 'KitchenAbvGr', 'GarageCars', '3SsnPorch', 'GarageFinish_RFn', 'MiscVal', 'MSSubClass', 'MoSold', 'CentralAir', 'ExterCond_TA', 'GarageYrBlt', 'BsmtExposure_No', 'HalfBath', 'EnclosedPorch', 'YrSold', 'BsmtFinSF2', 'BsmtHalfBath', 'LowQualFinSF', 'OverallQual', 'LotConfig_Inside', 'Fireplaces', 'LivingSpace', 'WoodDeckSF', 'OverallCond', 'PoolArea', 'LotShape_Reg', 'Street', 'OpenPorchSF', 'LotArea', 'MasVnrArea']\n"
     ]
    },
    {
     "data": {
      "image/png": "[encoded data removed]",
      "text/plain": [
       "<Figure size 1000x600 with 1 Axes>"
      ]
     },
     "metadata": {},
     "output_type": "display_data"
    }
   ],
   "source": [
    "# Apply multiple regression tests to calculate AIC/BIC values\n",
    "# and make feature selection based on it\n",
    "import statsmodels.api as sm\n",
    "\n",
    "# Ensure target variable 'y' is numeric\n",
    "y = pd.to_numeric(train_data['SalePrice'], errors='coerce')\n",
    "\n",
    "# Store AIC and BIC values for each model\n",
    "aic_values = []\n",
    "bic_values = []\n",
    "\n",
    "# Incrementally add features and calculate AIC and BIC\n",
    "for i in range(1, len(pca_selection_features)):\n",
    "    # Select the top `i` features\n",
    "    selected_features = pca_selection_features[:i]\n",
    "\n",
    "    X = features_reduced[selected_features]\n",
    "    X = X.select_dtypes(include=[np.number])  # Remove non-numeric columns\n",
    "\n",
    "    # Add a constant to the model for the intercept term\n",
    "    X = sm.add_constant(X)\n",
    "    # Fit an OLS regression model and calculate AIC and BIC\n",
    "    model = sm.OLS(y, X, missing='drop').fit()  # Use missing='drop' to handle NaNs\n",
    "    aic_values.append(model.aic)\n",
    "    bic_values.append(model.bic)\n",
    "\n",
    "# Find the optimal number of features based on minimum AIC and BIC\n",
    "optimal_features_aic = pca_selection_features[:np.argmin(aic_values) + 1]\n",
    "optimal_features_bic = pca_selection_features[:np.argmin(bic_values) + 1]\n",
    "\n",
    "print(\"Optimal number of features based on AIC:\", len(optimal_features_aic))\n",
    "print(\"Selected features based on AIC:\", optimal_features_aic)\n",
    "\n",
    "print(\"Optimal number of features based on BIC:\", len(optimal_features_bic))\n",
    "print(\"Selected features based on BIC:\", optimal_features_bic)\n",
    "\n",
    "# Plot AIC and BIC values for each model to visualize the selection\n",
    "plt.figure(figsize=(10, 6))\n",
    "plt.plot(range(1, len(aic_values) + 1), aic_values, label='AIC', marker='o')\n",
    "plt.plot(range(1, len(bic_values) + 1), bic_values, label='BIC', marker='o')\n",
    "plt.xlabel('Number of Features')\n",
    "plt.ylabel('Criterion Value')\n",
    "plt.title('AIC and BIC for Model Selection')\n",
    "plt.legend()\n",
    "plt.grid(True)\n",
    "plt.show()"
   ]
  },
  {
   "cell_type": "markdown",
   "metadata": {
    "id": "kFtp6UVzmt9J"
   },
   "source": [
    "## Model training\n",
    "\n",
    "- Implemented 2 different models:\n",
    "\t- Spline fit with Ridge regression\n",
    "\t- LinearGAM with smoothing splines\n",
    "- Tried adaptive spline smoothing, but I had unsolved errors in the end\n",
    "\n"
   ]
  },
  {
   "cell_type": "code",
   "execution_count": null,
   "metadata": {
    "colab": {
     "base_uri": "https://localhost:8080/"
    },
    "id": "ANUwHyCO3W_q",
    "outputId": "19697082-6d36-441b-bade-9b16fa25be1a"
   },
   "outputs": [
    {
     "name": "stdout",
     "output_type": "stream",
     "text": [
      "Requirement already satisfied: pygam in /usr/local/lib/python3.10/dist-packages (0.9.1)\n",
      "Requirement already satisfied: numpy>=1.25 in /usr/local/lib/python3.10/dist-packages (from pygam) (1.26.4)\n",
      "Requirement already satisfied: progressbar2<5.0.0,>=4.2.0 in /usr/local/lib/python3.10/dist-packages (from pygam) (4.5.0)\n",
      "Requirement already satisfied: scipy<1.12,>=1.11.1 in /usr/local/lib/python3.10/dist-packages (from pygam) (1.11.4)\n",
      "Requirement already satisfied: python-utils>=3.8.1 in /usr/local/lib/python3.10/dist-packages (from progressbar2<5.0.0,>=4.2.0->pygam) (3.9.1)\n",
      "Requirement already satisfied: typing_extensions>3.10.0.2 in /usr/local/lib/python3.10/dist-packages (from python-utils>=3.8.1->progressbar2<5.0.0,>=4.2.0->pygam) (4.12.2)\n"
     ]
    }
   ],
   "source": [
    "!pip install pygam"
   ]
  },
  {
   "cell_type": "code",
   "execution_count": null,
   "metadata": {
    "id": "4hcnltzb-oLm"
   },
   "outputs": [],
   "source": [
    "from sklearn.model_selection import train_test_split, GridSearchCV, ParameterGrid\n",
    "from sklearn.metrics import mean_squared_error, r2_score, mean_squared_log_error, root_mean_squared_log_error\n",
    "from sklearn.preprocessing import SplineTransformer\n",
    "from sklearn.linear_model import LinearRegression, Ridge\n",
    "from sklearn.pipeline import Pipeline\n",
    "from scipy.interpolate import UnivariateSpline\n",
    "\n",
    "from pygam import LinearGAM, s\n",
    "from pygam.terms import TermList"
   ]
  },
  {
   "cell_type": "code",
   "execution_count": null,
   "metadata": {
    "colab": {
     "base_uri": "https://localhost:8080/"
    },
    "id": "M_Q7ZHPjQ4jE",
    "outputId": "0cb0c059-fcc0-4ee9-acfd-534d54b65640"
   },
   "outputs": [
    {
     "name": "stdout",
     "output_type": "stream",
     "text": [
      "X_train shape: (1022, 108), y_train shape: (1022,)\n",
      "X_test shape: (438, 108), y_test shape: (438,)\n"
     ]
    }
   ],
   "source": [
    "# Using custom competition data for training and test\n",
    "# (also log transform target to handle skewness)\n",
    "\n",
    "# X_train = train_data[pca_selection_features]\n",
    "X_train = train_data.drop(columns=['SalePrice'])\n",
    "y_train = np.log1p(train_data['SalePrice']) # log1p handles log(0) cases by computing log(1 + x)\n",
    "\n",
    "# X_test = test_data[pca_selection_features]\n",
    "X_test = test_data.drop(columns=['SalePrice'])\n",
    "y_test = np.log1p(test_data['SalePrice'])\n",
    "\n",
    "# Check data shape\n",
    "print(f\"X_train shape: {X_train.shape}, y_train shape: {y_train.shape}\")\n",
    "print(f\"X_test shape: {X_test.shape}, y_test shape: {y_test.shape}\")"
   ]
  },
  {
   "cell_type": "code",
   "execution_count": null,
   "metadata": {
    "id": "EOS2yfGJObRE"
   },
   "outputs": [],
   "source": [
    "## I started to apply adaptive spline smoothing to features, but\n",
    "## I had issues with, and could not identify what went wrong.\n",
    "\n",
    "# def smooth_features_adaptive(X, y, weights):\n",
    "#     \"\"\"\n",
    "#     Smooth features using UnivariateSpline with adaptive weights.\n",
    "#     \"\"\"\n",
    "#     smoothed_X = np.zeros_like(X)\n",
    "#     for i in range(X.shape[1]):\n",
    "#         # Sort the data by the feature values\n",
    "#         sorted_indices = np.argsort(X[:, i])\n",
    "#         x_sorted = X[sorted_indices, i]\n",
    "#         y_sorted = y[sorted_indices]\n",
    "#         weights_sorted = weights[sorted_indices]\n",
    "\n",
    "#         # Fit the spline with sorted data\n",
    "#         spline = UnivariateSpline(x_sorted, y_sorted, w=weights_sorted)\n",
    "#         smoothed_X[:, i] = spline(X[:, i])  # Evaluate the spline on the original feature values\n",
    "#     return smoothed_X\n",
    "\n",
    "# # Smooth the features with adaptive weights\n",
    "# adaptive_s = 1 / (1 + np.abs(y_train - np.median(y_train)))\n",
    "# X_smoothed_adaptive = smooth_features_adaptive(X_train.values, y_train.values, adaptive_s)"
   ]
  },
  {
   "cell_type": "code",
   "execution_count": null,
   "metadata": {
    "colab": {
     "base_uri": "https://localhost:8080/"
    },
    "id": "-77xpGTwLeNT",
    "outputId": "b1267678-6db2-48d3-ff13-dea933198f9c"
   },
   "outputs": [
    {
     "name": "stdout",
     "output_type": "stream",
     "text": [
      "Best Parameters: {'ridge__alpha': 10, 'spline__degree': 2, 'spline__n_knots': 5}\n",
      "Optimized Spline Model MSE: 0.017435501137435173\n",
      "Optimized Spline Model RMSLE: 0.010373513670854448\n",
      "Optimized Spline Model R2: 0.8972229661747989\n"
     ]
    }
   ],
   "source": [
    "# ------ Spline fitting and Ridge regression --------\n",
    "\n",
    "# Define a pipeline with spline transformation and ridge regression\n",
    "pipeline = Pipeline([\n",
    "    ('spline', SplineTransformer(include_bias=False)),  # Apply spline transformation\n",
    "    ('ridge', Ridge())  # Ridge regression on transformed data\n",
    "])\n",
    "\n",
    "# Set up the parameter grid\n",
    "param_grid = {\n",
    "    'spline__n_knots': [3, 5, 7, 9, 11, 13, 15],  # Varying the number of knots for each feature\n",
    "    'spline__degree': [2, 3],         # Test quadratic and cubic splines\n",
    "    'ridge__alpha': [0.01, 0.1, 1, 10, 100]  # Regularization parameter\n",
    "}\n",
    "\n",
    "# Perform grid search cross-validation to find the best hyperparameters\n",
    "grid_search = GridSearchCV(pipeline, param_grid, scoring='neg_root_mean_squared_log_error', cv=5)\n",
    "grid_search.fit(X_train, y_train)\n",
    "\n",
    "# Get the best model and its parameters\n",
    "best_model = grid_search.best_estimator_\n",
    "best_params = grid_search.best_params_\n",
    "\n",
    "# Use the best model to make predictions\n",
    "y_pred_optimized = best_model.predict(X_test)\n",
    "\n",
    "# Compute performance metrics\n",
    "mse_optimized_spline = mean_squared_error(y_test, y_pred_optimized)\n",
    "rmsle_optimized_spline = root_mean_squared_log_error(y_test, y_pred_optimized)\n",
    "r2_optimized_spline = r2_score(y_test, y_pred_optimized)\n",
    "\n",
    "# Display results\n",
    "print(\"Best Parameters:\", best_params)\n",
    "print(\"Optimized Spline Model MSE:\", mse_optimized_spline)\n",
    "print(\"Optimized Spline Model RMSLE:\", rmsle_optimized_spline)\n",
    "print(\"Optimized Spline Model R2:\", r2_optimized_spline)"
   ]
  },
  {
   "cell_type": "code",
   "execution_count": null,
   "metadata": {
    "colab": {
     "base_uri": "https://localhost:8080/"
    },
    "id": "7-YEZb5vQ4gu",
    "outputId": "edcac983-f20a-43bc-cf8e-13ee6085176f"
   },
   "outputs": [
    {
     "name": "stdout",
     "output_type": "stream",
     "text": [
      "Best GAM model MSE (with smoothing splines): 0.0173\n",
      "Best GAM model RMSLE (with smoothing splines): 0.0103\n",
      "Best GAM model R2 (with smoothing splines): 0.8979\n"
     ]
    }
   ],
   "source": [
    "# ------ Linear GAM with Smoothing Splines --------\n",
    "\n",
    "# Create LinearGAM with smoothing splines of given amount of features\n",
    "num_of_features = X_train.shape[1] - 1\n",
    "spline_terms = TermList(*[s(i) for i in range(num_of_features)]) # splines for each feature\n",
    "gam = LinearGAM(spline_terms)\n",
    "\n",
    "# (The module's gridsearch method did not work properly having cloning issues, so I replaced this optionally with ParameterGrid)\n",
    "gam_params = {'lam': [0.01, 0.1, 1, 10, 100], 'n_splines': [5, 10, 15, 20]}  # Grid search over lambda and n_splines\n",
    "\n",
    "# Track best metrics\n",
    "best_gam = None\n",
    "best_gam_mse = float('inf')\n",
    "best_gam_rmsle = float('inf')\n",
    "best_r2 = float('inf')\n",
    "\n",
    "# Using ParameterGrid to manually iterate over parameter combinations for GAM\n",
    "for params in ParameterGrid(gam_params):\n",
    "    gam.set_params(**params)  # Set the current parameter combination\n",
    "    gam.fit(X_train, y_train)  # Fit the model\n",
    "\n",
    "    # Make prediction with LinearGAM\n",
    "    y_pred = gam.predict(X_test)\n",
    "\n",
    "    # Evaluate the predictions on metrics\n",
    "    mse = mean_squared_error(y_test, y_pred)\n",
    "    rmsle = root_mean_squared_log_error(y_test, y_pred)\n",
    "    r2 = r2_score(y_test, y_pred)\n",
    "\n",
    "    # Track best metrics\n",
    "    if mse < best_gam_mse:\n",
    "        best_gam_mse = mse\n",
    "        best_gam_rmsle = rmsle\n",
    "        best_gam = gam\n",
    "        best_r2 = r2\n",
    "\n",
    "# Print results for GAM with smoothing splines\n",
    "print(f\"Best GAM model MSE (with smoothing splines): {best_gam_mse:.4f}\")\n",
    "print(f\"Best GAM model RMSLE (with smoothing splines): {best_gam_rmsle:.4f}\")\n",
    "print(f\"Best GAM model R2 (with smoothing splines): {best_r2:.4f}\")\n"
   ]
  },
  {
   "cell_type": "code",
   "execution_count": null,
   "metadata": {
    "colab": {
     "base_uri": "https://localhost:8080/"
    },
    "id": "DyZnchDsQmjA",
    "outputId": "0fa1a596-d3b0-44ca-9a49-411177acb027"
   },
   "outputs": [
    {
     "name": "stdout",
     "output_type": "stream",
     "text": [
      "Combined Results:\n",
      "          Model       MSE     RMSLE        R2\n",
      "0  Spline model  0.017436  0.010374  0.897223\n",
      "1     LinearGAM  0.017323  0.010306  0.897885\n"
     ]
    }
   ],
   "source": [
    "# Combined results\n",
    "results = {\n",
    "    \"Model\": [\"Spline model\", \"LinearGAM\"],\n",
    "    \"MSE\": [mse_optimized_spline, best_gam_mse],\n",
    "    \"RMSLE\": [rmsle_optimized_spline, best_gam_rmsle],\n",
    "    \"R2\": [r2_optimized_spline, best_r2]\n",
    "}\n",
    "\n",
    "# Print combined results\n",
    "print(\"Combined Results:\")\n",
    "print(pd.DataFrame(results))"
   ]
  },
  {
   "cell_type": "code",
   "execution_count": null,
   "metadata": {
    "id": "aaI5tHzTeEWR"
   },
   "outputs": [],
   "source": [
    "# Got different results for PCA selection and the whole dataset:\n",
    "\n",
    "# With PCA selection (52 features with 95% of explained variance):\n",
    "# Combined Results:\n",
    "#           Model       MSE     RMSLE        R2\n",
    "# 0  Spline model  0.018828  0.010750  0.889012\n",
    "# 1     LinearGAM  0.018567  0.010665  0.890551\n",
    "\n",
    "# All features (109 features):\n",
    "# Combined Results:\n",
    "#           Model       MSE     RMSLE        R2\n",
    "# 0  Spline model  0.017436  0.010374  0.897223\n",
    "# 1     LinearGAM  0.017323  0.010306  0.897885\n"
   ]
  }
 ],
 "metadata": {
  "colab": {
   "provenance": [],
   "toc_visible": true
  },
  "kernelspec": {
   "display_name": "Python 3 (ipykernel)",
   "language": "python",
   "name": "python3"
  },
  "language_info": {
   "codemirror_mode": {
    "name": "ipython",
    "version": 3
   },
   "file_extension": ".py",
   "mimetype": "text/x-python",
   "name": "python",
   "nbconvert_exporter": "python",
   "pygments_lexer": "ipython3",
   "version": "3.9.12"
  }
 },
 "nbformat": 4,
 "nbformat_minor": 1
}
